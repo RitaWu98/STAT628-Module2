{
 "cells": [
  {
   "cell_type": "code",
   "execution_count": 2,
   "metadata": {},
   "outputs": [
    {
     "data": {
      "text/plain": [
       "\n",
       "Call:\n",
       "lm(formula = BODYFAT ~ ., data = data)\n",
       "\n",
       "Residuals:\n",
       "     Min       1Q   Median       3Q      Max \n",
       "-10.2573  -2.5919  -0.1031   2.9040   9.2754 \n",
       "\n",
       "Coefficients:\n",
       "              Estimate Std. Error t value Pr(>|t|)    \n",
       "(Intercept) -1.519e+01  1.611e+01  -0.943   0.3467    \n",
       "AGE          5.688e-02  3.003e-02   1.894   0.0594 .  \n",
       "WEIGHT      -8.130e-02  4.989e-02  -1.630   0.1045    \n",
       "HEIGHT      -5.307e-02  1.034e-01  -0.513   0.6084    \n",
       "ADIPOSITY    6.101e-02  2.780e-01   0.219   0.8265    \n",
       "NECK        -4.450e-01  2.184e-01  -2.037   0.0427 *  \n",
       "CHEST       -3.087e-02  9.779e-02  -0.316   0.7526    \n",
       "ABDOMEN      8.790e-01  8.545e-02  10.286   <2e-16 ***\n",
       "HIP         -2.031e-01  1.371e-01  -1.481   0.1398    \n",
       "THIGH        2.274e-01  1.356e-01   1.677   0.0948 .  \n",
       "KNEE        -9.927e-04  2.298e-01  -0.004   0.9966    \n",
       "ANKLE        1.572e-01  2.076e-01   0.757   0.4496    \n",
       "BICEPS       1.485e-01  1.600e-01   0.928   0.3543    \n",
       "FOREARM      4.297e-01  1.849e-01   2.324   0.0210 *  \n",
       "WRIST       -1.479e+00  4.967e-01  -2.978   0.0032 ** \n",
       "---\n",
       "Signif. codes:  0 '***' 0.001 '**' 0.01 '*' 0.05 '.' 0.1 ' ' 1\n",
       "\n",
       "Residual standard error: 3.996 on 237 degrees of freedom\n",
       "Multiple R-squared:  0.749,\tAdjusted R-squared:  0.7342 \n",
       "F-statistic: 50.52 on 14 and 237 DF,  p-value: < 2.2e-16\n"
      ]
     },
     "metadata": {},
     "output_type": "display_data"
    },
    {
     "name": "stdout",
     "output_type": "stream",
     "text": [
      "Start:  AIC=765.66\n",
      "BODYFAT ~ AGE + WEIGHT + HEIGHT + ADIPOSITY + NECK + CHEST + \n",
      "    ABDOMEN + HIP + THIGH + KNEE + ANKLE + BICEPS + FOREARM + \n",
      "    WRIST\n",
      "\n",
      "            Df Sum of Sq    RSS    AIC\n",
      "- KNEE       1      0.00 3784.4 760.13\n",
      "- ADIPOSITY  1      0.77 3785.1 760.18\n",
      "- CHEST      1      1.59 3786.0 760.24\n",
      "- HEIGHT     1      4.20 3788.6 760.41\n",
      "- ANKLE      1      9.16 3793.5 760.74\n",
      "- BICEPS     1     13.75 3798.1 761.05\n",
      "- HIP        1     35.04 3819.4 762.45\n",
      "- WEIGHT     1     42.41 3826.8 762.94\n",
      "- THIGH      1     44.92 3829.3 763.11\n",
      "- AGE        1     57.29 3841.7 763.92\n",
      "- NECK       1     66.28 3850.6 764.51\n",
      "<none>                   3784.4 765.66\n",
      "- FOREARM    1     86.26 3870.6 765.81\n",
      "- WRIST      1    141.64 3926.0 769.39\n",
      "- ABDOMEN    1   1689.43 5473.8 853.14\n",
      "\n",
      "Step:  AIC=760.13\n",
      "BODYFAT ~ AGE + WEIGHT + HEIGHT + ADIPOSITY + NECK + CHEST + \n",
      "    ABDOMEN + HIP + THIGH + ANKLE + BICEPS + FOREARM + WRIST\n",
      "\n",
      "            Df Sum of Sq    RSS    AIC\n",
      "- ADIPOSITY  1      0.81 3785.2 754.66\n",
      "- CHEST      1      1.59 3786.0 754.71\n",
      "- HEIGHT     1      4.21 3788.6 754.88\n",
      "- ANKLE      1      9.49 3793.9 755.23\n",
      "- BICEPS     1     13.79 3798.2 755.52\n",
      "- HIP        1     35.25 3819.6 756.94\n",
      "- WEIGHT     1     45.74 3830.1 757.63\n",
      "- THIGH      1     49.30 3833.7 757.86\n",
      "- AGE        1     60.80 3845.2 758.62\n",
      "- NECK       1     67.09 3851.5 759.03\n",
      "<none>                   3784.4 760.13\n",
      "- FOREARM    1     86.97 3871.3 760.33\n",
      "- WRIST      1    142.56 3926.9 763.92\n",
      "+ KNEE       1      0.00 3784.4 765.66\n",
      "- ABDOMEN    1   1689.58 5473.9 847.62\n",
      "\n",
      "Step:  AIC=754.66\n",
      "BODYFAT ~ AGE + WEIGHT + HEIGHT + NECK + CHEST + ABDOMEN + HIP + \n",
      "    THIGH + ANKLE + BICEPS + FOREARM + WRIST\n",
      "\n",
      "            Df Sum of Sq    RSS    AIC\n",
      "- CHEST      1      1.02 3786.2 749.19\n",
      "- HEIGHT     1      8.56 3793.7 749.70\n",
      "- ANKLE      1     10.17 3795.4 749.80\n",
      "- BICEPS     1     14.99 3800.2 750.12\n",
      "- HIP        1     34.44 3819.6 751.41\n",
      "- WEIGHT     1     45.36 3830.5 752.13\n",
      "- THIGH      1     50.96 3836.1 752.50\n",
      "- AGE        1     60.12 3845.3 753.10\n",
      "- NECK       1     66.66 3851.8 753.53\n",
      "<none>                   3785.2 754.66\n",
      "- FOREARM    1     86.98 3872.2 754.85\n",
      "- WRIST      1    142.38 3927.6 758.43\n",
      "+ ADIPOSITY  1      0.81 3784.4 760.13\n",
      "+ KNEE       1      0.04 3785.1 760.18\n",
      "- ABDOMEN    1   1954.93 5740.1 854.06\n",
      "\n",
      "Step:  AIC=749.19\n",
      "BODYFAT ~ AGE + WEIGHT + HEIGHT + NECK + ABDOMEN + HIP + THIGH + \n",
      "    ANKLE + BICEPS + FOREARM + WRIST\n",
      "\n",
      "            Df Sum of Sq    RSS    AIC\n",
      "- HEIGHT     1      7.67 3793.9 744.18\n",
      "- ANKLE      1     10.45 3796.6 744.36\n",
      "- BICEPS     1     14.42 3800.6 744.62\n",
      "- HIP        1     33.43 3819.6 745.88\n",
      "- THIGH      1     55.76 3842.0 747.35\n",
      "- AGE        1     59.93 3846.1 747.62\n",
      "- WEIGHT     1     60.73 3846.9 747.68\n",
      "- NECK       1     67.57 3853.8 748.12\n",
      "<none>                   3786.2 749.19\n",
      "- FOREARM    1     85.96 3872.2 749.32\n",
      "- WRIST      1    141.88 3928.1 752.94\n",
      "+ CHEST      1      1.02 3785.2 754.66\n",
      "+ ADIPOSITY  1      0.24 3786.0 754.71\n",
      "+ KNEE       1      0.01 3786.2 754.72\n",
      "- ABDOMEN    1   2478.69 6264.9 870.57\n",
      "\n",
      "Step:  AIC=744.18\n",
      "BODYFAT ~ AGE + WEIGHT + NECK + ABDOMEN + HIP + THIGH + ANKLE + \n",
      "    BICEPS + FOREARM + WRIST\n",
      "\n",
      "            Df Sum of Sq    RSS    AIC\n",
      "- ANKLE      1     11.20 3805.1 739.39\n",
      "- BICEPS     1     16.21 3810.1 739.72\n",
      "- HIP        1     28.16 3822.0 740.51\n",
      "- THIGH      1     63.66 3857.5 742.84\n",
      "- NECK       1     65.45 3859.3 742.96\n",
      "- AGE        1     66.23 3860.1 743.01\n",
      "<none>                   3793.9 744.18\n",
      "- FOREARM    1     88.14 3882.0 744.43\n",
      "- WEIGHT     1    102.94 3896.8 745.39\n",
      "- WRIST      1    151.52 3945.4 748.51\n",
      "+ HEIGHT     1      7.67 3786.2 749.19\n",
      "+ ADIPOSITY  1      3.72 3790.2 749.46\n",
      "+ KNEE       1      0.17 3793.7 749.69\n",
      "+ CHEST      1      0.13 3793.7 749.70\n",
      "- ABDOMEN    1   2737.19 6531.1 875.53\n",
      "\n",
      "Step:  AIC=739.39\n",
      "BODYFAT ~ AGE + WEIGHT + NECK + ABDOMEN + HIP + THIGH + BICEPS + \n",
      "    FOREARM + WRIST\n",
      "\n",
      "            Df Sum of Sq    RSS    AIC\n",
      "- BICEPS     1     14.91 3820.0 734.85\n",
      "- HIP        1     29.32 3834.4 735.79\n",
      "- AGE        1     63.17 3868.2 738.01\n",
      "- THIGH      1     66.76 3871.8 738.24\n",
      "- NECK       1     74.16 3879.2 738.72\n",
      "<none>                   3805.1 739.39\n",
      "- FOREARM    1     87.57 3892.6 739.59\n",
      "- WEIGHT     1     92.42 3897.5 739.91\n",
      "- WRIST      1    140.36 3945.4 742.99\n",
      "+ ANKLE      1     11.20 3793.9 744.18\n",
      "+ HEIGHT     1      8.43 3796.6 744.36\n",
      "+ ADIPOSITY  1      4.95 3800.1 744.59\n",
      "+ CHEST      1      0.22 3804.9 744.90\n",
      "+ KNEE       1      0.02 3805.1 744.92\n",
      "- ABDOMEN    1   2740.72 6545.8 870.57\n",
      "\n",
      "Step:  AIC=734.85\n",
      "BODYFAT ~ AGE + WEIGHT + NECK + ABDOMEN + HIP + THIGH + FOREARM + \n",
      "    WRIST\n",
      "\n",
      "            Df Sum of Sq    RSS    AIC\n",
      "- HIP        1     33.23 3853.2 731.50\n",
      "- NECK       1     67.79 3887.8 733.75\n",
      "- AGE        1     67.88 3887.9 733.75\n",
      "- WEIGHT     1     81.50 3901.5 734.64\n",
      "<none>                   3820.0 734.85\n",
      "- THIGH      1     90.34 3910.3 735.21\n",
      "- FOREARM    1    122.99 3943.0 737.30\n",
      "- WRIST      1    139.46 3959.4 738.35\n",
      "+ BICEPS     1     14.91 3805.1 739.39\n",
      "+ HEIGHT     1     10.17 3809.8 739.70\n",
      "+ ANKLE      1      9.90 3810.1 739.72\n",
      "+ ADIPOSITY  1      8.10 3811.9 739.84\n",
      "+ KNEE       1      0.06 3819.9 740.37\n",
      "+ CHEST      1      0.00 3820.0 740.37\n",
      "- ABDOMEN    1   2726.49 6546.5 865.06\n",
      "\n",
      "Step:  AIC=731.5\n",
      "BODYFAT ~ AGE + WEIGHT + NECK + ABDOMEN + THIGH + FOREARM + WRIST\n",
      "\n",
      "            Df Sum of Sq    RSS    AIC\n",
      "- NECK       1     52.35 3905.6 729.37\n",
      "- THIGH      1     60.16 3913.4 729.87\n",
      "- AGE        1     73.42 3926.6 730.73\n",
      "<none>                   3853.2 731.50\n",
      "+ HIP        1     33.23 3820.0 734.85\n",
      "- WRIST      1    138.66 3991.9 734.88\n",
      "- FOREARM    1    144.79 3998.0 735.26\n",
      "+ BICEPS     1     18.82 3834.4 735.79\n",
      "+ ANKLE      1     10.91 3842.3 736.31\n",
      "+ HEIGHT     1      3.63 3849.6 736.79\n",
      "+ ADIPOSITY  1      3.54 3849.7 736.80\n",
      "+ CHEST      1      0.61 3852.6 736.99\n",
      "+ KNEE       1      0.22 3853.0 737.01\n",
      "- WEIGHT     1    200.74 4054.0 738.77\n",
      "- ABDOMEN    1   2763.58 6616.8 862.23\n",
      "\n",
      "Step:  AIC=729.37\n",
      "BODYFAT ~ AGE + WEIGHT + ABDOMEN + THIGH + FOREARM + WRIST\n",
      "\n",
      "            Df Sum of Sq    RSS    AIC\n",
      "- THIGH      1     59.26 3964.8 727.64\n",
      "- AGE        1     62.84 3968.4 727.86\n",
      "<none>                   3905.6 729.37\n",
      "- FOREARM    1    117.94 4023.5 731.34\n",
      "+ NECK       1     52.35 3853.2 731.50\n",
      "+ ANKLE      1     18.15 3887.4 733.73\n",
      "+ HIP        1     17.79 3887.8 733.75\n",
      "+ BICEPS     1     11.30 3894.3 734.17\n",
      "+ HEIGHT     1      3.31 3902.3 734.69\n",
      "+ KNEE       1      0.98 3904.6 734.84\n",
      "+ ADIPOSITY  1      0.48 3905.1 734.87\n",
      "+ CHEST      1      0.00 3905.6 734.90\n",
      "- WRIST      1    201.26 4106.8 736.50\n",
      "- WEIGHT     1    281.83 4187.4 741.40\n",
      "- ABDOMEN    1   2733.54 6639.1 857.54\n",
      "\n",
      "Step:  AIC=727.64\n",
      "BODYFAT ~ AGE + WEIGHT + ABDOMEN + FOREARM + WRIST\n",
      "\n",
      "            Df Sum of Sq    RSS    AIC\n",
      "- AGE        1     29.48 3994.3 723.97\n",
      "<none>                   3964.8 727.64\n",
      "+ THIGH      1     59.26 3905.6 729.37\n",
      "+ NECK       1     51.45 3913.4 729.87\n",
      "- FOREARM    1    127.92 4092.7 730.11\n",
      "+ BICEPS     1     26.72 3938.1 731.46\n",
      "+ ANKLE      1     20.27 3944.6 731.87\n",
      "+ HEIGHT     1     15.70 3949.1 732.16\n",
      "+ KNEE       1     11.10 3953.7 732.46\n",
      "+ ADIPOSITY  1      6.40 3958.4 732.76\n",
      "+ CHEST      1      2.58 3962.2 733.00\n",
      "+ HIP        1      0.22 3964.6 733.15\n",
      "- WRIST      1    213.94 4178.8 735.35\n",
      "- WEIGHT     1    223.34 4188.2 735.92\n",
      "- ABDOMEN    1   3031.58 6996.4 865.23\n",
      "\n",
      "Step:  AIC=723.97\n",
      "BODYFAT ~ WEIGHT + ABDOMEN + FOREARM + WRIST\n",
      "\n",
      "            Df Sum of Sq    RSS    AIC\n",
      "<none>                   3994.3 723.97\n",
      "- FOREARM    1     113.9 4108.2 725.53\n",
      "+ NECK       1      43.7 3950.6 726.73\n",
      "+ AGE        1      29.5 3964.8 727.64\n",
      "+ BICEPS     1      26.1 3968.2 727.85\n",
      "+ THIGH      1      25.9 3968.4 727.86\n",
      "+ ANKLE      1      15.8 3978.6 728.51\n",
      "+ HEIGHT     1      15.7 3978.6 728.51\n",
      "+ KNEE       1      14.0 3980.3 728.62\n",
      "+ ADIPOSITY  1       4.6 3989.7 729.21\n",
      "+ HIP        1       3.1 3991.2 729.31\n",
      "+ CHEST      1       0.6 3993.8 729.47\n",
      "- WRIST      1     186.4 4180.7 729.94\n",
      "- WEIGHT     1     485.5 4479.8 747.35\n",
      "- ABDOMEN    1    5093.3 9087.6 925.60\n"
     ]
    },
    {
     "data": {
      "text/plain": [
       "\n",
       "Call:\n",
       "lm(formula = BODYFAT ~ WEIGHT + ABDOMEN + FOREARM + WRIST, data = data)\n",
       "\n",
       "Residuals:\n",
       "    Min      1Q  Median      3Q     Max \n",
       "-9.8002 -2.8728 -0.1545  2.8980  8.3845 \n",
       "\n",
       "Coefficients:\n",
       "             Estimate Std. Error t value Pr(>|t|)    \n",
       "(Intercept) -31.29679    6.70886  -4.665 5.06e-06 ***\n",
       "WEIGHT       -0.12557    0.02292  -5.479 1.05e-07 ***\n",
       "ABDOMEN       0.92137    0.05192  17.747  < 2e-16 ***\n",
       "FOREARM       0.44638    0.16822   2.654 0.008480 ** \n",
       "WRIST        -1.39177    0.40991  -3.395 0.000799 ***\n",
       "---\n",
       "Signif. codes:  0 '***' 0.001 '**' 0.01 '*' 0.05 '.' 0.1 ' ' 1\n",
       "\n",
       "Residual standard error: 4.021 on 247 degrees of freedom\n",
       "Multiple R-squared:  0.7351,\tAdjusted R-squared:  0.7308 \n",
       "F-statistic: 171.4 on 4 and 247 DF,  p-value: < 2.2e-16\n"
      ]
     },
     "metadata": {},
     "output_type": "display_data"
    }
   ],
   "source": [
    "data0 = read.csv(\"C:\\\\Users\\\\pc\\\\Desktop\\\\628\\\\Module2\\\\BodyFat.csv\")\n",
    "data0 = data0[,-1]\n",
    "data=data0[-2]\n",
    "# lm all\n",
    "data.lm <- lm(BODYFAT~.,data)\n",
    "summary(data.lm)\n",
    "# lm bic\n",
    "data.bic <- step(data.lm, direction = \"both\", k = log(length(data[,1])))\n",
    "summary(data.bic)\n",
    "\n",
    "\n",
    "\n"
   ]
  },
  {
   "cell_type": "code",
   "execution_count": 3,
   "metadata": {},
   "outputs": [
    {
     "data": {
      "text/html": [
       "<table>\n",
       "<caption>A matrix: 4 × 4 of type dbl</caption>\n",
       "<tbody>\n",
       "\t<tr><td>1.0000000</td><td>0.8879949</td><td>0.6303014</td><td>0.7297749</td></tr>\n",
       "\t<tr><td>0.8879949</td><td>1.0000000</td><td>0.5033161</td><td>0.6198324</td></tr>\n",
       "\t<tr><td>0.6303014</td><td>0.5033161</td><td>1.0000000</td><td>0.5855883</td></tr>\n",
       "\t<tr><td>0.7297749</td><td>0.6198324</td><td>0.5855883</td><td>1.0000000</td></tr>\n",
       "</tbody>\n",
       "</table>\n"
      ],
      "text/latex": [
       "A matrix: 4 × 4 of type dbl\n",
       "\\begin{tabular}{llll}\n",
       "\t 1.0000000 & 0.8879949 & 0.6303014 & 0.7297749\\\\\n",
       "\t 0.8879949 & 1.0000000 & 0.5033161 & 0.6198324\\\\\n",
       "\t 0.6303014 & 0.5033161 & 1.0000000 & 0.5855883\\\\\n",
       "\t 0.7297749 & 0.6198324 & 0.5855883 & 1.0000000\\\\\n",
       "\\end{tabular}\n"
      ],
      "text/markdown": [
       "\n",
       "A matrix: 4 × 4 of type dbl\n",
       "\n",
       "| 1.0000000 | 0.8879949 | 0.6303014 | 0.7297749 |\n",
       "| 0.8879949 | 1.0000000 | 0.5033161 | 0.6198324 |\n",
       "| 0.6303014 | 0.5033161 | 1.0000000 | 0.5855883 |\n",
       "| 0.7297749 | 0.6198324 | 0.5855883 | 1.0000000 |\n",
       "\n"
      ],
      "text/plain": [
       "     [,1]      [,2]      [,3]      [,4]     \n",
       "[1,] 1.0000000 0.8879949 0.6303014 0.7297749\n",
       "[2,] 0.8879949 1.0000000 0.5033161 0.6198324\n",
       "[3,] 0.6303014 0.5033161 1.0000000 0.5855883\n",
       "[4,] 0.7297749 0.6198324 0.5855883 1.0000000"
      ]
     },
     "metadata": {},
     "output_type": "display_data"
    },
    {
     "data": {
      "image/png": "[encoded data removed]",
      "text/plain": [
       "plot without title"
      ]
     },
     "metadata": {
      "image/png": {
       "height": 420,
       "width": 420
      },
      "text/plain": {
       "height": 420,
       "width": 420
      }
     },
     "output_type": "display_data"
    }
   ],
   "source": [
    "pairs(cbind(data$WEIGHT,data$ABDOMEN,data$FOREARM,data$WRIST))\n",
    "cor(cbind(data$WEIGHT,data$ABDOMEN,data$FOREARM,data$WRIST))\n"
   ]
  },
  {
   "cell_type": "code",
   "execution_count": 4,
   "metadata": {},
   "outputs": [
    {
     "data": {
      "image/png": "[encoded data removed]",
      "text/plain": [
       "Plot with title \"Normal Q-Q Plot\""
      ]
     },
     "metadata": {
      "image/png": {
       "height": 420,
       "width": 420
      },
      "text/plain": {
       "height": 420,
       "width": 420
      }
     },
     "output_type": "display_data"
    },
    {
     "data": {
      "image/png": "[encoded data removed]",
      "text/plain": [
       "plot without title"
      ]
     },
     "metadata": {
      "image/png": {
       "height": 420,
       "width": 420
      },
      "text/plain": {
       "height": 420,
       "width": 420
      }
     },
     "output_type": "display_data"
    },
    {
     "data": {
      "image/png": "[encoded data removed]",
      "text/plain": [
       "plot without title"
      ]
     },
     "metadata": {
      "image/png": {
       "height": 420,
       "width": 420
      },
      "text/plain": {
       "height": 420,
       "width": 420
      }
     },
     "output_type": "display_data"
    },
    {
     "data": {
      "image/png": "[encoded data removed]",
      "text/plain": [
       "plot without title"
      ]
     },
     "metadata": {
      "image/png": {
       "height": 420,
       "width": 420
      },
      "text/plain": {
       "height": 420,
       "width": 420
      }
     },
     "output_type": "display_data"
    },
    {
     "data": {
      "image/png": "[encoded data removed]",
      "text/plain": [
       "plot without title"
      ]
     },
     "metadata": {
      "image/png": {
       "height": 420,
       "width": 420
      },
      "text/plain": {
       "height": 420,
       "width": 420
      }
     },
     "output_type": "display_data"
    },
    {
     "data": {
      "image/png": "[encoded data removed]",
      "text/plain": [
       "plot without title"
      ]
     },
     "metadata": {
      "image/png": {
       "height": 420,
       "width": 420
      },
      "text/plain": {
       "height": 420,
       "width": 420
      }
     },
     "output_type": "display_data"
    }
   ],
   "source": [
    "data.bic.res <- residuals(data.bic)\n",
    "data.bic.fit <- fitted(data.bic)\n",
    "qqnorm(data.bic.res)\n",
    "qqline(data.bic.res)\n",
    "plot(data.bic.fit,data.bic.res);abline(h=0)\n",
    "plot(data$WEIGHT,data.bic.res);abline(h=0)\n",
    "plot(data$ABDOMEN,data.bic.res);abline(h=0)\n",
    "plot(data$FOREARM ,data.bic.res);abline(h=0)\n",
    "plot(data$WRIST ,data.bic.res);abline(h=0)"
   ]
  },
  {
   "cell_type": "code",
   "execution_count": 15,
   "metadata": {},
   "outputs": [
    {
     "data": {
      "text/html": [
       "<dl class=dl-horizontal>\n",
       "\t<dt>WEIGHT</dt>\n",
       "\t\t<dd>7.04077399069224</dd>\n",
       "\t<dt>ABDOMEN</dt>\n",
       "\t\t<dd>4.8643799985043</dd>\n",
       "\t<dt>FOREARM</dt>\n",
       "\t\t<dd>1.79337411013762</dd>\n",
       "\t<dt>WRIST</dt>\n",
       "\t\t<dd>2.27304746118134</dd>\n",
       "</dl>\n"
      ],
      "text/latex": [
       "\\begin{description*}\n",
       "\\item[WEIGHT] 7.04077399069224\n",
       "\\item[ABDOMEN] 4.8643799985043\n",
       "\\item[FOREARM] 1.79337411013762\n",
       "\\item[WRIST] 2.27304746118134\n",
       "\\end{description*}\n"
      ],
      "text/markdown": [
       "WEIGHT\n",
       ":   7.04077399069224ABDOMEN\n",
       ":   4.8643799985043FOREARM\n",
       ":   1.79337411013762WRIST\n",
       ":   2.27304746118134\n",
       "\n"
      ],
      "text/plain": [
       "  WEIGHT  ABDOMEN  FOREARM    WRIST \n",
       "7.040774 4.864380 1.793374 2.273047 "
      ]
     },
     "metadata": {},
     "output_type": "display_data"
    }
   ],
   "source": [
    "library(car)\n",
    "vif(data.bic)\n",
    "# From the result we can see that the VIF of all variables are greater than 1, which means there is multicollinearity in the predictors. \n",
    "# However, no VIF is larger than 10, which means multicollinearity may not have a large impact on the inference."
   ]
  },
  {
   "cell_type": "code",
   "execution_count": 24,
   "metadata": {},
   "outputs": [
    {
     "data": {
      "text/html": [
       "<ol class=list-inline>\n",
       "\t<li>'coef'</li>\n",
       "\t<li>'scales'</li>\n",
       "\t<li>'Inter'</li>\n",
       "\t<li>'lambda'</li>\n",
       "\t<li>'ym'</li>\n",
       "\t<li>'xm'</li>\n",
       "\t<li>'GCV'</li>\n",
       "\t<li>'kHKB'</li>\n",
       "\t<li>'kLW'</li>\n",
       "</ol>\n"
      ],
      "text/latex": [
       "\\begin{enumerate*}\n",
       "\\item 'coef'\n",
       "\\item 'scales'\n",
       "\\item 'Inter'\n",
       "\\item 'lambda'\n",
       "\\item 'ym'\n",
       "\\item 'xm'\n",
       "\\item 'GCV'\n",
       "\\item 'kHKB'\n",
       "\\item 'kLW'\n",
       "\\end{enumerate*}\n"
      ],
      "text/markdown": [
       "1. 'coef'\n",
       "2. 'scales'\n",
       "3. 'Inter'\n",
       "4. 'lambda'\n",
       "5. 'ym'\n",
       "6. 'xm'\n",
       "7. 'GCV'\n",
       "8. 'kHKB'\n",
       "9. 'kLW'\n",
       "\n",
       "\n"
      ],
      "text/plain": [
       "[1] \"coef\"   \"scales\" \"Inter\"  \"lambda\" \"ym\"     \"xm\"     \"GCV\"    \"kHKB\"  \n",
       "[9] \"kLW\"   "
      ]
     },
     "metadata": {},
     "output_type": "display_data"
    },
    {
     "data": {
      "text/html": [
       "1"
      ],
      "text/latex": [
       "1"
      ],
      "text/markdown": [
       "1"
      ],
      "text/plain": [
       "[1] 1"
      ]
     },
     "metadata": {},
     "output_type": "display_data"
    },
    {
     "data": {
      "text/html": [
       "<dl class=dl-horizontal>\n",
       "\t<dt>AGE</dt>\n",
       "\t\t<dd>0.794215443535393</dd>\n",
       "\t<dt>WEIGHT</dt>\n",
       "\t\t<dd>-2.07583817168776</dd>\n",
       "\t<dt>HEIGHT</dt>\n",
       "\t\t<dd>-0.211583473100854</dd>\n",
       "\t<dt>ADIPOSITY</dt>\n",
       "\t\t<dd>0.352178826007618</dd>\n",
       "\t<dt>NECK</dt>\n",
       "\t\t<dd>-1.08728736280911</dd>\n",
       "\t<dt>CHEST</dt>\n",
       "\t\t<dd>-0.164535899494128</dd>\n",
       "\t<dt>ABDOMEN</dt>\n",
       "\t\t<dd>8.9619369720803</dd>\n",
       "\t<dt>HIP</dt>\n",
       "\t\t<dd>-1.35578495702004</dd>\n",
       "\t<dt>THIGH</dt>\n",
       "\t\t<dd>1.16016649086312</dd>\n",
       "\t<dt>KNEE</dt>\n",
       "\t\t<dd>-0.0204269688231762</dd>\n",
       "\t<dt>ANKLE</dt>\n",
       "\t\t<dd>0.228606178312215</dd>\n",
       "\t<dt>BICEPS</dt>\n",
       "\t\t<dd>0.401632053217836</dd>\n",
       "\t<dt>FOREARM</dt>\n",
       "\t\t<dd>0.846505970590933</dd>\n",
       "\t<dt>WRIST</dt>\n",
       "\t\t<dd>-1.40854462326706</dd>\n",
       "</dl>\n"
      ],
      "text/latex": [
       "\\begin{description*}\n",
       "\\item[AGE] 0.794215443535393\n",
       "\\item[WEIGHT] -2.07583817168776\n",
       "\\item[HEIGHT] -0.211583473100854\n",
       "\\item[ADIPOSITY] 0.352178826007618\n",
       "\\item[NECK] -1.08728736280911\n",
       "\\item[CHEST] -0.164535899494128\n",
       "\\item[ABDOMEN] 8.9619369720803\n",
       "\\item[HIP] -1.35578495702004\n",
       "\\item[THIGH] 1.16016649086312\n",
       "\\item[KNEE] -0.0204269688231762\n",
       "\\item[ANKLE] 0.228606178312215\n",
       "\\item[BICEPS] 0.401632053217836\n",
       "\\item[FOREARM] 0.846505970590933\n",
       "\\item[WRIST] -1.40854462326706\n",
       "\\end{description*}\n"
      ],
      "text/markdown": [
       "AGE\n",
       ":   0.794215443535393WEIGHT\n",
       ":   -2.07583817168776HEIGHT\n",
       ":   -0.211583473100854ADIPOSITY\n",
       ":   0.352178826007618NECK\n",
       ":   -1.08728736280911CHEST\n",
       ":   -0.164535899494128ABDOMEN\n",
       ":   8.9619369720803HIP\n",
       ":   -1.35578495702004THIGH\n",
       ":   1.16016649086312KNEE\n",
       ":   -0.0204269688231762ANKLE\n",
       ":   0.228606178312215BICEPS\n",
       ":   0.401632053217836FOREARM\n",
       ":   0.846505970590933WRIST\n",
       ":   -1.40854462326706\n",
       "\n"
      ],
      "text/plain": [
       "        AGE      WEIGHT      HEIGHT   ADIPOSITY        NECK       CHEST \n",
       " 0.79421544 -2.07583817 -0.21158347  0.35217883 -1.08728736 -0.16453590 \n",
       "    ABDOMEN         HIP       THIGH        KNEE       ANKLE      BICEPS \n",
       " 8.96193697 -1.35578496  1.16016649 -0.02042697  0.22860618  0.40163205 \n",
       "    FOREARM       WRIST \n",
       " 0.84650597 -1.40854462 "
      ]
     },
     "metadata": {},
     "output_type": "display_data"
    },
    {
     "data": {
      "text/plain": [
       "\n",
       "Call:\n",
       "linearRidge(formula = BODYFAT ~ ., data = data)\n",
       "\n",
       "\n",
       "Coefficients:\n",
       "             Estimate Scaled estimate Std. Error (scaled) t value (scaled)\n",
       "(Intercept)  -9.11623              NA                  NA               NA\n",
       "AGE           0.09094        18.15658             4.97375            3.650\n",
       "WEIGHT       -0.02850       -13.27058             9.24098            1.436\n",
       "HEIGHT       -0.08605        -4.99368             4.72551            1.057\n",
       "ADIPOSITY     0.24970        14.43193             9.08382            1.589\n",
       "NECK         -0.41527       -15.99334             6.93282            2.307\n",
       "CHEST         0.05144         6.87048             8.33050            0.825\n",
       "ABDOMEN       0.58939       100.68954             8.80412           11.437\n",
       "HIP          -0.08956       -10.16519             8.74929            1.162\n",
       "THIGH         0.18227        15.16031             8.11789            1.868\n",
       "KNEE         -0.02185        -0.83473             7.01695            0.119\n",
       "ANKLE         0.02314         0.62136             5.10603            0.122\n",
       "BICEPS        0.06923         3.31398             6.56837            0.505\n",
       "FOREARM       0.34792        11.13825             5.42461            2.053\n",
       "WRIST        -1.58987       -23.51534             6.34964            3.703\n",
       "            Pr(>|t|)    \n",
       "(Intercept)       NA    \n",
       "AGE         0.000262 ***\n",
       "WEIGHT      0.150986    \n",
       "HEIGHT      0.290626    \n",
       "ADIPOSITY   0.112116    \n",
       "NECK        0.021060 *  \n",
       "CHEST       0.409520    \n",
       "ABDOMEN      < 2e-16 ***\n",
       "HIP         0.245304    \n",
       "THIGH       0.061829 .  \n",
       "KNEE        0.905307    \n",
       "ANKLE       0.903143    \n",
       "BICEPS      0.613884    \n",
       "FOREARM     0.040045 *  \n",
       "WRIST       0.000213 ***\n",
       "---\n",
       "Signif. codes:  0 '***' 0.001 '**' 0.01 '*' 0.05 '.' 0.1 ' ' 1\n",
       "\n",
       "Ridge parameter: 0.03973412, chosen automatically, computed using 6 PCs\n",
       "\n",
       "Degrees of freedom: model 11.22 , variance 9.452 , residual 12.98 \n"
      ]
     },
     "metadata": {},
     "output_type": "display_data"
    },
    {
     "data": {
      "image/png": "[encoded data removed]",
      "text/plain": [
       "plot without title"
      ]
     },
     "metadata": {
      "image/png": {
       "height": 420,
       "width": 420
      },
      "text/plain": {
       "height": 420,
       "width": 420
      }
     },
     "output_type": "display_data"
    }
   ],
   "source": [
    "# ridge regression\n",
    "library(MASS)\n",
    "ridge.lma<-lm.ridge(BODYFAT~.,lambda = seq(0,150,length.out = 151),data = data,model = TRUE) \n",
    "names(ridge.lma)\n",
    "ridge.lma$lambda[which.min(ridge.lma$GCV)]\n",
    "ridge.lma$coef[,which.min(ridge.lma$GCV)]\n",
    "par(mfrow=c(1,2))\n",
    "#缁樺埗鍥炲綊绯绘暟鍏充簬位鐨勫浘褰紝骞朵綔鍑篏CV鍙栧彇鏈€灏忓€肩殑閭ｆ潯绔栫嚎銆?\n",
    "matplot(ridge.lma$lambda,t(ridge.lma$coef),xlab = expression(lambda),ylab = \"Coefficients\",type = \"l\",lty = 1:20)\n",
    "abline(v=ridge.lma$lambda[which.min(ridge.lma$GCV)])\n",
    "#缁樺埗GCV鍏充簬位鐨勫浘褰紝骞朵綔鍑篏CV鍙栧彇鏈€灏忓€肩殑閭ｆ潯绔栫嚎銆?\n",
    "plot(ridge.lma$lambda,ridge.lma$GCV,type = \"l\",xlab = expression(lambda),ylab = expression(beta))\n",
    "abline(v=ridge.lma$lambda[which.min(ridge.lma$GCV)])\n",
    "\n",
    "library(ridge)\n",
    "modify=linearRidge(BODYFAT~., data = data)\n",
    "summary(modify)\n",
    "#Ridge parameter: 0.03973412\n",
    "# the bestλ(with minimum GCV) is nearly 0 (0.03973412).\n",
    "\n"
   ]
  },
  {
   "cell_type": "code",
   "execution_count": 27,
   "metadata": {},
   "outputs": [
    {
     "name": "stderr",
     "output_type": "stream",
     "text": [
      "Loading required package: foreach\n",
      "\n",
      "Loaded glmnet 2.0-18\n",
      "\n",
      "\n"
     ]
    },
    {
     "data": {
      "text/html": [
       "0.0377338966961553"
      ],
      "text/latex": [
       "0.0377338966961553"
      ],
      "text/markdown": [
       "0.0377338966961553"
      ],
      "text/plain": [
       "[1] 0.0377339"
      ]
     },
     "metadata": {},
     "output_type": "display_data"
    },
    {
     "data": {
      "text/plain": [
       "\n",
       "Call:  glmnet(x = as.matrix(data[, -1]), y = data$BODYFAT, lambda = cv.fit$lambda.min) \n",
       "\n",
       "     Df   %Dev  Lambda\n",
       "[1,] 11 0.7473 0.03773"
      ]
     },
     "metadata": {},
     "output_type": "display_data"
    },
    {
     "data": {
      "text/plain": [
       "15 x 1 sparse Matrix of class \"dgCMatrix\"\n",
       "                  1\n",
       "(Intercept) -13.174\n",
       "AGE           0.054\n",
       "WEIGHT       -0.062\n",
       "HEIGHT       -0.085\n",
       "ADIPOSITY     .    \n",
       "NECK         -0.395\n",
       "CHEST         .    \n",
       "ABDOMEN       0.822\n",
       "HIP          -0.138\n",
       "THIGH         0.158\n",
       "KNEE          .    \n",
       "ANKLE         0.070\n",
       "BICEPS        0.105\n",
       "FOREARM       0.381\n",
       "WRIST        -1.422"
      ]
     },
     "metadata": {},
     "output_type": "display_data"
    },
    {
     "data": {
      "text/plain": [
       "15 x 1 sparse Matrix of class \"dgCMatrix\"\n",
       "                  1\n",
       "(Intercept) -11.810\n",
       "AGE           0.037\n",
       "WEIGHT        .    \n",
       "HEIGHT       -0.145\n",
       "ADIPOSITY     .    \n",
       "NECK          .    \n",
       "CHEST         .    \n",
       "ABDOMEN       0.588\n",
       "HIP           .    \n",
       "THIGH         .    \n",
       "KNEE          .    \n",
       "ANKLE         .    \n",
       "BICEPS        .    \n",
       "FOREARM       .    \n",
       "WRIST        -0.834"
      ]
     },
     "metadata": {},
     "output_type": "display_data"
    },
    {
     "data": {
      "text/html": [
       "<dl class=dl-horizontal>\n",
       "\t<dt>AGE</dt>\n",
       "\t\t<dd>1.134</dd>\n",
       "\t<dt>HEIGHT</dt>\n",
       "\t\t<dd>1.215</dd>\n",
       "\t<dt>ABDOMEN</dt>\n",
       "\t\t<dd>1.676</dd>\n",
       "\t<dt>WRIST</dt>\n",
       "\t\t<dd>1.897</dd>\n",
       "</dl>\n"
      ],
      "text/latex": [
       "\\begin{description*}\n",
       "\\item[AGE] 1.134\n",
       "\\item[HEIGHT] 1.215\n",
       "\\item[ABDOMEN] 1.676\n",
       "\\item[WRIST] 1.897\n",
       "\\end{description*}\n"
      ],
      "text/markdown": [
       "AGE\n",
       ":   1.134HEIGHT\n",
       ":   1.215ABDOMEN\n",
       ":   1.676WRIST\n",
       ":   1.897\n",
       "\n"
      ],
      "text/plain": [
       "    AGE  HEIGHT ABDOMEN   WRIST \n",
       "  1.134   1.215   1.676   1.897 "
      ]
     },
     "metadata": {},
     "output_type": "display_data"
    },
    {
     "data": {
      "text/html": [
       "0.38621813761989"
      ],
      "text/latex": [
       "0.38621813761989"
      ],
      "text/markdown": [
       "0.38621813761989"
      ],
      "text/plain": [
       "[1] 0.3862181"
      ]
     },
     "metadata": {},
     "output_type": "display_data"
    },
    {
     "data": {
      "text/html": [
       "<table>\n",
       "<caption>A matrix: 252 × 1 of type dbl</caption>\n",
       "<thead>\n",
       "\t<tr><th scope=col>1</th></tr>\n",
       "</thead>\n",
       "<tbody>\n",
       "\t<tr><td>-3.2340073</td></tr>\n",
       "\t<tr><td>-2.9307162</td></tr>\n",
       "\t<tr><td> 6.4564824</td></tr>\n",
       "\t<tr><td>-1.8927566</td></tr>\n",
       "\t<tr><td> 2.1093281</td></tr>\n",
       "\t<tr><td> 3.5896889</td></tr>\n",
       "\t<tr><td> 1.9193414</td></tr>\n",
       "\t<tr><td>-1.3983624</td></tr>\n",
       "\t<tr><td>-5.3266289</td></tr>\n",
       "\t<tr><td> 0.9891655</td></tr>\n",
       "\t<tr><td>-2.4049258</td></tr>\n",
       "\t<tr><td>-4.9627787</td></tr>\n",
       "\t<tr><td> 2.5290230</td></tr>\n",
       "\t<tr><td>-3.3332783</td></tr>\n",
       "\t<tr><td>-1.0136105</td></tr>\n",
       "\t<tr><td>-1.5738266</td></tr>\n",
       "\t<tr><td> 5.3913586</td></tr>\n",
       "\t<tr><td> 3.1506828</td></tr>\n",
       "\t<tr><td>-0.6263955</td></tr>\n",
       "\t<tr><td>-6.1348583</td></tr>\n",
       "\t<tr><td>-1.8043806</td></tr>\n",
       "\t<tr><td>-4.5842084</td></tr>\n",
       "\t<tr><td> 5.6153151</td></tr>\n",
       "\t<tr><td> 6.1082835</td></tr>\n",
       "\t<tr><td> 5.3376872</td></tr>\n",
       "\t<tr><td>-4.8623361</td></tr>\n",
       "\t<tr><td>-1.0753073</td></tr>\n",
       "\t<tr><td> 4.6588576</td></tr>\n",
       "\t<tr><td>-2.8017414</td></tr>\n",
       "\t<tr><td>-2.9322221</td></tr>\n",
       "\t<tr><td>...</td></tr>\n",
       "\t<tr><td>-5.15629467</td></tr>\n",
       "\t<tr><td>-9.99010522</td></tr>\n",
       "\t<tr><td>-8.84898307</td></tr>\n",
       "\t<tr><td>-0.52585480</td></tr>\n",
       "\t<tr><td>-3.90505021</td></tr>\n",
       "\t<tr><td> 3.09764931</td></tr>\n",
       "\t<tr><td>-2.21917555</td></tr>\n",
       "\t<tr><td>-3.15815107</td></tr>\n",
       "\t<tr><td>-8.36430595</td></tr>\n",
       "\t<tr><td>-4.87826362</td></tr>\n",
       "\t<tr><td>-1.07852930</td></tr>\n",
       "\t<tr><td> 3.02115302</td></tr>\n",
       "\t<tr><td> 4.87597115</td></tr>\n",
       "\t<tr><td>-3.53154704</td></tr>\n",
       "\t<tr><td> 2.79099385</td></tr>\n",
       "\t<tr><td>-6.89108359</td></tr>\n",
       "\t<tr><td>-1.50963260</td></tr>\n",
       "\t<tr><td> 3.85243330</td></tr>\n",
       "\t<tr><td> 1.98368388</td></tr>\n",
       "\t<tr><td>-1.87195582</td></tr>\n",
       "\t<tr><td> 1.78481557</td></tr>\n",
       "\t<tr><td>-0.05106839</td></tr>\n",
       "\t<tr><td>-0.45817055</td></tr>\n",
       "\t<tr><td> 1.01302865</td></tr>\n",
       "\t<tr><td>-0.54261026</td></tr>\n",
       "\t<tr><td>-3.34271054</td></tr>\n",
       "\t<tr><td> 7.11011032</td></tr>\n",
       "\t<tr><td>-6.64657025</td></tr>\n",
       "\t<tr><td> 1.23626089</td></tr>\n",
       "\t<tr><td> 3.97822545</td></tr>\n",
       "</tbody>\n",
       "</table>\n"
      ],
      "text/latex": [
       "A matrix: 252 × 1 of type dbl\n",
       "\\begin{tabular}{l}\n",
       " 1\\\\\n",
       "\\hline\n",
       "\t -3.2340073\\\\\n",
       "\t -2.9307162\\\\\n",
       "\t  6.4564824\\\\\n",
       "\t -1.8927566\\\\\n",
       "\t  2.1093281\\\\\n",
       "\t  3.5896889\\\\\n",
       "\t  1.9193414\\\\\n",
       "\t -1.3983624\\\\\n",
       "\t -5.3266289\\\\\n",
       "\t  0.9891655\\\\\n",
       "\t -2.4049258\\\\\n",
       "\t -4.9627787\\\\\n",
       "\t  2.5290230\\\\\n",
       "\t -3.3332783\\\\\n",
       "\t -1.0136105\\\\\n",
       "\t -1.5738266\\\\\n",
       "\t  5.3913586\\\\\n",
       "\t  3.1506828\\\\\n",
       "\t -0.6263955\\\\\n",
       "\t -6.1348583\\\\\n",
       "\t -1.8043806\\\\\n",
       "\t -4.5842084\\\\\n",
       "\t  5.6153151\\\\\n",
       "\t  6.1082835\\\\\n",
       "\t  5.3376872\\\\\n",
       "\t -4.8623361\\\\\n",
       "\t -1.0753073\\\\\n",
       "\t  4.6588576\\\\\n",
       "\t -2.8017414\\\\\n",
       "\t -2.9322221\\\\\n",
       "\t ...\\\\\n",
       "\t -5.15629467\\\\\n",
       "\t -9.99010522\\\\\n",
       "\t -8.84898307\\\\\n",
       "\t -0.52585480\\\\\n",
       "\t -3.90505021\\\\\n",
       "\t  3.09764931\\\\\n",
       "\t -2.21917555\\\\\n",
       "\t -3.15815107\\\\\n",
       "\t -8.36430595\\\\\n",
       "\t -4.87826362\\\\\n",
       "\t -1.07852930\\\\\n",
       "\t  3.02115302\\\\\n",
       "\t  4.87597115\\\\\n",
       "\t -3.53154704\\\\\n",
       "\t  2.79099385\\\\\n",
       "\t -6.89108359\\\\\n",
       "\t -1.50963260\\\\\n",
       "\t  3.85243330\\\\\n",
       "\t  1.98368388\\\\\n",
       "\t -1.87195582\\\\\n",
       "\t  1.78481557\\\\\n",
       "\t -0.05106839\\\\\n",
       "\t -0.45817055\\\\\n",
       "\t  1.01302865\\\\\n",
       "\t -0.54261026\\\\\n",
       "\t -3.34271054\\\\\n",
       "\t  7.11011032\\\\\n",
       "\t -6.64657025\\\\\n",
       "\t  1.23626089\\\\\n",
       "\t  3.97822545\\\\\n",
       "\\end{tabular}\n"
      ],
      "text/markdown": [
       "\n",
       "A matrix: 252 × 1 of type dbl\n",
       "\n",
       "| 1 |\n",
       "|---|\n",
       "| -3.2340073 |\n",
       "| -2.9307162 |\n",
       "|  6.4564824 |\n",
       "| -1.8927566 |\n",
       "|  2.1093281 |\n",
       "|  3.5896889 |\n",
       "|  1.9193414 |\n",
       "| -1.3983624 |\n",
       "| -5.3266289 |\n",
       "|  0.9891655 |\n",
       "| -2.4049258 |\n",
       "| -4.9627787 |\n",
       "|  2.5290230 |\n",
       "| -3.3332783 |\n",
       "| -1.0136105 |\n",
       "| -1.5738266 |\n",
       "|  5.3913586 |\n",
       "|  3.1506828 |\n",
       "| -0.6263955 |\n",
       "| -6.1348583 |\n",
       "| -1.8043806 |\n",
       "| -4.5842084 |\n",
       "|  5.6153151 |\n",
       "|  6.1082835 |\n",
       "|  5.3376872 |\n",
       "| -4.8623361 |\n",
       "| -1.0753073 |\n",
       "|  4.6588576 |\n",
       "| -2.8017414 |\n",
       "| -2.9322221 |\n",
       "| ... |\n",
       "| -5.15629467 |\n",
       "| -9.99010522 |\n",
       "| -8.84898307 |\n",
       "| -0.52585480 |\n",
       "| -3.90505021 |\n",
       "|  3.09764931 |\n",
       "| -2.21917555 |\n",
       "| -3.15815107 |\n",
       "| -8.36430595 |\n",
       "| -4.87826362 |\n",
       "| -1.07852930 |\n",
       "|  3.02115302 |\n",
       "|  4.87597115 |\n",
       "| -3.53154704 |\n",
       "|  2.79099385 |\n",
       "| -6.89108359 |\n",
       "| -1.50963260 |\n",
       "|  3.85243330 |\n",
       "|  1.98368388 |\n",
       "| -1.87195582 |\n",
       "|  1.78481557 |\n",
       "| -0.05106839 |\n",
       "| -0.45817055 |\n",
       "|  1.01302865 |\n",
       "| -0.54261026 |\n",
       "| -3.34271054 |\n",
       "|  7.11011032 |\n",
       "| -6.64657025 |\n",
       "|  1.23626089 |\n",
       "|  3.97822545 |\n",
       "\n"
      ],
      "text/plain": [
       "      1          \n",
       " [1,] -3.2340073 \n",
       " [2,] -2.9307162 \n",
       " [3,]  6.4564824 \n",
       " [4,] -1.8927566 \n",
       " [5,]  2.1093281 \n",
       " [6,]  3.5896889 \n",
       " [7,]  1.9193414 \n",
       " [8,] -1.3983624 \n",
       " [9,] -5.3266289 \n",
       "[10,]  0.9891655 \n",
       "[11,] -2.4049258 \n",
       "[12,] -4.9627787 \n",
       "[13,]  2.5290230 \n",
       "[14,] -3.3332783 \n",
       "[15,] -1.0136105 \n",
       "[16,] -1.5738266 \n",
       "[17,]  5.3913586 \n",
       "[18,]  3.1506828 \n",
       "[19,] -0.6263955 \n",
       "[20,] -6.1348583 \n",
       "[21,] -1.8043806 \n",
       "[22,] -4.5842084 \n",
       "[23,]  5.6153151 \n",
       "[24,]  6.1082835 \n",
       "[25,]  5.3376872 \n",
       "[26,] -4.8623361 \n",
       "[27,] -1.0753073 \n",
       "[28,]  4.6588576 \n",
       "[29,] -2.8017414 \n",
       "[30,] -2.9322221 \n",
       "[31,] ...        \n",
       "[32,] -5.15629467\n",
       "[33,] -9.99010522\n",
       "[34,] -8.84898307\n",
       "[35,] -0.52585480\n",
       "[36,] -3.90505021\n",
       "[37,]  3.09764931\n",
       "[38,] -2.21917555\n",
       "[39,] -3.15815107\n",
       "[40,] -8.36430595\n",
       "[41,] -4.87826362\n",
       "[42,] -1.07852930\n",
       "[43,]  3.02115302\n",
       "[44,]  4.87597115\n",
       "[45,] -3.53154704\n",
       "[46,]  2.79099385\n",
       "[47,] -6.89108359\n",
       "[48,] -1.50963260\n",
       "[49,]  3.85243330\n",
       "[50,]  1.98368388\n",
       "[51,] -1.87195582\n",
       "[52,]  1.78481557\n",
       "[53,] -0.05106839\n",
       "[54,] -0.45817055\n",
       "[55,]  1.01302865\n",
       "[56,] -0.54261026\n",
       "[57,] -3.34271054\n",
       "[58,]  7.11011032\n",
       "[59,] -6.64657025\n",
       "[60,]  1.23626089\n",
       "[61,]  3.97822545"
      ]
     },
     "metadata": {},
     "output_type": "display_data"
    },
    {
     "data": {
      "image/png": "[encoded data removed]",
      "text/plain": [
       "Plot with title \"lassio regression MSE vs log(lambda)\""
      ]
     },
     "metadata": {
      "image/png": {
       "height": 420,
       "width": 420
      },
      "text/plain": {
       "height": 420,
       "width": 420
      }
     },
     "output_type": "display_data"
    },
    {
     "data": {
      "image/png": "[encoded data removed]",
      "text/plain": [
       "Plot with title \"lassio pred\""
      ]
     },
     "metadata": {
      "image/png": {
       "height": 420,
       "width": 420
      },
      "text/plain": {
       "height": 420,
       "width": 420
      }
     },
     "output_type": "display_data"
    }
   ],
   "source": [
    "\n",
    "# LASSO\n",
    "# lassio regression\n",
    "library(\"glmnet\")\n",
    "cv.fit=cv.glmnet(as.matrix(data[,-1]),data$BODYFAT)#default 10 folds\n",
    "plot(cv.fit,main=\"lassio regression MSE vs log(lambda)\")\n",
    "cv.fit$lambda.min\n",
    "# cv.fit$lambda.1se\n",
    "las=glmnet(as.matrix(data[,-1]),data$BODYFAT,lambda = cv.fit$lambda.min)\n",
    "las\n",
    "# plot(las, xvar=\"lambda\")\n",
    "# “lambda.min”: lambda that gives minimum mse. May be too small to select features.\n",
    "# “lambda.1se”: largest lambda s.t. mse is within 1 sd of minimum. Typically we choose lambda.1se.\n",
    "round(coef(las,s = \"lambda.min\"),3)\n",
    "round(coef(cv.fit, s = \"lambda.1se\" ),3)\n",
    "round(vif(lm(BODYFAT~AGE+HEIGHT+ABDOMEN+WRIST,data=data)),3)\n",
    "cv.fit$lambda.1se\n",
    "las.pred=predict(las, s =\"lambda.1se\", newx = as.matrix(data[,-1]))\n",
    "\n",
    "data$BODYFAT-las.pred\n",
    "plot(las.pred,data$BODYFAT-las.pred,main=\"lassio pred\");abline(h=0)\n",
    "las.res=data$BODYFAT-las.pred"
   ]
  },
  {
   "cell_type": "code",
   "execution_count": 31,
   "metadata": {},
   "outputs": [
    {
     "data": {
      "text/html": [
       "<table>\n",
       "<caption>A data.frame: 1 × 15</caption>\n",
       "<thead>\n",
       "\t<tr><th></th><th scope=col>BODYFAT</th><th scope=col>AGE</th><th scope=col>WEIGHT</th><th scope=col>HEIGHT</th><th scope=col>ADIPOSITY</th><th scope=col>NECK</th><th scope=col>CHEST</th><th scope=col>ABDOMEN</th><th scope=col>HIP</th><th scope=col>THIGH</th><th scope=col>KNEE</th><th scope=col>ANKLE</th><th scope=col>BICEPS</th><th scope=col>FOREARM</th><th scope=col>WRIST</th></tr>\n",
       "\t<tr><th></th><th scope=col>&lt;dbl&gt;</th><th scope=col>&lt;int&gt;</th><th scope=col>&lt;dbl&gt;</th><th scope=col>&lt;dbl&gt;</th><th scope=col>&lt;dbl&gt;</th><th scope=col>&lt;dbl&gt;</th><th scope=col>&lt;dbl&gt;</th><th scope=col>&lt;dbl&gt;</th><th scope=col>&lt;dbl&gt;</th><th scope=col>&lt;dbl&gt;</th><th scope=col>&lt;dbl&gt;</th><th scope=col>&lt;dbl&gt;</th><th scope=col>&lt;dbl&gt;</th><th scope=col>&lt;dbl&gt;</th><th scope=col>&lt;dbl&gt;</th></tr>\n",
       "</thead>\n",
       "<tbody>\n",
       "\t<tr><th scope=row>182</th><td>0</td><td>40</td><td>118.5</td><td>68</td><td>18.1</td><td>33.8</td><td>79.3</td><td>69.4</td><td>85</td><td>47.2</td><td>33.5</td><td>20.2</td><td>27.7</td><td>24.6</td><td>16.5</td></tr>\n",
       "</tbody>\n",
       "</table>\n"
      ],
      "text/latex": [
       "A data.frame: 1 × 15\n",
       "\\begin{tabular}{r|lllllllllllllll}\n",
       "  & BODYFAT & AGE & WEIGHT & HEIGHT & ADIPOSITY & NECK & CHEST & ABDOMEN & HIP & THIGH & KNEE & ANKLE & BICEPS & FOREARM & WRIST\\\\\n",
       "  & <dbl> & <int> & <dbl> & <dbl> & <dbl> & <dbl> & <dbl> & <dbl> & <dbl> & <dbl> & <dbl> & <dbl> & <dbl> & <dbl> & <dbl>\\\\\n",
       "\\hline\n",
       "\t182 & 0 & 40 & 118.5 & 68 & 18.1 & 33.8 & 79.3 & 69.4 & 85 & 47.2 & 33.5 & 20.2 & 27.7 & 24.6 & 16.5\\\\\n",
       "\\end{tabular}\n"
      ],
      "text/markdown": [
       "\n",
       "A data.frame: 1 × 15\n",
       "\n",
       "| <!--/--> | BODYFAT &lt;dbl&gt; | AGE &lt;int&gt; | WEIGHT &lt;dbl&gt; | HEIGHT &lt;dbl&gt; | ADIPOSITY &lt;dbl&gt; | NECK &lt;dbl&gt; | CHEST &lt;dbl&gt; | ABDOMEN &lt;dbl&gt; | HIP &lt;dbl&gt; | THIGH &lt;dbl&gt; | KNEE &lt;dbl&gt; | ANKLE &lt;dbl&gt; | BICEPS &lt;dbl&gt; | FOREARM &lt;dbl&gt; | WRIST &lt;dbl&gt; |\n",
       "|---|---|---|---|---|---|---|---|---|---|---|---|---|---|---|---|\n",
       "| 182 | 0 | 40 | 118.5 | 68 | 18.1 | 33.8 | 79.3 | 69.4 | 85 | 47.2 | 33.5 | 20.2 | 27.7 | 24.6 | 16.5 |\n",
       "\n"
      ],
      "text/plain": [
       "    BODYFAT AGE WEIGHT HEIGHT ADIPOSITY NECK CHEST ABDOMEN HIP THIGH KNEE ANKLE\n",
       "182 0       40  118.5  68     18.1      33.8 79.3  69.4    85  47.2  33.5 20.2 \n",
       "    BICEPS FOREARM WRIST\n",
       "182 27.7   24.6    16.5 "
      ]
     },
     "metadata": {},
     "output_type": "display_data"
    },
    {
     "data": {
      "text/html": [
       "252"
      ],
      "text/latex": [
       "252"
      ],
      "text/markdown": [
       "252"
      ],
      "text/plain": [
       "[1] 252"
      ]
     },
     "metadata": {},
     "output_type": "display_data"
    },
    {
     "data": {
      "text/html": [
       "251"
      ],
      "text/latex": [
       "251"
      ],
      "text/markdown": [
       "251"
      ],
      "text/plain": [
       "[1] 251"
      ]
     },
     "metadata": {},
     "output_type": "display_data"
    },
    {
     "data": {
      "image/png": "[encoded data removed]",
      "text/plain": [
       "plot without title"
      ]
     },
     "metadata": {
      "image/png": {
       "height": 420,
       "width": 420
      },
      "text/plain": {
       "height": 420,
       "width": 420
      }
     },
     "output_type": "display_data"
    }
   ],
   "source": [
    "\n",
    "# If we choose data.bic\n",
    "\n",
    "# transformation\n",
    "require(MASS)\n",
    "# boxcox(data.bic)# error contains 0\n",
    "data[data$BODYFAT==0,]\n",
    "# the 182 data's bodyfat is 0, which is an error(outlier).remove it.\n",
    "data0=data\n",
    "nrow(data)\n",
    "data=data[-182,]\n",
    "nrow(data)\n",
    "boxcox(data.bic)\n",
    "# lambda near 1, don't do transformation\n",
    "\n",
    "\n"
   ]
  },
  {
   "cell_type": "code",
   "execution_count": 34,
   "metadata": {},
   "outputs": [
    {
     "data": {
      "image/png": "[encoded data removed]",
      "text/plain": [
       "Plot with title \"\""
      ]
     },
     "metadata": {
      "image/png": {
       "height": 420,
       "width": 420
      },
      "text/plain": {
       "height": 420,
       "width": 420
      }
     },
     "output_type": "display_data"
    },
    {
     "data": {
      "text/html": [],
      "text/latex": [],
      "text/markdown": [],
      "text/plain": [
       "integer(0)"
      ]
     },
     "metadata": {},
     "output_type": "display_data"
    },
    {
     "data": {
      "image/png": "[encoded data removed]",
      "text/plain": [
       "Plot with title \"Internally studentized residual vs Fitted values\""
      ]
     },
     "metadata": {
      "image/png": {
       "height": 420,
       "width": 420
      },
      "text/plain": {
       "height": 420,
       "width": 420
      }
     },
     "output_type": "display_data"
    },
    {
     "data": {
      "text/html": [],
      "text/latex": [],
      "text/markdown": [],
      "text/plain": [
       "integer(0)"
      ]
     },
     "metadata": {},
     "output_type": "display_data"
    },
    {
     "data": {
      "image/png": "[encoded data removed]",
      "text/plain": [
       "Plot with title \"Externally studentized residual vs Fitted values\""
      ]
     },
     "metadata": {
      "image/png": {
       "height": 420,
       "width": 420
      },
      "text/plain": {
       "height": 420,
       "width": 420
      }
     },
     "output_type": "display_data"
    }
   ],
   "source": [
    "\n",
    "\n",
    "##  plot for standard / studentized res. vs fitted value\n",
    "par(mfrow=c(2,2))\n",
    "library(MASS)\n",
    "lm.reg=data.bic\n",
    "plot(lm.reg)\n",
    "index=1:nrow(data)\n",
    "par(mfrow=c(1,1))\n",
    "plot(lm.reg$fitted, stdres(lm.reg), xlab=\"Fitted values\",\n",
    "     ylab=\"Internally studentized residual\",main=\"Internally studentized residual vs Fitted values\") ;abline(h=0, lty=2)\n",
    "# text(lm.reg$fitted[abs(stdres(lm.reg))>5], labels=index[abs(stdres(lm.reg))>5], cex=1, pos=2)\n",
    "index[abs(stdres(lm.reg))>5]\n",
    "\n",
    "\n",
    "plot(lm.reg$fitted, studres(lm.reg), type = \"h\", xlab=\"Fitted values vs Fitted values\",\n",
    "     ylab=\"Externally studentized residual\",main=\"Externally studentized residual vs Fitted values\");abline(h=c(0,-3,3), lty=2)\n",
    "# text(lm.reg$fitted[abs(studres(lm.reg))>5], studres(lm.reg)[abs(studres(lm.reg))>5], labels=index[abs(studres(lm.reg))>5], cex=1, pos=2)\n",
    "index[abs(studres(lm.reg))>5]\n",
    "#\n",
    "\n"
   ]
  },
  {
   "cell_type": "code",
   "execution_count": 35,
   "metadata": {},
   "outputs": [
    {
     "data": {
      "text/html": [
       "<ol class=list-inline>\n",
       "\t<li>39</li>\n",
       "\t<li>175</li>\n",
       "\t<li>159</li>\n",
       "\t<li>206</li>\n",
       "</ol>\n"
      ],
      "text/latex": [
       "\\begin{enumerate*}\n",
       "\\item 39\n",
       "\\item 175\n",
       "\\item 159\n",
       "\\item 206\n",
       "\\end{enumerate*}\n"
      ],
      "text/markdown": [
       "1. 39\n",
       "2. 175\n",
       "3. 159\n",
       "4. 206\n",
       "\n",
       "\n"
      ],
      "text/plain": [
       "[1]  39 175 159 206"
      ]
     },
     "metadata": {},
     "output_type": "display_data"
    },
    {
     "data": {
      "image/png": "[encoded data removed]",
      "text/plain": [
       "Plot with title \"Leverage\""
      ]
     },
     "metadata": {
      "image/png": {
       "height": 420,
       "width": 420
      },
      "text/plain": {
       "height": 420,
       "width": 420
      }
     },
     "output_type": "display_data"
    }
   ],
   "source": [
    "\n",
    "## leverage \n",
    "lm.reg.hats = hatvalues(lm.reg)\n",
    "plot(lm.reg.hats, type = \"h\", ylab = \"Leverage\",main=\"Leverage\") \n",
    "id_show=order(lm.reg.hats,decreasing=T)[1:4]# the number of outlier can be adjusted\n",
    "text(id_show,lm.reg.hats[id_show], labels = index[id_show], cex = 1) \n",
    "p=length(lm.reg$coefficients)-1;n=nrow(data)\n",
    "abline(h=2*p/n,lty=2)\n",
    "# abline(h=2*4/19, lty = 2) # h=2 times p / n =2 times 4 / 19\n",
    "order(lm.reg.hats,decreasing=T)[1:4]\n",
    "#39 175 159 206\n",
    "\n",
    "\n"
   ]
  },
  {
   "cell_type": "code",
   "execution_count": 38,
   "metadata": {},
   "outputs": [
    {
     "data": {
      "image/png": "[encoded data removed]",
      "text/plain": [
       "Plot with title \"DFFITS\""
      ]
     },
     "metadata": {
      "image/png": {
       "height": 420,
       "width": 420
      },
      "text/plain": {
       "height": 420,
       "width": 420
      }
     },
     "output_type": "display_data"
    }
   ],
   "source": [
    "## DFFITS\n",
    "lm.reg.dffits = dffits(lm.reg)\n",
    "plot(lm.reg.dffits, type = \"h\", ylab = \"DFFITS\", ylim = c(-2.5,4.5),main=\"DFFITS\") \n",
    "h=2*sqrt(p/n)\n",
    "text(which(abs(lm.reg.dffits)>max(1,h)),lm.reg.dffits[abs(lm.reg.dffits)>max(1,h)], labels = index[abs(lm.reg.dffits)>max(1,h)], cex = 0.8, pos = 1)\n",
    "abline(h = c(-1,-2*sqrt(p/n), 0, 2*sqrt(p/n), 1), lty = 2) # specify your own h \n",
    "#39\n",
    "\n"
   ]
  },
  {
   "cell_type": "code",
   "execution_count": 37,
   "metadata": {},
   "outputs": [
    {
     "data": {
      "image/png": "[encoded data removed]",
      "text/plain": [
       "Plot with title \"Cook's Distance\""
      ]
     },
     "metadata": {
      "image/png": {
       "height": 420,
       "width": 420
      },
      "text/plain": {
       "height": 420,
       "width": 420
      }
     },
     "output_type": "display_data"
    }
   ],
   "source": [
    "\n",
    "## cook's distance\n",
    "lm.reg.cooksD = cooks.distance(lm.reg)\n",
    "plot(lm.reg.cooksD, type = \"h\", ylab=\"Cook's Distance\",ylim=c(0,2),main=\"Cook's Distance\") \n",
    "h=qf(0.50,p,n-p)\n",
    "# text(which(lm.reg.cooksD>h),lm.reg.cooksD[lm.reg.cooksD>h]-0.5, labels = index[lm.reg.cooksD>h], cex = 1)\n",
    "# no influential outliers according to cook's distance here\n",
    "abline(h=qf(0.50,p,n-p), lty=2) #check whether D_i > f_0.5,p,n-p"
   ]
  },
  {
   "cell_type": "code",
   "execution_count": 39,
   "metadata": {},
   "outputs": [
    {
     "data": {
      "text/html": [
       "<ol class=list-inline>\n",
       "\t<li>39</li>\n",
       "\t<li>221</li>\n",
       "\t<li>225</li>\n",
       "</ol>\n"
      ],
      "text/latex": [
       "\\begin{enumerate*}\n",
       "\\item 39\n",
       "\\item 221\n",
       "\\item 225\n",
       "\\end{enumerate*}\n"
      ],
      "text/markdown": [
       "1. 39\n",
       "2. 221\n",
       "3. 225\n",
       "\n",
       "\n"
      ],
      "text/plain": [
       "[1]  39 221 225"
      ]
     },
     "metadata": {},
     "output_type": "display_data"
    },
    {
     "data": {
      "image/png": "[encoded data removed]",
      "text/plain": [
       "Plot with title \"DFBETAS\""
      ]
     },
     "metadata": {
      "image/png": {
       "height": 420,
       "width": 420
      },
      "text/plain": {
       "height": 420,
       "width": 420
      }
     },
     "output_type": "display_data"
    }
   ],
   "source": [
    "## dfbetas\n",
    "lm.reg.dfbetas = dfbetas(lm.reg)\n",
    "plot(lm.reg.dfbetas[,1], type = \"h\", ylab = \"DFBETAS\", xlab = \"Index\", main = \"DFBETAS\") \n",
    "id_show=order(abs(lm.reg.dfbetas[,1]),decreasing = T)[1:3]#the number can be adjusted\n",
    "text(id_show,lm.reg.dfbetas[,1][id_show], labels = index[id_show], cex = 0.8)\n",
    "abline(h=c(-1, -2/sqrt(n), 0, 2/sqrt(n), 1), lty = 2) # specify your own threshold\n",
    "id_show\n",
    "#39 221 225 249  22\n",
    "\n"
   ]
  },
  {
   "cell_type": "code",
   "execution_count": 40,
   "metadata": {},
   "outputs": [
    {
     "data": {
      "text/html": [
       "<ol class=list-inline>\n",
       "\t<li>245</li>\n",
       "\t<li>15</li>\n",
       "</ol>\n"
      ],
      "text/latex": [
       "\\begin{enumerate*}\n",
       "\\item 245\n",
       "\\item 15\n",
       "\\end{enumerate*}\n"
      ],
      "text/markdown": [
       "1. 245\n",
       "2. 15\n",
       "\n",
       "\n"
      ],
      "text/plain": [
       "[1] 245  15"
      ]
     },
     "metadata": {},
     "output_type": "display_data"
    }
   ],
   "source": [
    "\n",
    "# choose the outlier which?\n",
    "id_rm=c(39, 175, 159, 206,221, 225)#can be adjusted\n",
    "data00=data\n",
    "data=data[-id_rm,]\n",
    "dim(data)"
   ]
  }
 ],
 "metadata": {
  "kernelspec": {
   "display_name": "R",
   "language": "R",
   "name": "ir"
  },
  "language_info": {
   "codemirror_mode": "r",
   "file_extension": ".r",
   "mimetype": "text/x-r-source",
   "name": "R",
   "pygments_lexer": "r",
   "version": "3.6.1"
  }
 },
 "nbformat": 4,
 "nbformat_minor": 2
}
