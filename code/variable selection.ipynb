{
 "cells": [
  {
   "cell_type": "code",
   "execution_count": 2,
   "metadata": {},
   "outputs": [],
   "source": [
    "library(car)\n",
    "library(MASS)\n",
    "library(rms)\n",
    "library(glmnet)\n",
    "library(leaps)\n",
    "require(ggplot2)\n",
    "library(cvTools)\n",
    "set.seed(1234)"
   ]
  },
  {
   "cell_type": "code",
   "execution_count": 3,
   "metadata": {},
   "outputs": [
    {
     "data": {
      "text/html": [
       "<table>\n",
       "<thead><tr><th scope=col>BODYFAT</th><th scope=col>AGE</th><th scope=col>WEIGHT</th><th scope=col>HEIGHT</th><th scope=col>ADIPOSITY</th><th scope=col>NECK</th><th scope=col>CHEST</th><th scope=col>ABDOMEN</th><th scope=col>HIP</th><th scope=col>THIGH</th><th scope=col>KNEE</th><th scope=col>ANKLE</th><th scope=col>BICEPS</th><th scope=col>FOREARM</th><th scope=col>WRIST</th></tr></thead>\n",
       "<tbody>\n",
       "\t<tr><td>12.6  </td><td>23    </td><td>154.25</td><td>67.75 </td><td>23.7  </td><td>36.2  </td><td> 93.1 </td><td> 85.2 </td><td> 94.5 </td><td>59.0  </td><td>37.3  </td><td>21.9  </td><td>32.0  </td><td>27.4  </td><td>17.1  </td></tr>\n",
       "\t<tr><td> 6.9  </td><td>22    </td><td>173.25</td><td>72.25 </td><td>23.4  </td><td>38.5  </td><td> 93.6 </td><td> 83.0 </td><td> 98.7 </td><td>58.7  </td><td>37.3  </td><td>23.4  </td><td>30.5  </td><td>28.9  </td><td>18.2  </td></tr>\n",
       "\t<tr><td>24.6  </td><td>22    </td><td>154.00</td><td>66.25 </td><td>24.7  </td><td>34.0  </td><td> 95.8 </td><td> 87.9 </td><td> 99.2 </td><td>59.6  </td><td>38.9  </td><td>24.0  </td><td>28.8  </td><td>25.2  </td><td>16.6  </td></tr>\n",
       "\t<tr><td>10.9  </td><td>26    </td><td>184.75</td><td>72.25 </td><td>24.9  </td><td>37.4  </td><td>101.8 </td><td> 86.4 </td><td>101.2 </td><td>60.1  </td><td>37.3  </td><td>22.8  </td><td>32.4  </td><td>29.4  </td><td>18.2  </td></tr>\n",
       "\t<tr><td>27.8  </td><td>24    </td><td>184.25</td><td>71.25 </td><td>25.6  </td><td>34.4  </td><td> 97.3 </td><td>100.0 </td><td>101.9 </td><td>63.2  </td><td>42.2  </td><td>24.0  </td><td>32.2  </td><td>27.7  </td><td>17.7  </td></tr>\n",
       "\t<tr><td>20.6  </td><td>24    </td><td>210.25</td><td>74.75 </td><td>26.5  </td><td>39.0  </td><td>104.5 </td><td> 94.4 </td><td>107.8 </td><td>66.0  </td><td>42.0  </td><td>25.6  </td><td>35.7  </td><td>30.6  </td><td>18.8  </td></tr>\n",
       "</tbody>\n",
       "</table>\n"
      ],
      "text/latex": [
       "\\begin{tabular}{r|lllllllllllllll}\n",
       " BODYFAT & AGE & WEIGHT & HEIGHT & ADIPOSITY & NECK & CHEST & ABDOMEN & HIP & THIGH & KNEE & ANKLE & BICEPS & FOREARM & WRIST\\\\\n",
       "\\hline\n",
       "\t 12.6   & 23     & 154.25 & 67.75  & 23.7   & 36.2   &  93.1  &  85.2  &  94.5  & 59.0   & 37.3   & 21.9   & 32.0   & 27.4   & 17.1  \\\\\n",
       "\t  6.9   & 22     & 173.25 & 72.25  & 23.4   & 38.5   &  93.6  &  83.0  &  98.7  & 58.7   & 37.3   & 23.4   & 30.5   & 28.9   & 18.2  \\\\\n",
       "\t 24.6   & 22     & 154.00 & 66.25  & 24.7   & 34.0   &  95.8  &  87.9  &  99.2  & 59.6   & 38.9   & 24.0   & 28.8   & 25.2   & 16.6  \\\\\n",
       "\t 10.9   & 26     & 184.75 & 72.25  & 24.9   & 37.4   & 101.8  &  86.4  & 101.2  & 60.1   & 37.3   & 22.8   & 32.4   & 29.4   & 18.2  \\\\\n",
       "\t 27.8   & 24     & 184.25 & 71.25  & 25.6   & 34.4   &  97.3  & 100.0  & 101.9  & 63.2   & 42.2   & 24.0   & 32.2   & 27.7   & 17.7  \\\\\n",
       "\t 20.6   & 24     & 210.25 & 74.75  & 26.5   & 39.0   & 104.5  &  94.4  & 107.8  & 66.0   & 42.0   & 25.6   & 35.7   & 30.6   & 18.8  \\\\\n",
       "\\end{tabular}\n"
      ],
      "text/markdown": [
       "\n",
       "| BODYFAT | AGE | WEIGHT | HEIGHT | ADIPOSITY | NECK | CHEST | ABDOMEN | HIP | THIGH | KNEE | ANKLE | BICEPS | FOREARM | WRIST |\n",
       "|---|---|---|---|---|---|---|---|---|---|---|---|---|---|---|\n",
       "| 12.6   | 23     | 154.25 | 67.75  | 23.7   | 36.2   |  93.1  |  85.2  |  94.5  | 59.0   | 37.3   | 21.9   | 32.0   | 27.4   | 17.1   |\n",
       "|  6.9   | 22     | 173.25 | 72.25  | 23.4   | 38.5   |  93.6  |  83.0  |  98.7  | 58.7   | 37.3   | 23.4   | 30.5   | 28.9   | 18.2   |\n",
       "| 24.6   | 22     | 154.00 | 66.25  | 24.7   | 34.0   |  95.8  |  87.9  |  99.2  | 59.6   | 38.9   | 24.0   | 28.8   | 25.2   | 16.6   |\n",
       "| 10.9   | 26     | 184.75 | 72.25  | 24.9   | 37.4   | 101.8  |  86.4  | 101.2  | 60.1   | 37.3   | 22.8   | 32.4   | 29.4   | 18.2   |\n",
       "| 27.8   | 24     | 184.25 | 71.25  | 25.6   | 34.4   |  97.3  | 100.0  | 101.9  | 63.2   | 42.2   | 24.0   | 32.2   | 27.7   | 17.7   |\n",
       "| 20.6   | 24     | 210.25 | 74.75  | 26.5   | 39.0   | 104.5  |  94.4  | 107.8  | 66.0   | 42.0   | 25.6   | 35.7   | 30.6   | 18.8   |\n",
       "\n"
      ],
      "text/plain": [
       "  BODYFAT AGE WEIGHT HEIGHT ADIPOSITY NECK CHEST ABDOMEN HIP   THIGH KNEE ANKLE\n",
       "1 12.6    23  154.25 67.75  23.7      36.2  93.1  85.2    94.5 59.0  37.3 21.9 \n",
       "2  6.9    22  173.25 72.25  23.4      38.5  93.6  83.0    98.7 58.7  37.3 23.4 \n",
       "3 24.6    22  154.00 66.25  24.7      34.0  95.8  87.9    99.2 59.6  38.9 24.0 \n",
       "4 10.9    26  184.75 72.25  24.9      37.4 101.8  86.4   101.2 60.1  37.3 22.8 \n",
       "5 27.8    24  184.25 71.25  25.6      34.4  97.3 100.0   101.9 63.2  42.2 24.0 \n",
       "6 20.6    24  210.25 74.75  26.5      39.0 104.5  94.4   107.8 66.0  42.0 25.6 \n",
       "  BICEPS FOREARM WRIST\n",
       "1 32.0   27.4    17.1 \n",
       "2 30.5   28.9    18.2 \n",
       "3 28.8   25.2    16.6 \n",
       "4 32.4   29.4    18.2 \n",
       "5 32.2   27.7    17.7 \n",
       "6 35.7   30.6    18.8 "
      ]
     },
     "metadata": {},
     "output_type": "display_data"
    }
   ],
   "source": [
    "fat.rm=read.csv(\"../data/clean_fat.csv\",header=T)\n",
    "head(fat.rm)"
   ]
  },
  {
   "cell_type": "markdown",
   "metadata": {},
   "source": [
    "# Part III: Variable Selection"
   ]
  },
  {
   "cell_type": "markdown",
   "metadata": {},
   "source": [
    "First we fit the full model and the null model."
   ]
  },
  {
   "cell_type": "code",
   "execution_count": 4,
   "metadata": {},
   "outputs": [],
   "source": [
    "lm.full = lm(BODYFAT~.,fat.rm)\n",
    "lm.null = lm(BODYFAT~1,fat.rm)"
   ]
  },
  {
   "cell_type": "markdown",
   "metadata": {},
   "source": [
    "### 3.1 Variable Selection Based on $C_p$"
   ]
  },
  {
   "cell_type": "code",
   "execution_count": 18,
   "metadata": {},
   "outputs": [],
   "source": [
    "temp <- regsubsets(fat.rm[,-1],y=fat.rm$BODYFAT ,nbest=1,method=\"exhaustive\",nvmax=8)\n",
    "temp.mat <- cbind(summary(temp)$which,\n",
    "                  summary(temp)$rsq,\n",
    "                  summary(temp)$adjr2,\n",
    "                  summary(temp)$cp)\n",
    "dimnames(temp.mat)[[2]] <- c(dimnames(summary(temp)$which)[[2]],\"rsq\",\"adjrsq\",\"cp\")"
   ]
  },
  {
   "cell_type": "code",
   "execution_count": 19,
   "metadata": {
    "scrolled": true
   },
   "outputs": [
    {
     "data": {
      "text/html": [
       "<table>\n",
       "<thead><tr><th scope=col>(Intercept)</th><th scope=col>AGE</th><th scope=col>WEIGHT</th><th scope=col>HEIGHT</th><th scope=col>ADIPOSITY</th><th scope=col>NECK</th><th scope=col>CHEST</th><th scope=col>ABDOMEN</th><th scope=col>HIP</th><th scope=col>THIGH</th><th scope=col>KNEE</th><th scope=col>ANKLE</th><th scope=col>BICEPS</th><th scope=col>FOREARM</th><th scope=col>WRIST</th><th scope=col>rsq</th><th scope=col>adjrsq</th><th scope=col>cp</th></tr></thead>\n",
       "<tbody>\n",
       "\t<tr><td>1        </td><td>0        </td><td>0        </td><td>0        </td><td>0        </td><td>0        </td><td>0        </td><td>1        </td><td>0        </td><td>0        </td><td>0        </td><td>0        </td><td>0        </td><td>0        </td><td>0        </td><td>0.6606106</td><td>0.6592197</td><td>77.16320 </td></tr>\n",
       "\t<tr><td>1        </td><td>0        </td><td>1        </td><td>0        </td><td>0        </td><td>0        </td><td>0        </td><td>1        </td><td>0        </td><td>0        </td><td>0        </td><td>0        </td><td>0        </td><td>0        </td><td>0        </td><td>0.7202934</td><td>0.7179912</td><td>23.03731 </td></tr>\n",
       "\t<tr><td>1        </td><td>0        </td><td>1        </td><td>0        </td><td>0        </td><td>0        </td><td>0        </td><td>1        </td><td>0        </td><td>0        </td><td>0        </td><td>0        </td><td>0        </td><td>0        </td><td>1        </td><td>0.7275847</td><td>0.7242076</td><td>18.18050 </td></tr>\n",
       "\t<tr><td>1        </td><td>0        </td><td>1        </td><td>0        </td><td>0        </td><td>0        </td><td>0        </td><td>1        </td><td>0        </td><td>0        </td><td>0        </td><td>0        </td><td>0        </td><td>1        </td><td>1        </td><td>0.7361526</td><td>0.7317734</td><td>12.12317 </td></tr>\n",
       "</tbody>\n",
       "</table>\n"
      ],
      "text/latex": [
       "\\begin{tabular}{r|llllllllllllllllll}\n",
       " (Intercept) & AGE & WEIGHT & HEIGHT & ADIPOSITY & NECK & CHEST & ABDOMEN & HIP & THIGH & KNEE & ANKLE & BICEPS & FOREARM & WRIST & rsq & adjrsq & cp\\\\\n",
       "\\hline\n",
       "\t 1         & 0         & 0         & 0         & 0         & 0         & 0         & 1         & 0         & 0         & 0         & 0         & 0         & 0         & 0         & 0.6606106 & 0.6592197 & 77.16320 \\\\\n",
       "\t 1         & 0         & 1         & 0         & 0         & 0         & 0         & 1         & 0         & 0         & 0         & 0         & 0         & 0         & 0         & 0.7202934 & 0.7179912 & 23.03731 \\\\\n",
       "\t 1         & 0         & 1         & 0         & 0         & 0         & 0         & 1         & 0         & 0         & 0         & 0         & 0         & 0         & 1         & 0.7275847 & 0.7242076 & 18.18050 \\\\\n",
       "\t 1         & 0         & 1         & 0         & 0         & 0         & 0         & 1         & 0         & 0         & 0         & 0         & 0         & 1         & 1         & 0.7361526 & 0.7317734 & 12.12317 \\\\\n",
       "\\end{tabular}\n"
      ],
      "text/markdown": [
       "\n",
       "| (Intercept) | AGE | WEIGHT | HEIGHT | ADIPOSITY | NECK | CHEST | ABDOMEN | HIP | THIGH | KNEE | ANKLE | BICEPS | FOREARM | WRIST | rsq | adjrsq | cp |\n",
       "|---|---|---|---|---|---|---|---|---|---|---|---|---|---|---|---|---|---|\n",
       "| 1         | 0         | 0         | 0         | 0         | 0         | 0         | 1         | 0         | 0         | 0         | 0         | 0         | 0         | 0         | 0.6606106 | 0.6592197 | 77.16320  |\n",
       "| 1         | 0         | 1         | 0         | 0         | 0         | 0         | 1         | 0         | 0         | 0         | 0         | 0         | 0         | 0         | 0.7202934 | 0.7179912 | 23.03731  |\n",
       "| 1         | 0         | 1         | 0         | 0         | 0         | 0         | 1         | 0         | 0         | 0         | 0         | 0         | 0         | 1         | 0.7275847 | 0.7242076 | 18.18050  |\n",
       "| 1         | 0         | 1         | 0         | 0         | 0         | 0         | 1         | 0         | 0         | 0         | 0         | 0         | 1         | 1         | 0.7361526 | 0.7317734 | 12.12317  |\n",
       "\n"
      ],
      "text/plain": [
       "  (Intercept) AGE WEIGHT HEIGHT ADIPOSITY NECK CHEST ABDOMEN HIP THIGH KNEE\n",
       "1 1           0   0      0      0         0    0     1       0   0     0   \n",
       "2 1           0   1      0      0         0    0     1       0   0     0   \n",
       "3 1           0   1      0      0         0    0     1       0   0     0   \n",
       "4 1           0   1      0      0         0    0     1       0   0     0   \n",
       "  ANKLE BICEPS FOREARM WRIST rsq       adjrsq    cp      \n",
       "1 0     0      0       0     0.6606106 0.6592197 77.16320\n",
       "2 0     0      0       0     0.7202934 0.7179912 23.03731\n",
       "3 0     0      0       1     0.7275847 0.7242076 18.18050\n",
       "4 0     0      1       1     0.7361526 0.7317734 12.12317"
      ]
     },
     "metadata": {},
     "output_type": "display_data"
    }
   ],
   "source": [
    "head(temp.mat,4)"
   ]
  },
  {
   "cell_type": "markdown",
   "metadata": {},
   "source": [
    "### 3.2 Variable Selection Based on AIC and BIC"
   ]
  },
  {
   "cell_type": "markdown",
   "metadata": {},
   "source": [
    "**3.2.1 Both sides**"
   ]
  },
  {
   "cell_type": "code",
   "execution_count": 20,
   "metadata": {},
   "outputs": [
    {
     "data": {
      "text/plain": [
       "\n",
       "Call:\n",
       "lm(formula = BODYFAT ~ AGE + WEIGHT + HEIGHT + ADIPOSITY + NECK + \n",
       "    ABDOMEN + HIP + THIGH + FOREARM + WRIST, data = fat.rm)\n",
       "\n",
       "Residuals:\n",
       "    Min      1Q  Median      3Q     Max \n",
       "-9.6266 -2.6814 -0.3015  2.7093  9.1961 \n",
       "\n",
       "Coefficients:\n",
       "              Estimate Std. Error t value Pr(>|t|)    \n",
       "(Intercept) -124.53037   47.77827  -2.606  0.00973 ** \n",
       "AGE            0.05771    0.02865   2.014  0.04514 *  \n",
       "WEIGHT        -0.37777    0.13106  -2.883  0.00431 ** \n",
       "HEIGHT         1.51687    0.68044   2.229  0.02674 *  \n",
       "ADIPOSITY      2.18429    0.95268   2.293  0.02274 *  \n",
       "NECK          -0.38411    0.21176  -1.814  0.07097 .  \n",
       "ABDOMEN        0.84346    0.07990  10.557  < 2e-16 ***\n",
       "HIP           -0.22898    0.13045  -1.755  0.08052 .  \n",
       "THIGH          0.30992    0.12171   2.546  0.01152 *  \n",
       "FOREARM        0.42402    0.17414   2.435  0.01564 *  \n",
       "WRIST         -1.36343    0.47866  -2.848  0.00478 ** \n",
       "---\n",
       "Signif. codes:  0 ‘***’ 0.001 ‘**’ 0.01 ‘*’ 0.05 ‘.’ 0.1 ‘ ’ 1\n",
       "\n",
       "Residual standard error: 3.911 on 235 degrees of freedom\n",
       "Multiple R-squared:  0.7518,\tAdjusted R-squared:  0.7413 \n",
       "F-statistic: 71.19 on 10 and 235 DF,  p-value: < 2.2e-16\n"
      ]
     },
     "metadata": {},
     "output_type": "display_data"
    }
   ],
   "source": [
    "model.aic.both <- step(lm.full, direction = \"both\", k = 2,trace=0)\n",
    "summary(model.aic.both)"
   ]
  },
  {
   "cell_type": "code",
   "execution_count": 21,
   "metadata": {},
   "outputs": [
    {
     "data": {
      "text/plain": [
       "\n",
       "Call:\n",
       "lm(formula = BODYFAT ~ WEIGHT + ABDOMEN + FOREARM + WRIST, data = fat.rm)\n",
       "\n",
       "Residuals:\n",
       "     Min       1Q   Median       3Q      Max \n",
       "-10.0277  -2.7463  -0.1504   2.9042   8.2718 \n",
       "\n",
       "Coefficients:\n",
       "             Estimate Std. Error t value Pr(>|t|)    \n",
       "(Intercept) -32.90502    6.83115  -4.817 2.58e-06 ***\n",
       "WEIGHT       -0.13345    0.02320  -5.751 2.68e-08 ***\n",
       "ABDOMEN       0.92853    0.05217  17.798  < 2e-16 ***\n",
       "FOREARM       0.46965    0.16788   2.798  0.00557 ** \n",
       "WRIST        -1.29558    0.41603  -3.114  0.00207 ** \n",
       "---\n",
       "Signif. codes:  0 ‘***’ 0.001 ‘**’ 0.01 ‘*’ 0.05 ‘.’ 0.1 ‘ ’ 1\n",
       "\n",
       "Residual standard error: 3.982 on 241 degrees of freedom\n",
       "Multiple R-squared:  0.7362,\tAdjusted R-squared:  0.7318 \n",
       "F-statistic: 168.1 on 4 and 241 DF,  p-value: < 2.2e-16\n"
      ]
     },
     "metadata": {},
     "output_type": "display_data"
    }
   ],
   "source": [
    "model.bic.both <- step(lm.full, direction = \"both\", k = log(length(fat.rm[,1])),trace=0)\n",
    "summary(model.bic.both)"
   ]
  },
  {
   "cell_type": "markdown",
   "metadata": {},
   "source": [
    "**3.2.2 Backward direction**"
   ]
  },
  {
   "cell_type": "code",
   "execution_count": 11,
   "metadata": {},
   "outputs": [
    {
     "data": {
      "text/plain": [
       "\n",
       "Call:\n",
       "lm(formula = BODYFAT ~ AGE + WEIGHT + HEIGHT + ADIPOSITY + NECK + \n",
       "    ABDOMEN + HIP + THIGH + FOREARM + WRIST, data = fat.rm)\n",
       "\n",
       "Residuals:\n",
       "    Min      1Q  Median      3Q     Max \n",
       "-9.6266 -2.6814 -0.3015  2.7093  9.1961 \n",
       "\n",
       "Coefficients:\n",
       "              Estimate Std. Error t value Pr(>|t|)    \n",
       "(Intercept) -124.53037   47.77827  -2.606  0.00973 ** \n",
       "AGE            0.05771    0.02865   2.014  0.04514 *  \n",
       "WEIGHT        -0.37777    0.13106  -2.883  0.00431 ** \n",
       "HEIGHT         1.51687    0.68044   2.229  0.02674 *  \n",
       "ADIPOSITY      2.18429    0.95268   2.293  0.02274 *  \n",
       "NECK          -0.38411    0.21176  -1.814  0.07097 .  \n",
       "ABDOMEN        0.84346    0.07990  10.557  < 2e-16 ***\n",
       "HIP           -0.22898    0.13045  -1.755  0.08052 .  \n",
       "THIGH          0.30992    0.12171   2.546  0.01152 *  \n",
       "FOREARM        0.42402    0.17414   2.435  0.01564 *  \n",
       "WRIST         -1.36343    0.47866  -2.848  0.00478 ** \n",
       "---\n",
       "Signif. codes:  0 ‘***’ 0.001 ‘**’ 0.01 ‘*’ 0.05 ‘.’ 0.1 ‘ ’ 1\n",
       "\n",
       "Residual standard error: 3.911 on 235 degrees of freedom\n",
       "Multiple R-squared:  0.7518,\tAdjusted R-squared:  0.7413 \n",
       "F-statistic: 71.19 on 10 and 235 DF,  p-value: < 2.2e-16\n"
      ]
     },
     "metadata": {},
     "output_type": "display_data"
    }
   ],
   "source": [
    "#direction=backward\n",
    "model.aic.backward <- step(lm.full, direction = \"backward\", k = 2,trace=0)\n",
    "summary(model.aic.backward)"
   ]
  },
  {
   "cell_type": "code",
   "execution_count": 12,
   "metadata": {},
   "outputs": [
    {
     "data": {
      "text/plain": [
       "\n",
       "Call:\n",
       "lm(formula = BODYFAT ~ WEIGHT + ABDOMEN + FOREARM + WRIST, data = fat.rm)\n",
       "\n",
       "Residuals:\n",
       "     Min       1Q   Median       3Q      Max \n",
       "-10.0277  -2.7463  -0.1504   2.9042   8.2718 \n",
       "\n",
       "Coefficients:\n",
       "             Estimate Std. Error t value Pr(>|t|)    \n",
       "(Intercept) -32.90502    6.83115  -4.817 2.58e-06 ***\n",
       "WEIGHT       -0.13345    0.02320  -5.751 2.68e-08 ***\n",
       "ABDOMEN       0.92853    0.05217  17.798  < 2e-16 ***\n",
       "FOREARM       0.46965    0.16788   2.798  0.00557 ** \n",
       "WRIST        -1.29558    0.41603  -3.114  0.00207 ** \n",
       "---\n",
       "Signif. codes:  0 ‘***’ 0.001 ‘**’ 0.01 ‘*’ 0.05 ‘.’ 0.1 ‘ ’ 1\n",
       "\n",
       "Residual standard error: 3.982 on 241 degrees of freedom\n",
       "Multiple R-squared:  0.7362,\tAdjusted R-squared:  0.7318 \n",
       "F-statistic: 168.1 on 4 and 241 DF,  p-value: < 2.2e-16\n"
      ]
     },
     "metadata": {},
     "output_type": "display_data"
    }
   ],
   "source": [
    "model.bic.backward <- step(lm.full, direction = \"backward\", k = log(length(fat.rm[,1])),trace=0)\n",
    "summary(model.bic.backward)"
   ]
  },
  {
   "cell_type": "markdown",
   "metadata": {},
   "source": [
    "**3.2.3 Forward direction **"
   ]
  },
  {
   "cell_type": "code",
   "execution_count": 13,
   "metadata": {},
   "outputs": [
    {
     "data": {
      "text/plain": [
       "\n",
       "Call:\n",
       "lm(formula = BODYFAT ~ ABDOMEN + WEIGHT + WRIST + FOREARM + NECK + \n",
       "    BICEPS, data = fat.rm)\n",
       "\n",
       "Residuals:\n",
       "    Min      1Q  Median      3Q     Max \n",
       "-9.5528 -2.8526 -0.2014  2.9533  8.5052 \n",
       "\n",
       "Coefficients:\n",
       "             Estimate Std. Error t value Pr(>|t|)    \n",
       "(Intercept) -30.53832    7.25584  -4.209 3.64e-05 ***\n",
       "ABDOMEN       0.94345    0.05235  18.021  < 2e-16 ***\n",
       "WEIGHT       -0.13673    0.02599  -5.262 3.17e-07 ***\n",
       "WRIST        -1.07850    0.43759  -2.465   0.0144 *  \n",
       "FOREARM       0.42158    0.17932   2.351   0.0195 *  \n",
       "NECK         -0.35291    0.20534  -1.719   0.0870 .  \n",
       "BICEPS        0.23745    0.15147   1.568   0.1183    \n",
       "---\n",
       "Signif. codes:  0 ‘***’ 0.001 ‘**’ 0.01 ‘*’ 0.05 ‘.’ 0.1 ‘ ’ 1\n",
       "\n",
       "Residual standard error: 3.958 on 239 degrees of freedom\n",
       "Multiple R-squared:  0.7414,\tAdjusted R-squared:  0.7349 \n",
       "F-statistic: 114.2 on 6 and 239 DF,  p-value: < 2.2e-16\n"
      ]
     },
     "metadata": {},
     "output_type": "display_data"
    }
   ],
   "source": [
    "#direction=forward\n",
    "model.aic.forward <- step(lm.null,~ AGE + WEIGHT + HEIGHT + ADIPOSITY + NECK + CHEST + \n",
    "                            ABDOMEN + HIP + THIGH + KNEE + ANKLE + BICEPS + FOREARM + \n",
    "                            WRIST, direction = \"forward\", k = 2,trace=0)\n",
    "summary(model.aic.forward)"
   ]
  },
  {
   "cell_type": "code",
   "execution_count": 14,
   "metadata": {},
   "outputs": [
    {
     "data": {
      "text/plain": [
       "\n",
       "Call:\n",
       "lm(formula = BODYFAT ~ ABDOMEN + WEIGHT + WRIST + FOREARM, data = fat.rm)\n",
       "\n",
       "Residuals:\n",
       "     Min       1Q   Median       3Q      Max \n",
       "-10.0277  -2.7463  -0.1504   2.9042   8.2718 \n",
       "\n",
       "Coefficients:\n",
       "             Estimate Std. Error t value Pr(>|t|)    \n",
       "(Intercept) -32.90502    6.83115  -4.817 2.58e-06 ***\n",
       "ABDOMEN       0.92853    0.05217  17.798  < 2e-16 ***\n",
       "WEIGHT       -0.13345    0.02320  -5.751 2.68e-08 ***\n",
       "WRIST        -1.29558    0.41603  -3.114  0.00207 ** \n",
       "FOREARM       0.46965    0.16788   2.798  0.00557 ** \n",
       "---\n",
       "Signif. codes:  0 ‘***’ 0.001 ‘**’ 0.01 ‘*’ 0.05 ‘.’ 0.1 ‘ ’ 1\n",
       "\n",
       "Residual standard error: 3.982 on 241 degrees of freedom\n",
       "Multiple R-squared:  0.7362,\tAdjusted R-squared:  0.7318 \n",
       "F-statistic: 168.1 on 4 and 241 DF,  p-value: < 2.2e-16\n"
      ]
     },
     "metadata": {},
     "output_type": "display_data"
    }
   ],
   "source": [
    "model.bic.forward <- step(lm.null,~ AGE + WEIGHT + HEIGHT + ADIPOSITY + NECK + CHEST + \n",
    "                            ABDOMEN + HIP + THIGH + KNEE + ANKLE + BICEPS + FOREARM + \n",
    "                            WRIST, direction = \"forward\", k = log(length(fat.rm[,1])),trace=0)\n",
    "summary(model.bic.forward)"
   ]
  },
  {
   "cell_type": "markdown",
   "metadata": {},
   "source": [
    "### 3.3 Variable Selection Based on F-test"
   ]
  },
  {
   "cell_type": "code",
   "execution_count": 20,
   "metadata": {},
   "outputs": [
    {
     "data": {
      "text/plain": [
       "\n",
       " Deleted Chi-Sq d.f. P      Residual d.f. P      AIC   R2   \n",
       " KNEE    0.04   1    0.8427  0.04    1    0.8427 -1.96 0.754\n",
       " CHEST   0.46   1    0.4970  0.50    2    0.7785 -3.50 0.754\n",
       " ANKLE   0.78   1    0.3765  1.28    3    0.7332 -4.72 0.753\n",
       " BICEPS  1.11   1    0.2927  2.39    4    0.6644 -5.61 0.752\n",
       " HIP     3.06   1    0.0802  5.45    5    0.3635 -4.55 0.749\n",
       " NECK    2.14   1    0.1431  7.59    6    0.2694 -4.41 0.746\n",
       " AGE     3.82   1    0.0507 11.41    7    0.1216 -2.59 0.742\n",
       "\n",
       "Approximate Estimates after Deleting Factors\n",
       "\n",
       "               Coef     S.E. Wald Z        P\n",
       "Intercept -127.2782 46.85953 -2.716 0.006604\n",
       "WEIGHT      -0.4000  0.12922 -3.095 0.001966\n",
       "HEIGHT       1.2688  0.66504  1.908 0.056417\n",
       "ADIPOSITY    1.7408  0.93054  1.871 0.061388\n",
       "ABDOMEN      0.9127  0.06901 13.226 0.000000\n",
       "THIGH        0.1527  0.10370  1.472 0.140923\n",
       "FOREARM      0.4068  0.16870  2.411 0.015891\n",
       "WRIST       -1.1433  0.42445 -2.694 0.007066\n",
       "\n",
       "Factors in Final Model\n",
       "\n",
       "[1] WEIGHT    HEIGHT    ADIPOSITY ABDOMEN   THIGH     FOREARM   WRIST    "
      ]
     },
     "metadata": {},
     "output_type": "display_data"
    }
   ],
   "source": [
    "ols.full = ols(BODYFAT~., fat.rm)\n",
    "fastbw(ols.full, rule = \"p\", sls = 0.1)"
   ]
  },
  {
   "cell_type": "markdown",
   "metadata": {},
   "source": [
    "### 3.4 Variable Selection Based on LASSO"
   ]
  },
  {
   "cell_type": "code",
   "execution_count": 23,
   "metadata": {
    "scrolled": false
   },
   "outputs": [
    {
     "data": {
      "image/png": "[encoded data removed]",
      "text/plain": [
       "plot without title"
      ]
     },
     "metadata": {},
     "output_type": "display_data"
    }
   ],
   "source": [
    "options(repr.plot.width=4, repr.plot.height=4)\n",
    "cv.fit=cv.glmnet(as.matrix(fat.rm[-1]),fat.rm$BODYFAT)\n",
    "plot(cv.fit)"
   ]
  },
  {
   "cell_type": "markdown",
   "metadata": {},
   "source": [
    "“lambda.min”: lambda that gives minimum mse. May be too small to select features."
   ]
  },
  {
   "cell_type": "code",
   "execution_count": 24,
   "metadata": {},
   "outputs": [
    {
     "data": {
      "text/html": [
       "0.00400851341739512"
      ],
      "text/latex": [
       "0.00400851341739512"
      ],
      "text/markdown": [
       "0.00400851341739512"
      ],
      "text/plain": [
       "[1] 0.004008513"
      ]
     },
     "metadata": {},
     "output_type": "display_data"
    }
   ],
   "source": [
    "cv.fit$lambda.min"
   ]
  },
  {
   "cell_type": "code",
   "execution_count": 26,
   "metadata": {},
   "outputs": [
    {
     "data": {
      "text/plain": [
       "\n",
       "Call:  glmnet(x = as.matrix(fat.rm[-1]), y = fat.rm$BODYFAT, lambda = cv.fit$lambda.min) \n",
       "\n",
       "     Df   %Dev   Lambda\n",
       "[1,] 14 0.7538 0.004009"
      ]
     },
     "metadata": {},
     "output_type": "display_data"
    }
   ],
   "source": [
    "las=glmnet(as.matrix(fat.rm[-1]),fat.rm$BODYFAT,lambda = cv.fit$lambda.min)\n",
    "las"
   ]
  },
  {
   "cell_type": "code",
   "execution_count": 28,
   "metadata": {},
   "outputs": [
    {
     "data": {
      "text/plain": [
       "15 x 1 sparse Matrix of class \"dgCMatrix\"\n",
       "                  1\n",
       "(Intercept) -94.871\n",
       "AGE           0.055\n",
       "WEIGHT       -0.304\n",
       "HEIGHT        1.081\n",
       "ADIPOSITY     1.595\n",
       "NECK         -0.380\n",
       "CHEST        -0.053\n",
       "ABDOMEN       0.884\n",
       "HIP          -0.212\n",
       "THIGH         0.237\n",
       "KNEE          0.019\n",
       "ANKLE         0.163\n",
       "BICEPS        0.173\n",
       "FOREARM       0.391\n",
       "WRIST        -1.485"
      ]
     },
     "metadata": {},
     "output_type": "display_data"
    }
   ],
   "source": [
    "# “lambda.min”: lambda that gives minimum mse. May be too small to select features.\n",
    "# “lambda.1se”: largest lambda s.t. mse is within 1 sd of minimum. Typically we choose lambda.1se.\n",
    "round(coef(las,s = \"lambda.min\"),3)\n"
   ]
  },
  {
   "cell_type": "code",
   "execution_count": 29,
   "metadata": {},
   "outputs": [
    {
     "data": {
      "text/plain": [
       "15 x 1 sparse Matrix of class \"dgCMatrix\"\n",
       "                 1\n",
       "(Intercept) -2.828\n",
       "AGE          0.035\n",
       "WEIGHT       .    \n",
       "HEIGHT      -0.252\n",
       "ADIPOSITY    .    \n",
       "NECK        -0.045\n",
       "CHEST        .    \n",
       "ABDOMEN      0.613\n",
       "HIP          .    \n",
       "THIGH        .    \n",
       "KNEE         .    \n",
       "ANKLE        .    \n",
       "BICEPS       .    \n",
       "FOREARM      0.012\n",
       "WRIST       -0.950"
      ]
     },
     "metadata": {},
     "output_type": "display_data"
    }
   ],
   "source": [
    "round(coef(cv.fit, s = \"lambda.1se\" ),3)"
   ]
  },
  {
   "cell_type": "code",
   "execution_count": 30,
   "metadata": {},
   "outputs": [
    {
     "data": {
      "text/plain": [
       "15 x 1 sparse Matrix of class \"dgCMatrix\"\n",
       "                 1\n",
       "(Intercept) -2.828\n",
       "AGE          0.035\n",
       "WEIGHT       .    \n",
       "HEIGHT      -0.252\n",
       "ADIPOSITY    .    \n",
       "NECK        -0.045\n",
       "CHEST        .    \n",
       "ABDOMEN      0.613\n",
       "HIP          .    \n",
       "THIGH        .    \n",
       "KNEE         .    \n",
       "ANKLE        .    \n",
       "BICEPS       .    \n",
       "FOREARM      0.012\n",
       "WRIST       -0.950"
      ]
     },
     "metadata": {},
     "output_type": "display_data"
    }
   ],
   "source": [
    "round(coef(cv.fit, s = \"lambda.1se\" ),3)"
   ]
  },
  {
   "cell_type": "code",
   "execution_count": 31,
   "metadata": {},
   "outputs": [
    {
     "data": {
      "text/html": [
       "<dl class=dl-horizontal>\n",
       "\t<dt>AGE</dt>\n",
       "\t\t<dd>1.237</dd>\n",
       "\t<dt>HEIGHT</dt>\n",
       "\t\t<dd>1.374</dd>\n",
       "\t<dt>ABDOMEN</dt>\n",
       "\t\t<dd>1.661</dd>\n",
       "\t<dt>WRIST</dt>\n",
       "\t\t<dd>1.971</dd>\n",
       "</dl>\n"
      ],
      "text/latex": [
       "\\begin{description*}\n",
       "\\item[AGE] 1.237\n",
       "\\item[HEIGHT] 1.374\n",
       "\\item[ABDOMEN] 1.661\n",
       "\\item[WRIST] 1.971\n",
       "\\end{description*}\n"
      ],
      "text/markdown": [
       "AGE\n",
       ":   1.237HEIGHT\n",
       ":   1.374ABDOMEN\n",
       ":   1.661WRIST\n",
       ":   1.971\n",
       "\n"
      ],
      "text/plain": [
       "    AGE  HEIGHT ABDOMEN   WRIST \n",
       "  1.237   1.374   1.661   1.971 "
      ]
     },
     "metadata": {},
     "output_type": "display_data"
    }
   ],
   "source": [
    "round(vif(lm(BODYFAT~AGE+HEIGHT+ABDOMEN+WRIST,data=fat.rm)),3)"
   ]
  },
  {
   "cell_type": "code",
   "execution_count": 33,
   "metadata": {},
   "outputs": [
    {
     "data": {
      "text/html": [
       "0.289447097192825"
      ],
      "text/latex": [
       "0.289447097192825"
      ],
      "text/markdown": [
       "0.289447097192825"
      ],
      "text/plain": [
       "[1] 0.2894471"
      ]
     },
     "metadata": {},
     "output_type": "display_data"
    }
   ],
   "source": [
    "cv.fit$lambda.1se"
   ]
  },
  {
   "cell_type": "code",
   "execution_count": 34,
   "metadata": {},
   "outputs": [
    {
     "data": {
      "image/png": "[encoded data removed]",
      "text/plain": [
       "Plot with title “lassio pred”"
      ]
     },
     "metadata": {},
     "output_type": "display_data"
    }
   ],
   "source": [
    "las.pred=predict(las, s =\"lambda.1se\", newx = as.matrix(fat.rm[-1]))\n",
    "plot(las.pred,fat.rm$BODYFAT-las.pred,main=\"lassio pred\");abline(h=0)\n",
    "las.res=fat.rm$BODYFAT-las.pred"
   ]
  },
  {
   "cell_type": "markdown",
   "metadata": {},
   "source": [
    "### 3.5 Cross-Validation Based on Selected Variables"
   ]
  },
  {
   "cell_type": "markdown",
   "metadata": {},
   "source": [
    "According to the result based on above citeria, we find that `WEIGHT`,`ABDOMEN`,`WRIST`,`FOREARM` are most selected. In order to further detect necessary variables in our final model, we use both $R^2$ and Cross-Validation to evaluate different model constructed by these variables."
   ]
  },
  {
   "cell_type": "markdown",
   "metadata": {},
   "source": [
    "The cross-validation function for different models are shown below:"
   ]
  },
  {
   "cell_type": "code",
   "execution_count": 40,
   "metadata": {},
   "outputs": [],
   "source": [
    "cv = function(model,k=10,m=1000){\n",
    "  ind.mse = c()\n",
    "  for(i in 1:m){\n",
    "    ind.res = c()\n",
    "    for(i in 1:k){\n",
    "      train = fat.rm[folds$subsets[folds$which != i], ]\n",
    "      model = lm(model, data = train)\n",
    "      validation = fat.rm[folds$subsets[folds$which == 1], ]\n",
    "      predict.fat = predict(model, newdata = validation[,c(2:ncol(fat.rm))])\n",
    "      mse = sum((validation$BODYFAT-predict.fat)**2)/nrow(validation)\n",
    "      ind.res = c(ind.res,mse)\n",
    "    }\n",
    "    ind.mse = c(ind.mse,mean(ind.res))\n",
    "  }\n",
    "  return(mean(ind.mse))\n",
    "}"
   ]
  },
  {
   "cell_type": "markdown",
   "metadata": {},
   "source": [
    "Set the fold number of cros-validation equals to 10"
   ]
  },
  {
   "cell_type": "code",
   "execution_count": 51,
   "metadata": {},
   "outputs": [],
   "source": [
    "set.seed(6281)\n",
    "k = 10\n",
    "folds = cvFolds(nrow(fat.rm), K=k)"
   ]
  },
  {
   "cell_type": "code",
   "execution_count": 59,
   "metadata": {},
   "outputs": [
    {
     "name": "stdout",
     "output_type": "stream",
     "text": [
      "BODYFAT ~ ABDOMEN+WEIGHT \tCV= 17.83583 \tR^2= 0.7202934 \n",
      "BODYFAT ~ ABDOMEN+WRIST \tCV= 17.8831 \tR^2= 0.6990451 \n",
      "BODYFAT ~ ABDOMEN+FOREARM \tCV= 20.70226 \tR^2= 0.663109 \n",
      "BODYFAT ~ WEIGHT+WRIST \tCV= 42.34295 \tR^2= 0.3893658 \n",
      "BODYFAT ~ WEIGHT+FOREARM \tCV= 45.97513 \tR^2= 0.3712991 \n",
      "BODYFAT ~ WRIST+FOREARM \tCV= 64.60497 \tR^2= 0.1588935 \n"
     ]
    }
   ],
   "source": [
    "model1 = BODYFAT ~ ABDOMEN+WEIGHT\n",
    "model2 = BODYFAT ~ ABDOMEN+WRIST\n",
    "model3 = BODYFAT ~ ABDOMEN+FOREARM\n",
    "model4 = BODYFAT ~ WEIGHT+WRIST\n",
    "model5 = BODYFAT ~ WEIGHT+FOREARM\n",
    "model6 = BODYFAT ~ WRIST+FOREARM\n",
    "\n",
    "model1.cv=cv(model1)\n",
    "cat(\"BODYFAT ~ ABDOMEN+WEIGHT\",\"\\tCV=\",model1.cv, \"\\tR^2=\",summary(lm(model1,fat.rm))$r.squared,\"\\n\")\n",
    "model2.cv=cv(model2)\n",
    "cat(\"BODYFAT ~ ABDOMEN+WRIST\",\"\\tCV=\",model2.cv, \"\\tR^2=\",summary(lm(model2,fat.rm))$r.squared,\"\\n\")\n",
    "model3.cv=cv(model3)\n",
    "cat(\"BODYFAT ~ ABDOMEN+FOREARM\",\"\\tCV=\",model3.cv, \"\\tR^2=\",summary(lm(model3,fat.rm))$r.squared,\"\\n\")\n",
    "model4.cv=cv(model4)\n",
    "cat(\"BODYFAT ~ WEIGHT+WRIST\",\"\\tCV=\",model4.cv, \"\\tR^2=\",summary(lm(model4,fat.rm))$r.squared,\"\\n\")\n",
    "model5.cv=cv(model5)\n",
    "cat(\"BODYFAT ~ WEIGHT+FOREARM\",\"\\tCV=\",model5.cv, \"\\tR^2=\",summary(lm(model5,fat.rm))$r.squared,\"\\n\")\n",
    "model6.cv=cv(model6)\n",
    "cat(\"BODYFAT ~ WRIST+FOREARM\",\"\\tCV=\",model6.cv, \"\\tR^2=\",summary(lm(model6,fat.rm))$r.squared,\"\\n\")"
   ]
  },
  {
   "cell_type": "code",
   "execution_count": 60,
   "metadata": {
    "scrolled": true
   },
   "outputs": [
    {
     "name": "stdout",
     "output_type": "stream",
     "text": [
      "BODYFAT ~ ABDOMEN+WEIGHT+WRIST \tCV= 17.57577 \tR^2= 0.7275847 \n",
      "BODYFAT ~ ABDOMEN+WEIGHT+FOREARM \tCV= 17.25601 \tR^2= 0.7255352 \n",
      "BODYFAT ~ WEIGHT+WRIST+FOREARM \tCV= 42.35037 \tR^2= 0.3893661 \n"
     ]
    }
   ],
   "source": [
    "model31 = BODYFAT ~ ABDOMEN+WEIGHT+WRIST\n",
    "model32 = BODYFAT ~ ABDOMEN+WEIGHT+FOREARM\n",
    "model33 = BODYFAT ~ WEIGHT+WRIST+FOREARM\n",
    "model31.cv=cv(model31)\n",
    "cat(\"BODYFAT ~ ABDOMEN+WEIGHT+WRIST\",\"\\tCV=\",model31.cv, \"\\tR^2=\",summary(lm(model31,fat.rm))$r.squared,\"\\n\")\n",
    "model32.cv=cv(model32)\n",
    "cat(\"BODYFAT ~ ABDOMEN+WEIGHT+FOREARM\",\"\\tCV=\",model32.cv, \"\\tR^2=\",summary(lm(model32,fat.rm))$r.squared,\"\\n\")\n",
    "model33.cv=cv(model33)\n",
    "cat(\"BODYFAT ~ WEIGHT+WRIST+FOREARM\",\"\\tCV=\",model33.cv, \"\\tR^2=\",summary(lm(model33,fat.rm))$r.squared,\"\\n\")"
   ]
  },
  {
   "cell_type": "code",
   "execution_count": 61,
   "metadata": {},
   "outputs": [
    {
     "name": "stdout",
     "output_type": "stream",
     "text": [
      "BODYFAT ~ ABDOMEN+WEIGHT+WRIST+FOREARM \tCV= 16.89677 \tR^2= 0.7361526 \n"
     ]
    }
   ],
   "source": [
    "model41 = BODYFAT ~ ABDOMEN+WEIGHT+WRIST+FOREARM\n",
    "model41.cv=cv(model41)\n",
    "cat(\"BODYFAT ~ ABDOMEN+WEIGHT+WRIST+FOREARM\",\"\\tCV=\",model41.cv, \"\\tR^2=\",summary(lm(model41,fat.rm))$r.squared,\"\\n\")"
   ]
  },
  {
   "cell_type": "markdown",
   "metadata": {},
   "source": [
    "Therefore we have following summary table for our variable selection\n",
    "\n",
    "|No.|Variable Numbers |            Model                 | 10-fold-CV | $R^2$ |\n",
    "|:-:|:---------------:|:---------------------------------|:----------:|:--------------:|\n",
    "| 1 |       2         | BODYFAT ~ ABDOMEN+WEIGHT         |  17.8358  |   0.7203    |\n",
    "| 2 |       2         | BODYFAT ~ ABDOMEN+WRIST          |  17.8831   |       |\n",
    "| 3 |       2         | BODYFAT ~ ABDOMEN+FOREARM        |  20.7023  |       |\n",
    "| 4 |       2         | BODYFAT ~ WEIGHT+WRIST           |  42.3430  |       |\n",
    "| 5 |       2         | BODYFAT ~ WEIGHT+FOREARM         |  45.9751  |       |\n",
    "| 6 |       2         | BODYFAT ~ WRIST+FOREARM          |  64.6050  |       |\n",
    "| 7 |       3         | BODYFAT ~ ABDOMEN+WEIGHT+WRIST   |  17.5758  |       |\n",
    "| 8 |       3         | BODYFAT ~ ABDOMEN+WEIGHT+FOREARM |  17.2560  |       |\n",
    "| 9 |       3         | BODYFAT ~ WEIGHT+WRIST+FOREARM   |  42.3504  |       |\n",
    "| 10|       4         | BODYFAT ~ ABDOMEN+WEIGHT+WRIST+FOREARM|  16.8968  |       |"
   ]
  },
  {
   "cell_type": "markdown",
   "metadata": {},
   "source": [
    "### Final Decision :BIC in forward direction"
   ]
  },
  {
   "cell_type": "code",
   "execution_count": 12,
   "metadata": {},
   "outputs": [
    {
     "data": {
      "text/plain": [
       "\n",
       "Call:\n",
       "lm(formula = BODYFAT ~ ABDOMEN + WEIGHT + WRIST + FOREARM, data = fat.rm)\n",
       "\n",
       "Residuals:\n",
       "     Min       1Q   Median       3Q      Max \n",
       "-10.0277  -2.7463  -0.1504   2.9042   8.2718 \n",
       "\n",
       "Coefficients:\n",
       "             Estimate Std. Error t value Pr(>|t|)    \n",
       "(Intercept) -32.90502    6.83115  -4.817 2.58e-06 ***\n",
       "ABDOMEN       0.92853    0.05217  17.798  < 2e-16 ***\n",
       "WEIGHT       -0.13345    0.02320  -5.751 2.68e-08 ***\n",
       "WRIST        -1.29558    0.41603  -3.114  0.00207 ** \n",
       "FOREARM       0.46965    0.16788   2.798  0.00557 ** \n",
       "---\n",
       "Signif. codes:  0 '***' 0.001 '**' 0.01 '*' 0.05 '.' 0.1 ' ' 1\n",
       "\n",
       "Residual standard error: 3.982 on 241 degrees of freedom\n",
       "Multiple R-squared:  0.7362,\tAdjusted R-squared:  0.7318 \n",
       "F-statistic: 168.1 on 4 and 241 DF,  p-value: < 2.2e-16\n"
      ]
     },
     "metadata": {},
     "output_type": "display_data"
    }
   ],
   "source": [
    "summary(model.bic.forward)"
   ]
  }
 ],
 "metadata": {
  "kernelspec": {
   "display_name": "R",
   "language": "R",
   "name": "ir"
  },
  "language_info": {
   "codemirror_mode": "r",
   "file_extension": ".r",
   "mimetype": "text/x-r-source",
   "name": "R",
   "pygments_lexer": "r",
   "version": "3.6.1"
  }
 },
 "nbformat": 4,
 "nbformat_minor": 2
}
