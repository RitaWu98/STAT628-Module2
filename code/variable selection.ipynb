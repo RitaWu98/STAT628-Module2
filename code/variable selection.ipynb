{
 "cells": [
  {
   "cell_type": "code",
   "execution_count": 13,
   "metadata": {},
   "outputs": [
    {
     "name": "stderr",
     "output_type": "stream",
     "text": [
      "Loading required package: robustbase\n",
      "\n",
      "Attaching package: 'robustbase'\n",
      "\n",
      "The following object is masked from 'package:survival':\n",
      "\n",
      "    heart\n",
      "\n"
     ]
    }
   ],
   "source": [
    "library(car)\n",
    "library(MASS)\n",
    "library(rms)\n",
    "library(glmnet)\n",
    "library(leaps)\n",
    "require(ggplot2)\n",
    "library(cvTools)\n",
    "set.seed(1234)"
   ]
  },
  {
   "cell_type": "code",
   "execution_count": 23,
   "metadata": {},
   "outputs": [
    {
     "data": {
      "text/html": [
       "<table>\n",
       "<thead><tr><th scope=col>BODYFAT</th><th scope=col>AGE</th><th scope=col>WEIGHT</th><th scope=col>HEIGHT</th><th scope=col>ADIPOSITY</th><th scope=col>NECK</th><th scope=col>CHEST</th><th scope=col>ABDOMEN</th><th scope=col>HIP</th><th scope=col>THIGH</th><th scope=col>KNEE</th><th scope=col>ANKLE</th><th scope=col>BICEPS</th><th scope=col>FOREARM</th><th scope=col>WRIST</th></tr></thead>\n",
       "<tbody>\n",
       "\t<tr><td>12.6  </td><td>23    </td><td>154.25</td><td>67.75 </td><td>23.7  </td><td>36.2  </td><td> 93.1 </td><td> 85.2 </td><td> 94.5 </td><td>59.0  </td><td>37.3  </td><td>21.9  </td><td>32.0  </td><td>27.4  </td><td>17.1  </td></tr>\n",
       "\t<tr><td> 6.9  </td><td>22    </td><td>173.25</td><td>72.25 </td><td>23.4  </td><td>38.5  </td><td> 93.6 </td><td> 83.0 </td><td> 98.7 </td><td>58.7  </td><td>37.3  </td><td>23.4  </td><td>30.5  </td><td>28.9  </td><td>18.2  </td></tr>\n",
       "\t<tr><td>24.6  </td><td>22    </td><td>154.00</td><td>66.25 </td><td>24.7  </td><td>34.0  </td><td> 95.8 </td><td> 87.9 </td><td> 99.2 </td><td>59.6  </td><td>38.9  </td><td>24.0  </td><td>28.8  </td><td>25.2  </td><td>16.6  </td></tr>\n",
       "\t<tr><td>10.9  </td><td>26    </td><td>184.75</td><td>72.25 </td><td>24.9  </td><td>37.4  </td><td>101.8 </td><td> 86.4 </td><td>101.2 </td><td>60.1  </td><td>37.3  </td><td>22.8  </td><td>32.4  </td><td>29.4  </td><td>18.2  </td></tr>\n",
       "\t<tr><td>27.8  </td><td>24    </td><td>184.25</td><td>71.25 </td><td>25.6  </td><td>34.4  </td><td> 97.3 </td><td>100.0 </td><td>101.9 </td><td>63.2  </td><td>42.2  </td><td>24.0  </td><td>32.2  </td><td>27.7  </td><td>17.7  </td></tr>\n",
       "\t<tr><td>20.6  </td><td>24    </td><td>210.25</td><td>74.75 </td><td>26.5  </td><td>39.0  </td><td>104.5 </td><td> 94.4 </td><td>107.8 </td><td>66.0  </td><td>42.0  </td><td>25.6  </td><td>35.7  </td><td>30.6  </td><td>18.8  </td></tr>\n",
       "</tbody>\n",
       "</table>\n"
      ],
      "text/latex": [
       "\\begin{tabular}{r|lllllllllllllll}\n",
       " BODYFAT & AGE & WEIGHT & HEIGHT & ADIPOSITY & NECK & CHEST & ABDOMEN & HIP & THIGH & KNEE & ANKLE & BICEPS & FOREARM & WRIST\\\\\n",
       "\\hline\n",
       "\t 12.6   & 23     & 154.25 & 67.75  & 23.7   & 36.2   &  93.1  &  85.2  &  94.5  & 59.0   & 37.3   & 21.9   & 32.0   & 27.4   & 17.1  \\\\\n",
       "\t  6.9   & 22     & 173.25 & 72.25  & 23.4   & 38.5   &  93.6  &  83.0  &  98.7  & 58.7   & 37.3   & 23.4   & 30.5   & 28.9   & 18.2  \\\\\n",
       "\t 24.6   & 22     & 154.00 & 66.25  & 24.7   & 34.0   &  95.8  &  87.9  &  99.2  & 59.6   & 38.9   & 24.0   & 28.8   & 25.2   & 16.6  \\\\\n",
       "\t 10.9   & 26     & 184.75 & 72.25  & 24.9   & 37.4   & 101.8  &  86.4  & 101.2  & 60.1   & 37.3   & 22.8   & 32.4   & 29.4   & 18.2  \\\\\n",
       "\t 27.8   & 24     & 184.25 & 71.25  & 25.6   & 34.4   &  97.3  & 100.0  & 101.9  & 63.2   & 42.2   & 24.0   & 32.2   & 27.7   & 17.7  \\\\\n",
       "\t 20.6   & 24     & 210.25 & 74.75  & 26.5   & 39.0   & 104.5  &  94.4  & 107.8  & 66.0   & 42.0   & 25.6   & 35.7   & 30.6   & 18.8  \\\\\n",
       "\\end{tabular}\n"
      ],
      "text/markdown": [
       "\n",
       "| BODYFAT | AGE | WEIGHT | HEIGHT | ADIPOSITY | NECK | CHEST | ABDOMEN | HIP | THIGH | KNEE | ANKLE | BICEPS | FOREARM | WRIST |\n",
       "|---|---|---|---|---|---|---|---|---|---|---|---|---|---|---|\n",
       "| 12.6   | 23     | 154.25 | 67.75  | 23.7   | 36.2   |  93.1  |  85.2  |  94.5  | 59.0   | 37.3   | 21.9   | 32.0   | 27.4   | 17.1   |\n",
       "|  6.9   | 22     | 173.25 | 72.25  | 23.4   | 38.5   |  93.6  |  83.0  |  98.7  | 58.7   | 37.3   | 23.4   | 30.5   | 28.9   | 18.2   |\n",
       "| 24.6   | 22     | 154.00 | 66.25  | 24.7   | 34.0   |  95.8  |  87.9  |  99.2  | 59.6   | 38.9   | 24.0   | 28.8   | 25.2   | 16.6   |\n",
       "| 10.9   | 26     | 184.75 | 72.25  | 24.9   | 37.4   | 101.8  |  86.4  | 101.2  | 60.1   | 37.3   | 22.8   | 32.4   | 29.4   | 18.2   |\n",
       "| 27.8   | 24     | 184.25 | 71.25  | 25.6   | 34.4   |  97.3  | 100.0  | 101.9  | 63.2   | 42.2   | 24.0   | 32.2   | 27.7   | 17.7   |\n",
       "| 20.6   | 24     | 210.25 | 74.75  | 26.5   | 39.0   | 104.5  |  94.4  | 107.8  | 66.0   | 42.0   | 25.6   | 35.7   | 30.6   | 18.8   |\n",
       "\n"
      ],
      "text/plain": [
       "  BODYFAT AGE WEIGHT HEIGHT ADIPOSITY NECK CHEST ABDOMEN HIP   THIGH KNEE ANKLE\n",
       "1 12.6    23  154.25 67.75  23.7      36.2  93.1  85.2    94.5 59.0  37.3 21.9 \n",
       "2  6.9    22  173.25 72.25  23.4      38.5  93.6  83.0    98.7 58.7  37.3 23.4 \n",
       "3 24.6    22  154.00 66.25  24.7      34.0  95.8  87.9    99.2 59.6  38.9 24.0 \n",
       "4 10.9    26  184.75 72.25  24.9      37.4 101.8  86.4   101.2 60.1  37.3 22.8 \n",
       "5 27.8    24  184.25 71.25  25.6      34.4  97.3 100.0   101.9 63.2  42.2 24.0 \n",
       "6 20.6    24  210.25 74.75  26.5      39.0 104.5  94.4   107.8 66.0  42.0 25.6 \n",
       "  BICEPS FOREARM WRIST\n",
       "1 32.0   27.4    17.1 \n",
       "2 30.5   28.9    18.2 \n",
       "3 28.8   25.2    16.6 \n",
       "4 32.4   29.4    18.2 \n",
       "5 32.2   27.7    17.7 \n",
       "6 35.7   30.6    18.8 "
      ]
     },
     "metadata": {},
     "output_type": "display_data"
    }
   ],
   "source": [
    "fat.rm=read.csv(\"clean_fat.csv\",header=T)\n",
    "head(fat.rm)"
   ]
  },
  {
   "cell_type": "markdown",
   "metadata": {},
   "source": [
    "# Part III: Variable Selection"
   ]
  },
  {
   "cell_type": "markdown",
   "metadata": {},
   "source": [
    "First we fit the full model and the null model."
   ]
  },
  {
   "cell_type": "code",
   "execution_count": 3,
   "metadata": {},
   "outputs": [],
   "source": [
    "lm.full = lm(BODYFAT~.,fat.rm)\n",
    "lm.null = lm(BODYFAT~1,fat.rm)"
   ]
  },
  {
   "cell_type": "markdown",
   "metadata": {},
   "source": [
    "### 3.1 Variable Selection Based on $C_p$"
   ]
  },
  {
   "cell_type": "code",
   "execution_count": 4,
   "metadata": {},
   "outputs": [],
   "source": [
    "temp <- regsubsets(fat.rm[,-c(1:3)],y=fat.rm$BODYFAT ,nbest=1,method=\"exhaustive\",nvmax=4)\n",
    "temp.mat <- cbind(summary(temp)$which,\n",
    "                  summary(temp)$rsq,\n",
    "                  summary(temp)$adjr2,\n",
    "                  summary(temp)$cp)\n",
    "dimnames(temp.mat)[[2]] <- c(dimnames(summary(temp)$which)[[2]],\"rsq\",\"adjrsq\",\"cp\")"
   ]
  },
  {
   "cell_type": "code",
   "execution_count": 5,
   "metadata": {},
   "outputs": [
    {
     "data": {
      "text/html": [
       "<table>\n",
       "<thead><tr><th scope=col>(Intercept)</th><th scope=col>HEIGHT</th><th scope=col>ADIPOSITY</th><th scope=col>NECK</th><th scope=col>CHEST</th><th scope=col>ABDOMEN</th><th scope=col>HIP</th><th scope=col>THIGH</th><th scope=col>KNEE</th><th scope=col>ANKLE</th><th scope=col>BICEPS</th><th scope=col>FOREARM</th><th scope=col>WRIST</th><th scope=col>rsq</th><th scope=col>adjrsq</th><th scope=col>cp</th></tr></thead>\n",
       "<tbody>\n",
       "\t<tr><td>1        </td><td>0        </td><td>0        </td><td>0        </td><td>0        </td><td>1        </td><td>0        </td><td>0        </td><td>0        </td><td>0        </td><td>0        </td><td>0        </td><td>0        </td><td>0.6606106</td><td>0.6592197</td><td>63.55052 </td></tr>\n",
       "\t<tr><td>1        </td><td>0        </td><td>0        </td><td>0        </td><td>0        </td><td>1        </td><td>0        </td><td>0        </td><td>0        </td><td>0        </td><td>0        </td><td>0        </td><td>1        </td><td>0.6990451</td><td>0.6965681</td><td>30.94813 </td></tr>\n",
       "\t<tr><td>1        </td><td>0        </td><td>0        </td><td>0        </td><td>0        </td><td>1        </td><td>1        </td><td>0        </td><td>0        </td><td>0        </td><td>0        </td><td>0        </td><td>1        </td><td>0.7185459</td><td>0.7150568</td><td>15.39166 </td></tr>\n",
       "\t<tr><td>1        </td><td>0        </td><td>0        </td><td>1        </td><td>0        </td><td>1        </td><td>1        </td><td>0        </td><td>0        </td><td>0        </td><td>0        </td><td>0        </td><td>1        </td><td>0.7242928</td><td>0.7197167</td><td>12.21779 </td></tr>\n",
       "</tbody>\n",
       "</table>\n"
      ],
      "text/latex": [
       "\\begin{tabular}{r|llllllllllllllll}\n",
       " (Intercept) & HEIGHT & ADIPOSITY & NECK & CHEST & ABDOMEN & HIP & THIGH & KNEE & ANKLE & BICEPS & FOREARM & WRIST & rsq & adjrsq & cp\\\\\n",
       "\\hline\n",
       "\t 1         & 0         & 0         & 0         & 0         & 1         & 0         & 0         & 0         & 0         & 0         & 0         & 0         & 0.6606106 & 0.6592197 & 63.55052 \\\\\n",
       "\t 1         & 0         & 0         & 0         & 0         & 1         & 0         & 0         & 0         & 0         & 0         & 0         & 1         & 0.6990451 & 0.6965681 & 30.94813 \\\\\n",
       "\t 1         & 0         & 0         & 0         & 0         & 1         & 1         & 0         & 0         & 0         & 0         & 0         & 1         & 0.7185459 & 0.7150568 & 15.39166 \\\\\n",
       "\t 1         & 0         & 0         & 1         & 0         & 1         & 1         & 0         & 0         & 0         & 0         & 0         & 1         & 0.7242928 & 0.7197167 & 12.21779 \\\\\n",
       "\\end{tabular}\n"
      ],
      "text/markdown": [
       "\n",
       "| (Intercept) | HEIGHT | ADIPOSITY | NECK | CHEST | ABDOMEN | HIP | THIGH | KNEE | ANKLE | BICEPS | FOREARM | WRIST | rsq | adjrsq | cp |\n",
       "|---|---|---|---|---|---|---|---|---|---|---|---|---|---|---|---|\n",
       "| 1         | 0         | 0         | 0         | 0         | 1         | 0         | 0         | 0         | 0         | 0         | 0         | 0         | 0.6606106 | 0.6592197 | 63.55052  |\n",
       "| 1         | 0         | 0         | 0         | 0         | 1         | 0         | 0         | 0         | 0         | 0         | 0         | 1         | 0.6990451 | 0.6965681 | 30.94813  |\n",
       "| 1         | 0         | 0         | 0         | 0         | 1         | 1         | 0         | 0         | 0         | 0         | 0         | 1         | 0.7185459 | 0.7150568 | 15.39166  |\n",
       "| 1         | 0         | 0         | 1         | 0         | 1         | 1         | 0         | 0         | 0         | 0         | 0         | 1         | 0.7242928 | 0.7197167 | 12.21779  |\n",
       "\n"
      ],
      "text/plain": [
       "  (Intercept) HEIGHT ADIPOSITY NECK CHEST ABDOMEN HIP THIGH KNEE ANKLE BICEPS\n",
       "1 1           0      0         0    0     1       0   0     0    0     0     \n",
       "2 1           0      0         0    0     1       0   0     0    0     0     \n",
       "3 1           0      0         0    0     1       1   0     0    0     0     \n",
       "4 1           0      0         1    0     1       1   0     0    0     0     \n",
       "  FOREARM WRIST rsq       adjrsq    cp      \n",
       "1 0       0     0.6606106 0.6592197 63.55052\n",
       "2 0       1     0.6990451 0.6965681 30.94813\n",
       "3 0       1     0.7185459 0.7150568 15.39166\n",
       "4 0       1     0.7242928 0.7197167 12.21779"
      ]
     },
     "metadata": {},
     "output_type": "display_data"
    }
   ],
   "source": [
    "temp.mat"
   ]
  },
  {
   "cell_type": "markdown",
   "metadata": {},
   "source": [
    "### 3.2 Variable Selection Based on AIC and BIC"
   ]
  },
  {
   "cell_type": "markdown",
   "metadata": {},
   "source": [
    "**3.2.1** Both sides"
   ]
  },
  {
   "cell_type": "code",
   "execution_count": 6,
   "metadata": {},
   "outputs": [
    {
     "data": {
      "text/plain": [
       "\n",
       "Call:\n",
       "lm(formula = BODYFAT ~ AGE + WEIGHT + HEIGHT + ADIPOSITY + NECK + \n",
       "    ABDOMEN + HIP + THIGH + FOREARM + WRIST, data = fat.rm)\n",
       "\n",
       "Residuals:\n",
       "    Min      1Q  Median      3Q     Max \n",
       "-9.6266 -2.6814 -0.3015  2.7093  9.1961 \n",
       "\n",
       "Coefficients:\n",
       "              Estimate Std. Error t value Pr(>|t|)    \n",
       "(Intercept) -124.53037   47.77827  -2.606  0.00973 ** \n",
       "AGE            0.05771    0.02865   2.014  0.04514 *  \n",
       "WEIGHT        -0.37777    0.13106  -2.883  0.00431 ** \n",
       "HEIGHT         1.51687    0.68044   2.229  0.02674 *  \n",
       "ADIPOSITY      2.18429    0.95268   2.293  0.02274 *  \n",
       "NECK          -0.38411    0.21176  -1.814  0.07097 .  \n",
       "ABDOMEN        0.84346    0.07990  10.557  < 2e-16 ***\n",
       "HIP           -0.22898    0.13045  -1.755  0.08052 .  \n",
       "THIGH          0.30992    0.12171   2.546  0.01152 *  \n",
       "FOREARM        0.42402    0.17414   2.435  0.01564 *  \n",
       "WRIST         -1.36343    0.47866  -2.848  0.00478 ** \n",
       "---\n",
       "Signif. codes:  0 '***' 0.001 '**' 0.01 '*' 0.05 '.' 0.1 ' ' 1\n",
       "\n",
       "Residual standard error: 3.911 on 235 degrees of freedom\n",
       "Multiple R-squared:  0.7518,\tAdjusted R-squared:  0.7413 \n",
       "F-statistic: 71.19 on 10 and 235 DF,  p-value: < 2.2e-16\n"
      ]
     },
     "metadata": {},
     "output_type": "display_data"
    }
   ],
   "source": [
    "model.aic.both <- step(lm.full, direction = \"both\", k = 2,trace=0)\n",
    "summary(model.aic.both)"
   ]
  },
  {
   "cell_type": "code",
   "execution_count": 7,
   "metadata": {},
   "outputs": [
    {
     "data": {
      "text/plain": [
       "\n",
       "Call:\n",
       "lm(formula = BODYFAT ~ WEIGHT + ABDOMEN + FOREARM + WRIST, data = fat.rm)\n",
       "\n",
       "Residuals:\n",
       "     Min       1Q   Median       3Q      Max \n",
       "-10.0277  -2.7463  -0.1504   2.9042   8.2718 \n",
       "\n",
       "Coefficients:\n",
       "             Estimate Std. Error t value Pr(>|t|)    \n",
       "(Intercept) -32.90502    6.83115  -4.817 2.58e-06 ***\n",
       "WEIGHT       -0.13345    0.02320  -5.751 2.68e-08 ***\n",
       "ABDOMEN       0.92853    0.05217  17.798  < 2e-16 ***\n",
       "FOREARM       0.46965    0.16788   2.798  0.00557 ** \n",
       "WRIST        -1.29558    0.41603  -3.114  0.00207 ** \n",
       "---\n",
       "Signif. codes:  0 '***' 0.001 '**' 0.01 '*' 0.05 '.' 0.1 ' ' 1\n",
       "\n",
       "Residual standard error: 3.982 on 241 degrees of freedom\n",
       "Multiple R-squared:  0.7362,\tAdjusted R-squared:  0.7318 \n",
       "F-statistic: 168.1 on 4 and 241 DF,  p-value: < 2.2e-16\n"
      ]
     },
     "metadata": {},
     "output_type": "display_data"
    }
   ],
   "source": [
    "model.bic.both <- step(lm.full, direction = \"both\", k = log(length(fat.rm[,1])),trace=0)\n",
    "summary(model.bic.both)"
   ]
  },
  {
   "cell_type": "markdown",
   "metadata": {},
   "source": [
    "**3.2.2** Backward direction"
   ]
  },
  {
   "cell_type": "code",
   "execution_count": 8,
   "metadata": {},
   "outputs": [
    {
     "data": {
      "text/plain": [
       "\n",
       "Call:\n",
       "lm(formula = BODYFAT ~ AGE + WEIGHT + HEIGHT + ADIPOSITY + NECK + \n",
       "    ABDOMEN + HIP + THIGH + FOREARM + WRIST, data = fat.rm)\n",
       "\n",
       "Residuals:\n",
       "    Min      1Q  Median      3Q     Max \n",
       "-9.6266 -2.6814 -0.3015  2.7093  9.1961 \n",
       "\n",
       "Coefficients:\n",
       "              Estimate Std. Error t value Pr(>|t|)    \n",
       "(Intercept) -124.53037   47.77827  -2.606  0.00973 ** \n",
       "AGE            0.05771    0.02865   2.014  0.04514 *  \n",
       "WEIGHT        -0.37777    0.13106  -2.883  0.00431 ** \n",
       "HEIGHT         1.51687    0.68044   2.229  0.02674 *  \n",
       "ADIPOSITY      2.18429    0.95268   2.293  0.02274 *  \n",
       "NECK          -0.38411    0.21176  -1.814  0.07097 .  \n",
       "ABDOMEN        0.84346    0.07990  10.557  < 2e-16 ***\n",
       "HIP           -0.22898    0.13045  -1.755  0.08052 .  \n",
       "THIGH          0.30992    0.12171   2.546  0.01152 *  \n",
       "FOREARM        0.42402    0.17414   2.435  0.01564 *  \n",
       "WRIST         -1.36343    0.47866  -2.848  0.00478 ** \n",
       "---\n",
       "Signif. codes:  0 '***' 0.001 '**' 0.01 '*' 0.05 '.' 0.1 ' ' 1\n",
       "\n",
       "Residual standard error: 3.911 on 235 degrees of freedom\n",
       "Multiple R-squared:  0.7518,\tAdjusted R-squared:  0.7413 \n",
       "F-statistic: 71.19 on 10 and 235 DF,  p-value: < 2.2e-16\n"
      ]
     },
     "metadata": {},
     "output_type": "display_data"
    },
    {
     "data": {
      "text/plain": [
       "\n",
       "Call:\n",
       "lm(formula = BODYFAT ~ WEIGHT + ABDOMEN + FOREARM + WRIST, data = fat.rm)\n",
       "\n",
       "Residuals:\n",
       "     Min       1Q   Median       3Q      Max \n",
       "-10.0277  -2.7463  -0.1504   2.9042   8.2718 \n",
       "\n",
       "Coefficients:\n",
       "             Estimate Std. Error t value Pr(>|t|)    \n",
       "(Intercept) -32.90502    6.83115  -4.817 2.58e-06 ***\n",
       "WEIGHT       -0.13345    0.02320  -5.751 2.68e-08 ***\n",
       "ABDOMEN       0.92853    0.05217  17.798  < 2e-16 ***\n",
       "FOREARM       0.46965    0.16788   2.798  0.00557 ** \n",
       "WRIST        -1.29558    0.41603  -3.114  0.00207 ** \n",
       "---\n",
       "Signif. codes:  0 '***' 0.001 '**' 0.01 '*' 0.05 '.' 0.1 ' ' 1\n",
       "\n",
       "Residual standard error: 3.982 on 241 degrees of freedom\n",
       "Multiple R-squared:  0.7362,\tAdjusted R-squared:  0.7318 \n",
       "F-statistic: 168.1 on 4 and 241 DF,  p-value: < 2.2e-16\n"
      ]
     },
     "metadata": {},
     "output_type": "display_data"
    }
   ],
   "source": [
    "#direction=backward\n",
    "model.aic.backward <- step(lm.full, direction = \"backward\", k = 2,trace=0)\n",
    "summary(model.aic.backward)\n",
    "\n",
    "model.bic.backward <- step(lm.full, direction = \"backward\", k = log(length(fat.rm[,1])),trace=0)\n",
    "summary(model.bic.backward)\n",
    "\n",
    "\n"
   ]
  },
  {
   "cell_type": "markdown",
   "metadata": {},
   "source": [
    "**3.2.3** Forward direction"
   ]
  },
  {
   "cell_type": "code",
   "execution_count": 9,
   "metadata": {},
   "outputs": [
    {
     "data": {
      "text/plain": [
       "\n",
       "Call:\n",
       "lm(formula = BODYFAT ~ ABDOMEN + WEIGHT + WRIST + FOREARM + NECK + \n",
       "    BICEPS, data = fat.rm)\n",
       "\n",
       "Residuals:\n",
       "    Min      1Q  Median      3Q     Max \n",
       "-9.5528 -2.8526 -0.2014  2.9533  8.5052 \n",
       "\n",
       "Coefficients:\n",
       "             Estimate Std. Error t value Pr(>|t|)    \n",
       "(Intercept) -30.53832    7.25584  -4.209 3.64e-05 ***\n",
       "ABDOMEN       0.94345    0.05235  18.021  < 2e-16 ***\n",
       "WEIGHT       -0.13673    0.02599  -5.262 3.17e-07 ***\n",
       "WRIST        -1.07850    0.43759  -2.465   0.0144 *  \n",
       "FOREARM       0.42158    0.17932   2.351   0.0195 *  \n",
       "NECK         -0.35291    0.20534  -1.719   0.0870 .  \n",
       "BICEPS        0.23745    0.15147   1.568   0.1183    \n",
       "---\n",
       "Signif. codes:  0 '***' 0.001 '**' 0.01 '*' 0.05 '.' 0.1 ' ' 1\n",
       "\n",
       "Residual standard error: 3.958 on 239 degrees of freedom\n",
       "Multiple R-squared:  0.7414,\tAdjusted R-squared:  0.7349 \n",
       "F-statistic: 114.2 on 6 and 239 DF,  p-value: < 2.2e-16\n"
      ]
     },
     "metadata": {},
     "output_type": "display_data"
    },
    {
     "data": {
      "text/plain": [
       "\n",
       "Call:\n",
       "lm(formula = BODYFAT ~ ABDOMEN + WEIGHT + WRIST + FOREARM, data = fat.rm)\n",
       "\n",
       "Residuals:\n",
       "     Min       1Q   Median       3Q      Max \n",
       "-10.0277  -2.7463  -0.1504   2.9042   8.2718 \n",
       "\n",
       "Coefficients:\n",
       "             Estimate Std. Error t value Pr(>|t|)    \n",
       "(Intercept) -32.90502    6.83115  -4.817 2.58e-06 ***\n",
       "ABDOMEN       0.92853    0.05217  17.798  < 2e-16 ***\n",
       "WEIGHT       -0.13345    0.02320  -5.751 2.68e-08 ***\n",
       "WRIST        -1.29558    0.41603  -3.114  0.00207 ** \n",
       "FOREARM       0.46965    0.16788   2.798  0.00557 ** \n",
       "---\n",
       "Signif. codes:  0 '***' 0.001 '**' 0.01 '*' 0.05 '.' 0.1 ' ' 1\n",
       "\n",
       "Residual standard error: 3.982 on 241 degrees of freedom\n",
       "Multiple R-squared:  0.7362,\tAdjusted R-squared:  0.7318 \n",
       "F-statistic: 168.1 on 4 and 241 DF,  p-value: < 2.2e-16\n"
      ]
     },
     "metadata": {},
     "output_type": "display_data"
    }
   ],
   "source": [
    "#direction=forward\n",
    "model.aic.forward <- step(lm.null,~ AGE + WEIGHT + HEIGHT + ADIPOSITY + NECK + CHEST + \n",
    "                            ABDOMEN + HIP + THIGH + KNEE + ANKLE + BICEPS + FOREARM + \n",
    "                            WRIST, direction = \"forward\", k = 2,trace=0)\n",
    "summary(model.aic.forward)\n",
    "\n",
    "model.bic.forward <- step(lm.null,~ AGE + WEIGHT + HEIGHT + ADIPOSITY + NECK + CHEST + \n",
    "                            ABDOMEN + HIP + THIGH + KNEE + ANKLE + BICEPS + FOREARM + \n",
    "                            WRIST, direction = \"forward\", k = log(length(fat.rm[,1])),trace=0)\n",
    "summary(model.bic.forward)"
   ]
  },
  {
   "cell_type": "markdown",
   "metadata": {},
   "source": [
    "### 3.3 Variable Selection Based on F-test"
   ]
  },
  {
   "cell_type": "code",
   "execution_count": 10,
   "metadata": {},
   "outputs": [
    {
     "data": {
      "text/plain": [
       "\n",
       " Deleted Chi-Sq d.f. P      Residual d.f. P      AIC   R2   \n",
       " KNEE    0.04   1    0.8427  0.04    1    0.8427 -1.96 0.754\n",
       " CHEST   0.46   1    0.4970  0.50    2    0.7785 -3.50 0.754\n",
       " ANKLE   0.78   1    0.3765  1.28    3    0.7332 -4.72 0.753\n",
       " BICEPS  1.11   1    0.2927  2.39    4    0.6644 -5.61 0.752\n",
       " HIP     3.06   1    0.0802  5.45    5    0.3635 -4.55 0.749\n",
       " NECK    2.14   1    0.1431  7.59    6    0.2694 -4.41 0.746\n",
       " AGE     3.82   1    0.0507 11.41    7    0.1216 -2.59 0.742\n",
       "\n",
       "Approximate Estimates after Deleting Factors\n",
       "\n",
       "               Coef     S.E. Wald Z        P\n",
       "Intercept -127.2782 46.85953 -2.716 0.006604\n",
       "WEIGHT      -0.4000  0.12922 -3.095 0.001966\n",
       "HEIGHT       1.2688  0.66504  1.908 0.056417\n",
       "ADIPOSITY    1.7408  0.93054  1.871 0.061388\n",
       "ABDOMEN      0.9127  0.06901 13.226 0.000000\n",
       "THIGH        0.1527  0.10370  1.472 0.140923\n",
       "FOREARM      0.4068  0.16870  2.411 0.015891\n",
       "WRIST       -1.1433  0.42445 -2.694 0.007066\n",
       "\n",
       "Factors in Final Model\n",
       "\n",
       "[1] WEIGHT    HEIGHT    ADIPOSITY ABDOMEN   THIGH     FOREARM   WRIST    "
      ]
     },
     "metadata": {},
     "output_type": "display_data"
    }
   ],
   "source": [
    "#F-test\n",
    "ols.full = ols(BODYFAT~., fat.rm)\n",
    "fastbw(ols.full, rule = \"p\", sls = 0.1)\n"
   ]
  },
  {
   "cell_type": "markdown",
   "metadata": {},
   "source": [
    "### 3.4 Variable Selection Based on LASSO"
   ]
  },
  {
   "cell_type": "code",
   "execution_count": 11,
   "metadata": {},
   "outputs": [
    {
     "data": {
      "text/html": [
       "0.00276291281107614"
      ],
      "text/latex": [
       "0.00276291281107614"
      ],
      "text/markdown": [
       "0.00276291281107614"
      ],
      "text/plain": [
       "[1] 0.002762913"
      ]
     },
     "metadata": {},
     "output_type": "display_data"
    },
    {
     "data": {
      "text/plain": [
       "\n",
       "Call:  glmnet(x = as.matrix(fat.rm[-1]), y = fat.rm$BODYFAT, lambda = cv.fit$lambda.min) \n",
       "\n",
       "     Df  %Dev   Lambda\n",
       "[1,] 14 0.754 0.002763"
      ]
     },
     "metadata": {},
     "output_type": "display_data"
    },
    {
     "data": {
      "text/plain": [
       "15 x 1 sparse Matrix of class \"dgCMatrix\"\n",
       "                   1\n",
       "(Intercept) -103.283\n",
       "AGE            0.055\n",
       "WEIGHT        -0.327\n",
       "HEIGHT         1.207\n",
       "ADIPOSITY      1.775\n",
       "NECK          -0.379\n",
       "CHEST         -0.058\n",
       "ABDOMEN        0.884\n",
       "HIP           -0.219\n",
       "THIGH          0.240\n",
       "KNEE           0.026\n",
       "ANKLE          0.162\n",
       "BICEPS         0.176\n",
       "FOREARM        0.387\n",
       "WRIST         -1.496"
      ]
     },
     "metadata": {},
     "output_type": "display_data"
    },
    {
     "data": {
      "text/plain": [
       "15 x 1 sparse Matrix of class \"dgCMatrix\"\n",
       "                 1\n",
       "(Intercept) -2.828\n",
       "AGE          0.035\n",
       "WEIGHT       .    \n",
       "HEIGHT      -0.252\n",
       "ADIPOSITY    .    \n",
       "NECK        -0.045\n",
       "CHEST        .    \n",
       "ABDOMEN      0.613\n",
       "HIP          .    \n",
       "THIGH        .    \n",
       "KNEE         .    \n",
       "ANKLE        .    \n",
       "BICEPS       .    \n",
       "FOREARM      0.012\n",
       "WRIST       -0.950"
      ]
     },
     "metadata": {},
     "output_type": "display_data"
    },
    {
     "data": {
      "text/html": [
       "<dl class=dl-horizontal>\n",
       "\t<dt>AGE</dt>\n",
       "\t\t<dd>1.237</dd>\n",
       "\t<dt>HEIGHT</dt>\n",
       "\t\t<dd>1.374</dd>\n",
       "\t<dt>ABDOMEN</dt>\n",
       "\t\t<dd>1.661</dd>\n",
       "\t<dt>WRIST</dt>\n",
       "\t\t<dd>1.971</dd>\n",
       "</dl>\n"
      ],
      "text/latex": [
       "\\begin{description*}\n",
       "\\item[AGE] 1.237\n",
       "\\item[HEIGHT] 1.374\n",
       "\\item[ABDOMEN] 1.661\n",
       "\\item[WRIST] 1.971\n",
       "\\end{description*}\n"
      ],
      "text/markdown": [
       "AGE\n",
       ":   1.237HEIGHT\n",
       ":   1.374ABDOMEN\n",
       ":   1.661WRIST\n",
       ":   1.971\n",
       "\n"
      ],
      "text/plain": [
       "    AGE  HEIGHT ABDOMEN   WRIST \n",
       "  1.237   1.374   1.661   1.971 "
      ]
     },
     "metadata": {},
     "output_type": "display_data"
    },
    {
     "data": {
      "text/html": [
       "0.289447097192825"
      ],
      "text/latex": [
       "0.289447097192825"
      ],
      "text/markdown": [
       "0.289447097192825"
      ],
      "text/plain": [
       "[1] 0.2894471"
      ]
     },
     "metadata": {},
     "output_type": "display_data"
    },
    {
     "data": {
      "image/png": "[encoded data removed]",
      "text/plain": [
       "Plot with title \"lassio regression MSE vs log(lambda)\""
      ]
     },
     "metadata": {},
     "output_type": "display_data"
    },
    {
     "data": {
      "image/png": "[encoded data removed]",
      "text/plain": [
       "Plot with title \"lassio pred\""
      ]
     },
     "metadata": {},
     "output_type": "display_data"
    }
   ],
   "source": [
    "# LASSO\n",
    "cv.fit=cv.glmnet(as.matrix(fat.rm[-1]),fat.rm$BODYFAT)#default 10 folds\n",
    "plot(cv.fit,main=\"lassio regression MSE vs log(lambda)\")\n",
    "cv.fit$lambda.min\n",
    "# cv.fit$lambda.1se\n",
    "las=glmnet(as.matrix(fat.rm[-1]),fat.rm$BODYFAT,lambda = cv.fit$lambda.min)\n",
    "las\n",
    "# plot(las, xvar=\"lambda\")\n",
    "# “lambda.min”: lambda that gives minimum mse. May be too small to select features.\n",
    "# “lambda.1se”: largest lambda s.t. mse is within 1 sd of minimum. Typically we choose lambda.1se.\n",
    "round(coef(las,s = \"lambda.min\"),3)\n",
    "round(coef(cv.fit, s = \"lambda.1se\" ),3)\n",
    "round(vif(lm(BODYFAT~AGE+HEIGHT+ABDOMEN+WRIST,data=fat.rm)),3)\n",
    "cv.fit$lambda.1se\n",
    "las.pred=predict(las, s =\"lambda.1se\", newx = as.matrix(fat.rm[-1]))\n",
    "\n",
    "# fat.rm$BODYFAT-las.pred\n",
    "plot(las.pred,fat.rm$BODYFAT-las.pred,main=\"lassio pred\");abline(h=0)\n",
    "las.res=fat.rm$BODYFAT-las.pred"
   ]
  },
  {
   "cell_type": "markdown",
   "metadata": {},
   "source": [
    "### Cross validation"
   ]
  },
  {
   "cell_type": "code",
   "execution_count": 16,
   "metadata": {},
   "outputs": [
    {
     "name": "stdout",
     "output_type": "stream",
     "text": [
      "BODYFAT ~ ABDOMEN+WEIGHT \tCV= 18.53075 \n",
      "BODYFAT ~ ABDOMEN+WRIST \tCV= 19.66227 \n"
     ]
    }
   ],
   "source": [
    "k = 10 #the number of folds\n",
    "folds = cvFolds(nrow(fat.rm), K=k)\n",
    "model1 = BODYFAT ~ ABDOMEN+WEIGHT\n",
    "model2 = BODYFAT ~ ABDOMEN+WRIST\n",
    "cv = function(model){\n",
    "  ind.res = c()\n",
    "  for(i in 1:k){\n",
    "    train = fat.rm[folds$subsets[folds$which != i], ]\n",
    "    model = lm(model, data = train)\n",
    "    validation = fat.rm[folds$subsets[folds$which == 1], ]\n",
    "    predict.fat = predict(model, newdata = validation[,c(2:ncol(fat.rm))])\n",
    "    mse = sum((validation$BODYFAT-predict.fat)**2)/nrow(validation)\n",
    "    ind.res = c(ind.res,mse)\n",
    "  }\n",
    "  return(mean(ind.res))\n",
    "}\n",
    "multi.cv = function(model){\n",
    "  ind.mse = c()\n",
    "  for(i in 1:1000){\n",
    "    ind.mse = c(ind.mse,cv(model))\n",
    "  }\n",
    "  return(mean(ind.mse))\n",
    "}\n",
    "model1.cv=multi.cv(model1)\n",
    "cat(\"BODYFAT ~ ABDOMEN+WEIGHT\",\"\\tCV=\",model1.cv,\"\\n\")\n",
    "model2.cv=multi.cv(model2)\n",
    "cat(\"BODYFAT ~ ABDOMEN+WRIST\",\"\\tCV=\",model2.cv,\"\\n\")"
   ]
  },
  {
   "cell_type": "code",
   "execution_count": null,
   "metadata": {},
   "outputs": [],
   "source": []
  },
  {
   "cell_type": "markdown",
   "metadata": {},
   "source": [
    "### Final Decision :BIC in forward direction"
   ]
  },
  {
   "cell_type": "code",
   "execution_count": 12,
   "metadata": {},
   "outputs": [
    {
     "data": {
      "text/plain": [
       "\n",
       "Call:\n",
       "lm(formula = BODYFAT ~ ABDOMEN + WEIGHT + WRIST + FOREARM, data = fat.rm)\n",
       "\n",
       "Residuals:\n",
       "     Min       1Q   Median       3Q      Max \n",
       "-10.0277  -2.7463  -0.1504   2.9042   8.2718 \n",
       "\n",
       "Coefficients:\n",
       "             Estimate Std. Error t value Pr(>|t|)    \n",
       "(Intercept) -32.90502    6.83115  -4.817 2.58e-06 ***\n",
       "ABDOMEN       0.92853    0.05217  17.798  < 2e-16 ***\n",
       "WEIGHT       -0.13345    0.02320  -5.751 2.68e-08 ***\n",
       "WRIST        -1.29558    0.41603  -3.114  0.00207 ** \n",
       "FOREARM       0.46965    0.16788   2.798  0.00557 ** \n",
       "---\n",
       "Signif. codes:  0 '***' 0.001 '**' 0.01 '*' 0.05 '.' 0.1 ' ' 1\n",
       "\n",
       "Residual standard error: 3.982 on 241 degrees of freedom\n",
       "Multiple R-squared:  0.7362,\tAdjusted R-squared:  0.7318 \n",
       "F-statistic: 168.1 on 4 and 241 DF,  p-value: < 2.2e-16\n"
      ]
     },
     "metadata": {},
     "output_type": "display_data"
    }
   ],
   "source": [
    "summary(model.bic.forward)"
   ]
  }
 ],
 "metadata": {
  "kernelspec": {
   "display_name": "R",
   "language": "R",
   "name": "ir"
  },
  "language_info": {
   "codemirror_mode": "r",
   "file_extension": ".r",
   "mimetype": "text/x-r-source",
   "name": "R",
   "pygments_lexer": "r",
   "version": "3.6.1"
  }
 },
 "nbformat": 4,
 "nbformat_minor": 2
}
