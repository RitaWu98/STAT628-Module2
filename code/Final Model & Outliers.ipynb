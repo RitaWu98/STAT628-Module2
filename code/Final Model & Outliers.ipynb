{
 "cells": [
  {
   "cell_type": "code",
   "execution_count": 23,
   "metadata": {},
   "outputs": [],
   "source": [
    "library(car)\n",
    "library(MASS)\n",
    "library(rms)\n",
    "library(glmnet)\n",
    "library(leaps)\n",
    "set.seed(1234)"
   ]
  },
  {
   "cell_type": "markdown",
   "metadata": {},
   "source": [
    "# Part III Final Model & Outliers"
   ]
  },
  {
   "cell_type": "markdown",
   "metadata": {},
   "source": [
    "### 3.1 Final model description"
   ]
  },
  {
   "cell_type": "markdown",
   "metadata": {},
   "source": [
    "We choose weight and abdomen as predictiors for body fat as our final model."
   ]
  },
  {
   "cell_type": "code",
   "execution_count": 29,
   "metadata": {},
   "outputs": [],
   "source": [
    "fat = read.csv(\"BodyFat.csv\", header = T)\n",
    "fat.rm = fat[-c(182,76,96,48,42,41,39),]\n",
    "fat.rm$DENSITY = NULL\n",
    "fat.rm$IDNO = NULL"
   ]
  },
  {
   "cell_type": "code",
   "execution_count": 30,
   "metadata": {},
   "outputs": [],
   "source": [
    "lm.reg=lm(BODYFAT~WEIGHT+ABDOMEN,fat.rm)"
   ]
  },
  {
   "cell_type": "markdown",
   "metadata": {},
   "source": [
    "As we can see from the result, the coefficients are significant and the adjusted R-squared is 0.7148. \n",
    "The estimated model is \n",
    "$$\\text{BodyFat} = -42.95790 -0.11994 \\cdot \\text{WEIGHT} + 0.90152 \\cdot \\text{ABDOMEN} $$\n",
    "When weight increases one additinal unit(lbs), the bodyfat will decrease 0.11994%. When abdomen increases one additional unit(cm), the bodyfat will increase 0.90152%."
   ]
  },
  {
   "cell_type": "code",
   "execution_count": 31,
   "metadata": {},
   "outputs": [
    {
     "data": {
      "text/plain": [
       "\n",
       "Call:\n",
       "lm(formula = BODYFAT ~ WEIGHT + ABDOMEN, data = fat.rm)\n",
       "\n",
       "Residuals:\n",
       "     Min       1Q   Median       3Q      Max \n",
       "-10.0967  -2.9162  -0.1013   2.9178   9.9162 \n",
       "\n",
       "Coefficients:\n",
       "             Estimate Std. Error t value Pr(>|t|)    \n",
       "(Intercept) -42.95790    2.51138 -17.105  < 2e-16 ***\n",
       "WEIGHT       -0.11994    0.01972  -6.082 4.61e-09 ***\n",
       "ABDOMEN       0.90152    0.05214  17.292  < 2e-16 ***\n",
       "---\n",
       "Signif. codes:  0 '***' 0.001 '**' 0.01 '*' 0.05 '.' 0.1 ' ' 1\n",
       "\n",
       "Residual standard error: 4.042 on 242 degrees of freedom\n",
       "Multiple R-squared:  0.7171,\tAdjusted R-squared:  0.7148 \n",
       "F-statistic: 306.7 on 2 and 242 DF,  p-value: < 2.2e-16\n"
      ]
     },
     "metadata": {},
     "output_type": "display_data"
    }
   ],
   "source": [
    "summary(lm.reg)"
   ]
  },
  {
   "cell_type": "markdown",
   "metadata": {},
   "source": [
    "### 3.2 Advantages and disadvantages"
   ]
  },
  {
   "cell_type": "markdown",
   "metadata": {},
   "source": [
    "Advantages: The model is very simple since there are only two variables and it is convenient for users to gain their weight and abdomen data.\n",
    "\n",
    "Disadvantages: Since there are only two variables, we sacrificed some accuracy of this model. Meanwhile, the data of users' abdomen may not be as convenient as variables like height and weight to obtain."
   ]
  },
  {
   "cell_type": "markdown",
   "metadata": {},
   "source": [
    "### 3.3 Model Diagnose & Outliers"
   ]
  },
  {
   "cell_type": "markdown",
   "metadata": {},
   "source": [
    "#### 3.3.1 Assumption diagnose and outlier detection"
   ]
  },
  {
   "cell_type": "markdown",
   "metadata": {},
   "source": [
    "To futherly estimate our model, we draw plots to check the assumptions and outliers for this model. As we can see from the residuals vs fitted values plot, the assumpiton of equal variance(no megaphone shape) and linearity(no curved shape) have been satisfied. Besides, From the qqplot, we can see that the normality assumption has been satisfied.We also drew Internally studentized residual vs Fitted values and Externally studentized residual vs Fitted values plots and find that there is no significant outlier."
   ]
  },
  {
   "cell_type": "markdown",
   "metadata": {},
   "source": [
    "Standardized residuals (Internal studentized residuals):\n",
    "$$r_i=\\frac{e_i}{\\hat{\\text{SD}}(e_i)}=\\frac{e_i}{\\sqrt{\\hat{\\sigma}^2(1-h_{ii})}}$$\n",
    "where $e_i = Y_i-\\hat{Y}_i$, $H=X(X'X)^{-1}X'$ and $\\hat{\\sigma}^2=\\text{MSE}$."
   ]
  },
  {
   "cell_type": "markdown",
   "metadata": {},
   "source": [
    "Studentized residuals (Externally studentized residuals):\n",
    "$$r_i=\\frac{e_i}{\\sqrt{\\hat{\\sigma}^2_{(i)}(1-h_{ii})}}$$"
   ]
  },
  {
   "cell_type": "code",
   "execution_count": 22,
   "metadata": {},
   "outputs": [
    {
     "data": {
      "text/html": [],
      "text/latex": [],
      "text/markdown": [],
      "text/plain": [
       "integer(0)"
      ]
     },
     "metadata": {},
     "output_type": "display_data"
    },
    {
     "data": {
      "text/html": [],
      "text/latex": [],
      "text/markdown": [],
      "text/plain": [
       "integer(0)"
      ]
     },
     "metadata": {},
     "output_type": "display_data"
    },
    {
     "data": {
      "image/png": "[encoded data removed]",
      "text/plain": [
       "Plot with title \"Externally studentized residual vs Fitted values\""
      ]
     },
     "metadata": {
      "image/png": {
       "height": 420,
       "width": 420
      },
      "text/plain": {
       "height": 420,
       "width": 420
      }
     },
     "output_type": "display_data"
    }
   ],
   "source": [
    "##  plot for standard / studentized res. vs fitted value\n",
    "par(mfrow=c(2,2))\n",
    "data=fat.rm\n",
    "plot(lm.reg,1)\n",
    "plot(lm.reg,2)\n",
    "index=1:nrow(data)\n",
    "plot(lm.reg$fitted, stdres(lm.reg), xlab=\"Fitted values\",\n",
    "     ylab=\"Internally studentized residual\",main=\"Internally studentized residual vs Fitted values\") ;abline(h=0, lty=2)\n",
    "# text(lm.reg$fitted[abs(stdres(lm.reg))>3], labels=index[abs(stdres(lm.reg))>3], cex=1, pos=2)\n",
    "index[abs(stdres(lm.reg))>3]\n",
    "plot(lm.reg$fitted, studres(lm.reg), type = \"h\", xlab=\"Fitted values vs Fitted values\",\n",
    "     ylab=\"Externally studentized residual\",main=\"Externally studentized residual vs Fitted values\");abline(h=c(0,-3,3), lty=2)\n",
    "# text(lm.reg$fitted[abs(studres(lm.reg))>3], studres(lm.reg)[abs(studres(lm.reg))>3], labels=index[abs(studres(lm.reg))>3], cex=1, pos=2)\n",
    "index[abs(studres(lm.reg))>3]\n",
    "# no significant outlier\n"
   ]
  },
  {
   "cell_type": "markdown",
   "metadata": {},
   "source": [
    "#### 3.3.2 Influential points detection"
   ]
  },
  {
   "cell_type": "markdown",
   "metadata": {},
   "source": [
    "To determine some influential points, we draw Leverage plot, Diffits plot, Cook's distance plot and Debates plot. Aside from Leverage plot, the other three plots does not find influential points. From the Leverage plot, we find 8 influential points(9,12,35,36,152,216,242th). However, there is no enough evidence showing that they are outliers even though they are infulential."
   ]
  },
  {
   "cell_type": "code",
   "execution_count": 25,
   "metadata": {},
   "outputs": [],
   "source": [
    "n=nrow(fat.rm)\n",
    "p=length(coefficients(lm.reg))-1"
   ]
  },
  {
   "cell_type": "markdown",
   "metadata": {},
   "source": [
    "Leverage (the distance between $X_i$ and the means of the values of $\\{X_i\\}^n_{i=1}$)\n",
    "$$h_{ii}=[H]_{ii} \\text{ , where } H=X(X'X)^{-1}X'$$\n",
    "Threshold: rule of thumbL $h_{ii}>4p/n$"
   ]
  },
  {
   "cell_type": "code",
   "execution_count": 26,
   "metadata": {},
   "outputs": [
    {
     "data": {
      "image/png": "[encoded data removed]",
      "text/plain": [
       "Plot with title \"Leverage\""
      ]
     },
     "metadata": {
      "image/png": {
       "height": 420,
       "width": 420
      },
      "text/plain": {
       "height": 420,
       "width": 420
      }
     },
     "output_type": "display_data"
    }
   ],
   "source": [
    "## leverage \n",
    "lm.reg.hats = hatvalues(lm.reg)\n",
    "plot(lm.reg.hats, type = \"h\", ylab = \"Leverage\",main=\"Leverage\") \n",
    "id_show=which(lm.reg.hats>4*p/n)\n",
    "text(id_show,lm.reg.hats[id_show], labels = index[id_show], cex = 1) \n",
    "abline(h=4*p/n,lty=2)#change 2 to 4\n",
    "# id_show\n",
    "\n"
   ]
  },
  {
   "cell_type": "markdown",
   "metadata": {},
   "source": [
    "DFFITS (influence of the i-th observation on i-th fitted value $\\hat{Y}_i$)\n",
    "$$\\text{DFFITS}_i = \\frac{\\hat{Y}_i-\\hat{Y}_{i(i)}}{\\hat{\\sigma}_{(i)}\\sqrt{h_{ii}}}\\text{, where i=1,...,n}$$\n",
    "For datasets of small or medium size,points with value of 1 or greater might be influential. \n",
    "For large datasets, the threshold can be $2\\sqrt{p/n}$. \n",
    "The dataset we used here is not large. Therefore,we choose the threshold 1."
   ]
  },
  {
   "cell_type": "code",
   "execution_count": 74,
   "metadata": {},
   "outputs": [
    {
     "data": {
      "image/png": "[encoded data removed]",
      "text/plain": [
       "Plot with title \"DFFITS\""
      ]
     },
     "metadata": {
      "image/png": {
       "height": 420,
       "width": 420
      },
      "text/plain": {
       "height": 420,
       "width": 420
      }
     },
     "output_type": "display_data"
    }
   ],
   "source": [
    "## DFFITS\n",
    "lm.reg.dffits = dffits(lm.reg)\n",
    "plot(lm.reg.dffits, type = \"h\", ylab = \"DFFITS\", ylim = c(-2.5,4.5),main=\"DFFITS\") \n",
    "h=2*sqrt(p/n)\n",
    "# text(which(abs(lm.reg.dffits)>max(1,h)),lm.reg.dffits[abs(lm.reg.dffits)>max(1,h)], labels = index[abs(lm.reg.dffits)>max(1,h)], cex = 0.8, pos = 1)\n",
    "abline(h = c(-1,-2*sqrt(p/n), 0, 2*sqrt(p/n), 1), lty = 2) # specify your own h \n",
    "#"
   ]
  },
  {
   "cell_type": "markdown",
   "metadata": {},
   "source": [
    "Cook's Distance (the influence of the ith observation on all fitted values)\n",
    "$$D_i=\\frac{\\sum_{j=1}^n(\\hat{Y}_j-\\hat{Y}_{j(i)})^2}{p\\hat{\\sigma}^2}\\text{, where i=1,...,n}$$\n",
    "Threshold: $F_{p,n-p}$ or simply according to a general rule of thumb: 1"
   ]
  },
  {
   "cell_type": "code",
   "execution_count": 75,
   "metadata": {},
   "outputs": [
    {
     "data": {
      "image/png": "[encoded data removed]",
      "text/plain": [
       "Plot with title \"Cook's Distance\""
      ]
     },
     "metadata": {
      "image/png": {
       "height": 420,
       "width": 420
      },
      "text/plain": {
       "height": 420,
       "width": 420
      }
     },
     "output_type": "display_data"
    }
   ],
   "source": [
    "## cook's distance\n",
    "lm.reg.cooksD = cooks.distance(lm.reg)\n",
    "plot(lm.reg.cooksD, type = \"h\", ylab=\"Cook's Distance\",ylim=c(0,2),main=\"Cook's Distance\") \n",
    "h=qf(0.50,p,n-p)\n",
    "# text(which(lm.reg.cooksD>h),lm.reg.cooksD[lm.reg.cooksD>h]-0.5, labels = index[lm.reg.cooksD>h], cex = 1)\n",
    "# no influential outliers according to cook's distance here\n",
    "abline(h=qf(0.50,p,n-p), lty=2) #check whether D_i > f_0.5,p,n-p"
   ]
  },
  {
   "cell_type": "markdown",
   "metadata": {},
   "source": [
    "DFBETAS (the influence of the ith observation on the fitted coefficient $\\beta_j$)\n",
    "$$\\text{DFBETAS}_{j(i)}=\\frac{\\hat{\\beta}_j-\\hat{\\beta}_{j(i)}}{\\sqrt{\\hat{\\sigma}^2_{(i)}(X^T X)^{-1}_{jj}}}\\text{, where i=1,...,n,  j=0,...,p-1}$$\n",
    "Thresholds: $|{\\text{DFBETAS}}|\\ge 1$ for small or medium datasets; $|{\\text{DFBETAS}}|\\ge 2/\\sqrt{n}$ for large dataset.\n",
    "\n"
   ]
  },
  {
   "cell_type": "code",
   "execution_count": 78,
   "metadata": {},
   "outputs": [
    {
     "data": {
      "text/html": [],
      "text/latex": [],
      "text/markdown": [],
      "text/plain": [
       "integer(0)"
      ]
     },
     "metadata": {},
     "output_type": "display_data"
    },
    {
     "data": {
      "image/png": "[encoded data removed]",
      "text/plain": [
       "Plot with title \"DFBETAS\""
      ]
     },
     "metadata": {
      "image/png": {
       "height": 420,
       "width": 420
      },
      "text/plain": {
       "height": 420,
       "width": 420
      }
     },
     "output_type": "display_data"
    }
   ],
   "source": [
    "## dfbetas\n",
    "lm.reg.dfbetas = dfbetas(lm.reg)\n",
    "plot(lm.reg.dfbetas[,1], type = \"h\", ylab = \"DFBETAS\", xlab = \"Index\", main = \"DFBETAS\") \n",
    "# id_show = which(abs(lm.reg.dfbetas)>2/sqrt(n)) for large sample size\n",
    "id_show = which(abs(lm.reg.dfbetas)>1) #for small sample size here\n",
    "# text(id_show,lm.reg.dfbetas[,1][id_show], labels = index[id_show], cex = 0.8)\n",
    "# abline(h=c(-1, -2/sqrt(n), 0, 2/sqrt(n), 1), lty = 2) # for large sample size\n",
    "abline(h=c(-1,1),lty=2) #for small sample size here\n",
    "id_show"
   ]
  }
 ],
 "metadata": {
  "kernelspec": {
   "display_name": "R",
   "language": "R",
   "name": "ir"
  },
  "language_info": {
   "codemirror_mode": "r",
   "file_extension": ".r",
   "mimetype": "text/x-r-source",
   "name": "R",
   "pygments_lexer": "r",
   "version": "3.6.1"
  }
 },
 "nbformat": 4,
 "nbformat_minor": 2
}
