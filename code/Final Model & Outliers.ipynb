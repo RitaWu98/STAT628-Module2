{
 "cells": [
  {
   "cell_type": "code",
   "execution_count": 19,
   "metadata": {},
   "outputs": [],
   "source": [
    "library(car)\n",
    "library(MASS)\n",
    "library(rms)\n",
    "library(glmnet)\n",
    "library(leaps)\n",
    "require(ggplot2)\n",
    "set.seed(1234)"
   ]
  },
  {
   "cell_type": "markdown",
   "metadata": {},
   "source": [
    "# Part III Final Model & Outliers"
   ]
  },
  {
   "cell_type": "markdown",
   "metadata": {},
   "source": [
    "### 3.1 Final model description"
   ]
  },
  {
   "cell_type": "markdown",
   "metadata": {},
   "source": [
    "We choose weight and abdomen as predictiors for body fat as our final model."
   ]
  },
  {
   "cell_type": "code",
   "execution_count": 3,
   "metadata": {},
   "outputs": [],
   "source": [
    "fat.rm = read.csv(\"../data/clean_fat.csv\", header = T)\n",
    "fat.rm$DENSITY = NULL\n",
    "fat.rm$IDNO = NULL"
   ]
  },
  {
   "cell_type": "code",
   "execution_count": 4,
   "metadata": {},
   "outputs": [],
   "source": [
    "lm.reg=lm(BODYFAT~WEIGHT+ABDOMEN,fat.rm)"
   ]
  },
  {
   "cell_type": "markdown",
   "metadata": {},
   "source": [
    "As we can see from the result, the coefficients are significant and the adjusted R-squared is 0.7148. \n",
    "The estimated model is \n",
    "$$\\text{BodyFat} = -42.95790 -0.11994 \\cdot \\text{WEIGHT} + 0.90152 \\cdot \\text{ABDOMEN} $$\n",
    "When weight increases one additinal unit(lbs), the bodyfat will decrease 0.11994%. When abdomen increases one additional unit(cm), the bodyfat will increase 0.90152%."
   ]
  },
  {
   "cell_type": "code",
   "execution_count": 5,
   "metadata": {},
   "outputs": [
    {
     "data": {
      "text/plain": [
       "\n",
       "Call:\n",
       "lm(formula = BODYFAT ~ WEIGHT + ABDOMEN, data = fat.rm)\n",
       "\n",
       "Residuals:\n",
       "     Min       1Q   Median       3Q      Max \n",
       "-10.4622  -2.9922   0.0778   2.8872   9.6382 \n",
       "\n",
       "Coefficients:\n",
       "             Estimate Std. Error t value Pr(>|t|)    \n",
       "(Intercept) -40.91570    2.42009 -16.907  < 2e-16 ***\n",
       "WEIGHT       -0.13965    0.01939  -7.201 7.46e-12 ***\n",
       "ABDOMEN       0.91756    0.05263  17.435  < 2e-16 ***\n",
       "---\n",
       "Signif. codes:  0 '***' 0.001 '**' 0.01 '*' 0.05 '.' 0.1 ' ' 1\n",
       "\n",
       "Residual standard error: 4.083 on 243 degrees of freedom\n",
       "Multiple R-squared:  0.7203,\tAdjusted R-squared:  0.718 \n",
       "F-statistic: 312.9 on 2 and 243 DF,  p-value: < 2.2e-16\n"
      ]
     },
     "metadata": {},
     "output_type": "display_data"
    }
   ],
   "source": [
    "summary(lm.reg)"
   ]
  },
  {
   "cell_type": "markdown",
   "metadata": {},
   "source": [
    "### 3.2 Advantages and disadvantages"
   ]
  },
  {
   "cell_type": "markdown",
   "metadata": {},
   "source": [
    "Advantages: The model is very simple since there are only two variables and it is convenient for users to gain their weight and abdomen data.\n",
    "\n",
    "Disadvantages: Since there are only two variables, we sacrificed some accuracy of this model. Meanwhile, the data of users' abdomen may not be as convenient as variables like height and weight to obtain."
   ]
  },
  {
   "cell_type": "markdown",
   "metadata": {},
   "source": [
    "### 3.3 Model Diagnose & Outliers"
   ]
  },
  {
   "cell_type": "markdown",
   "metadata": {},
   "source": [
    "#### 3.3.1 Assumption diagnose and outlier detection"
   ]
  },
  {
   "cell_type": "markdown",
   "metadata": {},
   "source": [
    "To futherly estimate our model, we draw plots to check the assumptions and outliers for this model. As we can see from the residuals vs fitted values plot, the assumpiton of equal variance(no megaphone shape) and linearity(no curved shape) have been satisfied. Besides, From the qqplot, we can see that the normality assumption has been satisfied.We also drew Internally studentized residual vs Fitted values and Externally studentized residual vs Fitted values plots and find that there is no significant outlier."
   ]
  },
  {
   "cell_type": "markdown",
   "metadata": {},
   "source": [
    "Standardized residuals (Internal studentized residuals):\n",
    "$$r_i=\\frac{e_i}{\\hat{\\text{SD}}(e_i)}=\\frac{e_i}{\\sqrt{\\hat{\\sigma}^2(1-h_{ii})}}$$\n",
    "where $e_i = Y_i-\\hat{Y}_i$, $H=X(X'X)^{-1}X'$ and $\\hat{\\sigma}^2=\\text{MSE}$."
   ]
  },
  {
   "cell_type": "markdown",
   "metadata": {},
   "source": [
    "Studentized residuals (Externally studentized residuals):\n",
    "$$r_i=\\frac{e_i}{\\sqrt{\\hat{\\sigma}^2_{(i)}(1-h_{ii})}}$$"
   ]
  },
  {
   "cell_type": "code",
   "execution_count": 6,
   "metadata": {
    "scrolled": false
   },
   "outputs": [
    {
     "data": {
      "image/png": "[encoded data removed]",
      "text/plain": [
       "Plot with title \"\""
      ]
     },
     "metadata": {
      "image/png": {
       "height": 180,
       "width": 360
      },
      "text/plain": {
       "height": 180,
       "width": 360
      }
     },
     "output_type": "display_data"
    }
   ],
   "source": [
    "options(repr.plot.width=6, repr.plot.height=3)\n",
    "par(mfrow=c(1,2))\n",
    "data=fat.rm\n",
    "plot(lm.reg,1)\n",
    "plot(lm.reg,2)\n",
    "index=1:nrow(data)"
   ]
  },
  {
   "cell_type": "code",
   "execution_count": 7,
   "metadata": {},
   "outputs": [
    {
     "data": {
      "image/png": "[encoded data removed]",
      "text/plain": [
       "plot without title"
      ]
     },
     "metadata": {
      "image/png": {
       "height": 300,
       "width": 300
      },
      "text/plain": {
       "height": 300,
       "width": 300
      }
     },
     "output_type": "display_data"
    }
   ],
   "source": [
    "options(repr.plot.width=5, repr.plot.height=5)\n",
    "ggplot()+\n",
    "  geom_point(aes(x=lm.reg$fitted,y=stdres(lm.reg)))+\n",
    "  xlab(\"Fitted Values\")+\n",
    "  ylab(\"Internally Studentized Residual\")+\n",
    "  ggtitle(\"Internally studentized residual vs Fitted values\")+\n",
    "  theme(plot.title = element_text(hjust = 0.5))+\n",
    "  geom_hline(yintercept = 0, linetype = \"dashed\")"
   ]
  },
  {
   "cell_type": "code",
   "execution_count": 8,
   "metadata": {},
   "outputs": [
    {
     "data": {
      "text/html": [],
      "text/latex": [],
      "text/markdown": [],
      "text/plain": [
       "integer(0)"
      ]
     },
     "metadata": {},
     "output_type": "display_data"
    }
   ],
   "source": [
    "index[abs(stdres(lm.reg))>3]"
   ]
  },
  {
   "cell_type": "code",
   "execution_count": 9,
   "metadata": {},
   "outputs": [
    {
     "data": {
      "image/png": "[encoded data removed]",
      "text/plain": [
       "plot without title"
      ]
     },
     "metadata": {
      "image/png": {
       "height": 300,
       "width": 300
      },
      "text/plain": {
       "height": 300,
       "width": 300
      }
     },
     "output_type": "display_data"
    }
   ],
   "source": [
    "ggplot()+\n",
    "  geom_point(aes(x=lm.reg$fitted,y=studres(lm.reg)))+\n",
    "  xlab(\"Fitted Values\")+\n",
    "  ylab(\"Externally studentized residual\")+\n",
    "  ggtitle(\"Externally studentized residual vs Fitted values\")+\n",
    "  theme(plot.title = element_text(hjust = 0.5))+\n",
    "  geom_hline(yintercept = 0, linetype = \"dashed\")"
   ]
  },
  {
   "cell_type": "code",
   "execution_count": 10,
   "metadata": {},
   "outputs": [
    {
     "data": {
      "text/html": [],
      "text/latex": [],
      "text/markdown": [],
      "text/plain": [
       "integer(0)"
      ]
     },
     "metadata": {},
     "output_type": "display_data"
    }
   ],
   "source": [
    "index[abs(studres(lm.reg))>3]"
   ]
  },
  {
   "cell_type": "markdown",
   "metadata": {},
   "source": [
    "#### 3.3.2 Influential points detection"
   ]
  },
  {
   "cell_type": "markdown",
   "metadata": {},
   "source": [
    "To determine some influential points, we draw Leverage plot, Diffits plot, Cook's distance plot and Debates plot. From the Leverage plot, we find 8 influential points(9,12,36,39,41,149,211,214th). From the DIFFITs plot, we find that the 39th point is influential. There's no significant influential point shown in Cook's distance and DFBETAS plots. According the the plots, we can see that the 39th point might be an influential outlier."
   ]
  },
  {
   "cell_type": "code",
   "execution_count": 11,
   "metadata": {},
   "outputs": [],
   "source": [
    "n=nrow(fat.rm)\n",
    "p=length(coefficients(lm.reg))-1"
   ]
  },
  {
   "cell_type": "markdown",
   "metadata": {},
   "source": [
    "Leverage (the distance between $X_i$ and the means of the values of $\\{X_i\\}^n_{i=1}$)\n",
    "$$h_{ii}=[H]_{ii} \\text{ , where } H=X(X'X)^{-1}X'$$\n",
    "Threshold: rule of thumbL $h_{ii}>4p/n$"
   ]
  },
  {
   "cell_type": "code",
   "execution_count": 12,
   "metadata": {},
   "outputs": [
    {
     "name": "stderr",
     "output_type": "stream",
     "text": [
      "Warning message:\n",
      "\"Ignoring unknown parameters: binwidth, bins, pad\"\n"
     ]
    },
    {
     "data": {
      "image/png": "[encoded data removed]",
      "text/plain": [
       "plot without title"
      ]
     },
     "metadata": {
      "image/png": {
       "height": 300,
       "width": 300
      },
      "text/plain": {
       "height": 300,
       "width": 300
      }
     },
     "output_type": "display_data"
    }
   ],
   "source": [
    "## leverage \n",
    "lm.reg.hats = hatvalues(lm.reg)\n",
    "id_show=which(lm.reg.hats>4*p/n)\n",
    "ggplot()+\n",
    "  geom_histogram(aes(x=index,y=lm.reg.hats),stat = \"identity\")+\n",
    "  geom_text(aes(x=id_show,y=lm.reg.hats[id_show],\n",
    "                label=id_show),size = 4,hjust = 0.25, nudge_y = 0.005)+\n",
    "  xlab(\"Index\")+\n",
    "  ylab(\"Leverage\")+\n",
    "  ggtitle(\"Leverage\")+\n",
    "  theme(plot.title = element_text(hjust = 0.5))+\n",
    "  geom_hline(yintercept =4*p/n, linetype = \"dashed\")"
   ]
  },
  {
   "cell_type": "markdown",
   "metadata": {},
   "source": [
    "DFFITS (influence of the i-th observation on i-th fitted value $\\hat{Y}_i$)\n",
    "$$\\text{DFFITS}_i = \\frac{\\hat{Y}_i-\\hat{Y}_{i(i)}}{\\hat{\\sigma}_{(i)}\\sqrt{h_{ii}}}\\text{, where i=1,...,n}$$\n",
    "For datasets of small or medium size,points with value of 1 or greater might be influential. \n",
    "For large datasets, the threshold can be $2\\sqrt{p/n}$. \n",
    "The dataset we used here is not large. Therefore,we choose the threshold 1."
   ]
  },
  {
   "cell_type": "code",
   "execution_count": 14,
   "metadata": {},
   "outputs": [
    {
     "name": "stderr",
     "output_type": "stream",
     "text": [
      "Warning message:\n",
      "\"Ignoring unknown parameters: binwidth, bins, pad\"\n"
     ]
    },
    {
     "data": {
      "image/png": "[encoded data removed]",
      "text/plain": [
       "plot without title"
      ]
     },
     "metadata": {
      "image/png": {
       "height": 300,
       "width": 300
      },
      "text/plain": {
       "height": 300,
       "width": 300
      }
     },
     "output_type": "display_data"
    }
   ],
   "source": [
    "## DFFITS\n",
    "lm.reg.dffits = dffits(lm.reg)\n",
    "id_show=which(-lm.reg.dffits>1)\n",
    "ggplot()+\n",
    "  geom_histogram(aes(x=index,y=lm.reg.dffits),stat = \"identity\")+\n",
    "  geom_text(aes(x=id_show,y=lm.reg.dffits[id_show],\n",
    "                label=id_show),size = 4,hjust = 0.25, nudge_y = 0.005)+\n",
    "  xlab(\"Index\")+\n",
    "  ylab(\"DFFITS\")+\n",
    "  ggtitle(\"DFFITS\")+\n",
    "  theme(plot.title = element_text(hjust = 0.5))+\n",
    "  geom_hline(yintercept =c(-1,-2*sqrt(p/n), 0, 2*sqrt(p/n), 1), linetype = \"dashed\")"
   ]
  },
  {
   "cell_type": "markdown",
   "metadata": {},
   "source": [
    "Cook's Distance (the influence of the ith observation on all fitted values)\n",
    "$$D_i=\\frac{\\sum_{j=1}^n(\\hat{Y}_j-\\hat{Y}_{j(i)})^2}{p\\hat{\\sigma}^2}\\text{, where i=1,...,n}$$\n",
    "Threshold: $F_{p,n-p}$ or simply according to a general rule of thumb: 1"
   ]
  },
  {
   "cell_type": "code",
   "execution_count": 15,
   "metadata": {},
   "outputs": [
    {
     "name": "stderr",
     "output_type": "stream",
     "text": [
      "Warning message:\n",
      "\"Ignoring unknown parameters: binwidth, bins, pad\"\n"
     ]
    },
    {
     "data": {
      "image/png": "[encoded data removed]",
      "text/plain": [
       "plot without title"
      ]
     },
     "metadata": {
      "image/png": {
       "height": 300,
       "width": 300
      },
      "text/plain": {
       "height": 300,
       "width": 300
      }
     },
     "output_type": "display_data"
    }
   ],
   "source": [
    "lm.reg.cooksD = cooks.distance(lm.reg)\n",
    "id_show=which(lm.reg.cooksD>qf(0.50,p,n-p))\n",
    "ggplot()+\n",
    "  geom_histogram(aes(x=index,y=lm.reg.cooksD),stat = \"identity\")+\n",
    "  geom_text(aes(x=id_show,y=lm.reg.cooksD[id_show],\n",
    "                label=id_show),size = 4,hjust = 0.25, nudge_y = 0.005)+\n",
    "  xlab(\"Index\")+\n",
    "  ylab(\"Cook's Distance\")+\n",
    "  ggtitle(\"Cook's Distance\")+\n",
    "  theme(plot.title = element_text(hjust = 0.5))+\n",
    "  geom_hline(yintercept = qf(0.50,p,n-p), linetype = \"dashed\")"
   ]
  },
  {
   "cell_type": "markdown",
   "metadata": {},
   "source": [
    "DFBETAS (the influence of the ith observation on the fitted coefficient $\\beta_j$)\n",
    "$$\\text{DFBETAS}_{j(i)}=\\frac{\\hat{\\beta}_j-\\hat{\\beta}_{j(i)}}{\\sqrt{\\hat{\\sigma}^2_{(i)}(X^T X)^{-1}_{jj}}}\\text{, where i=1,...,n,  j=0,...,p-1}$$\n",
    "Thresholds: $|{\\text{DFBETAS}}|\\ge 1$ for small or medium datasets; $|{\\text{DFBETAS}}|\\ge 2/\\sqrt{n}$ for large dataset.\n",
    "\n"
   ]
  },
  {
   "cell_type": "code",
   "execution_count": 18,
   "metadata": {},
   "outputs": [
    {
     "name": "stderr",
     "output_type": "stream",
     "text": [
      "Warning message:\n",
      "\"Ignoring unknown parameters: binwidth, bins, pad\"\n"
     ]
    },
    {
     "data": {
      "image/png": "[encoded data removed]",
      "text/plain": [
       "plot without title"
      ]
     },
     "metadata": {
      "image/png": {
       "height": 300,
       "width": 300
      },
      "text/plain": {
       "height": 300,
       "width": 300
      }
     },
     "output_type": "display_data"
    }
   ],
   "source": [
    "## dfbetas\n",
    "lm.reg.dfbetas = dfbetas(lm.reg)\n",
    "id_show = which(abs(lm.reg.dfbetas)>1)\n",
    "ggplot()+\n",
    "  geom_histogram(aes(x=index,y=lm.reg.dfbetas[,1]),stat = \"identity\")+\n",
    "  geom_text(aes(x=id_show,y=lm.reg.dfbetas[,1][id_show],\n",
    "                label=id_show),size = 4,hjust = 0.25, nudge_y = 0.005)+\n",
    "  xlab(\"Index\")+\n",
    "  ylab(\"DFBETAS\")+\n",
    "  ggtitle(\"DFBETAS\")+\n",
    "  theme(plot.title = element_text(hjust = 0.5))+\n",
    "  geom_hline(yintercept = c(-1,1), linetype = \"dashed\")"
   ]
  },
  {
   "cell_type": "code",
   "execution_count": null,
   "metadata": {},
   "outputs": [],
   "source": []
  }
 ],
 "metadata": {
  "kernelspec": {
   "display_name": "R",
   "language": "R",
   "name": "ir"
  },
  "language_info": {
   "codemirror_mode": "r",
   "file_extension": ".r",
   "mimetype": "text/x-r-source",
   "name": "R",
   "pygments_lexer": "r",
   "version": "3.6.1"
  }
 },
 "nbformat": 4,
 "nbformat_minor": 2
}
