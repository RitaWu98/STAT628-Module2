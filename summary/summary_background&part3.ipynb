{
 "cells": [
  {
   "cell_type": "code",
   "execution_count": 1,
   "metadata": {},
   "outputs": [
    {
     "name": "stderr",
     "output_type": "stream",
     "text": [
      "Loading required package: carData\n",
      "Loading required package: Hmisc\n",
      "Loading required package: lattice\n",
      "Loading required package: survival\n",
      "Loading required package: Formula\n",
      "Loading required package: ggplot2\n",
      "\n",
      "Attaching package: 'Hmisc'\n",
      "\n",
      "The following objects are masked from 'package:base':\n",
      "\n",
      "    format.pval, units\n",
      "\n",
      "Loading required package: SparseM\n",
      "\n",
      "Attaching package: 'SparseM'\n",
      "\n",
      "The following object is masked from 'package:base':\n",
      "\n",
      "    backsolve\n",
      "\n",
      "\n",
      "Attaching package: 'rms'\n",
      "\n",
      "The following objects are masked from 'package:car':\n",
      "\n",
      "    Predict, vif\n",
      "\n",
      "Loading required package: Matrix\n",
      "Loading required package: foreach\n",
      "Loaded glmnet 2.0-18\n",
      "\n"
     ]
    }
   ],
   "source": [
    "library(car)\n",
    "library(MASS)\n",
    "library(rms)\n",
    "library(glmnet)\n",
    "library(leaps)\n",
    "require(ggplot2)\n",
    "set.seed(1234)"
   ]
  },
  {
   "cell_type": "code",
   "execution_count": 2,
   "metadata": {},
   "outputs": [],
   "source": [
    "fat = read.csv(\"BodyFat.csv\", header = T)\n",
    "fat.rm = fat[-c(182,76,96,48,221,163),]\n",
    "fat.rm$HEIGHT[42] = sqrt(698.6151*(fat$WEIGHT[42])/(fat$ADIPOSITY[42]-0.1942))\n",
    "fat.rm$DENSITY = NULL\n",
    "fat.rm$IDNO = NULL"
   ]
  },
  {
   "cell_type": "code",
   "execution_count": 3,
   "metadata": {},
   "outputs": [],
   "source": [
    "lm.full = lm(BODYFAT~.,fat.rm)\n",
    "lm.null = lm(BODYFAT~1,fat.rm)"
   ]
  },
  {
   "cell_type": "code",
   "execution_count": 4,
   "metadata": {},
   "outputs": [],
   "source": [
    "temp <- regsubsets(fat.rm[,-c(1:3)],y=fat.rm$BODYFAT ,nbest=1,method=\"exhaustive\",nvmax=4)\n",
    "temp.mat <- cbind(summary(temp)$which,\n",
    "                  summary(temp)$rsq,\n",
    "                  summary(temp)$adjr2,\n",
    "                  summary(temp)$cp)\n",
    "dimnames(temp.mat)[[2]] <- c(dimnames(summary(temp)$which)[[2]],\"rsq\",\"adjrsq\",\"cp\")"
   ]
  },
  {
   "cell_type": "code",
   "execution_count": 5,
   "metadata": {},
   "outputs": [],
   "source": [
    "model.aic.both <- step(lm.full, direction = \"both\", k = 2,trace=0)\n",
    "model.bic.both <- step(lm.full, direction = \"both\", k = log(length(fat.rm[,1])),trace=0)\n",
    "model.aic.backward <- step(lm.full, direction = \"backward\", k = 2,trace=0)\n",
    "model.bic.backward <- step(lm.full, direction = \"backward\", k = log(length(fat.rm[,1])),trace=0)\n",
    "model.aic.forward <- step(lm.null,~ AGE + WEIGHT + HEIGHT + ADIPOSITY + NECK + CHEST + \n",
    "                            ABDOMEN + HIP + THIGH + KNEE + ANKLE + BICEPS + FOREARM + \n",
    "                            WRIST, direction = \"forward\", k = 2,trace=0)\n",
    "model.bic.forward <- step(lm.null,~ AGE + WEIGHT + HEIGHT + ADIPOSITY + NECK + CHEST + \n",
    "                            ABDOMEN + HIP + THIGH + KNEE + ANKLE + BICEPS + FOREARM + \n",
    "                            WRIST, direction = \"forward\", k = log(length(fat.rm[,1])),trace=0)"
   ]
  },
  {
   "cell_type": "code",
   "execution_count": 6,
   "metadata": {},
   "outputs": [],
   "source": [
    "ols.full = ols(BODYFAT~., fat.rm)"
   ]
  },
  {
   "cell_type": "code",
   "execution_count": null,
   "metadata": {},
   "outputs": [],
   "source": []
  },
  {
   "cell_type": "markdown",
   "metadata": {},
   "source": [
    "<font size=5>**Background**</font> <br/>"
   ]
  },
  {
   "cell_type": "markdown",
   "metadata": {},
   "source": [
    "The body fat percentage (BFP) of a human is the total mass of fat divided by total body mass, multiplied by 100.<br/>\n",
    "It is an important index to show the well-being of individuals and predict the risk of diseases.<br/>\n",
    "So we want to make a BFP calculator containing simplicity and precision at the same time to help people to get their bodyfat percentage easily.<br/>"
   ]
  },
  {
   "cell_type": "markdown",
   "metadata": {},
   "source": [
    "<font size=5>**Part III Variable selection**</font> <br/>"
   ]
  },
  {
   "cell_type": "markdown",
   "metadata": {},
   "source": [
    "In this part,we use several methods to select variables for final model.<br/>"
   ]
  },
  {
   "cell_type": "markdown",
   "metadata": {},
   "source": [
    "<font size=4>1.Mallow's Cp</font> <br/>\n",
    "$C_p(M)=\\frac{SSE(M)}{\\hat{\\sigma}^2}-n+2\\times p(M)$ <br/>\n",
    "Next is the result. <br/>"
   ]
  },
  {
   "cell_type": "code",
   "execution_count": 7,
   "metadata": {},
   "outputs": [
    {
     "data": {
      "text/html": [
       "<table>\n",
       "<thead><tr><th scope=col>(Intercept)</th><th scope=col>HEIGHT</th><th scope=col>ADIPOSITY</th><th scope=col>NECK</th><th scope=col>CHEST</th><th scope=col>ABDOMEN</th><th scope=col>HIP</th><th scope=col>THIGH</th><th scope=col>KNEE</th><th scope=col>ANKLE</th><th scope=col>BICEPS</th><th scope=col>FOREARM</th><th scope=col>WRIST</th><th scope=col>rsq</th><th scope=col>adjrsq</th><th scope=col>cp</th></tr></thead>\n",
       "<tbody>\n",
       "\t<tr><td>1        </td><td>0        </td><td>0        </td><td>0        </td><td>0        </td><td>1        </td><td>0        </td><td>0        </td><td>0        </td><td>0        </td><td>0        </td><td>0        </td><td>0        </td><td>0.6606106</td><td>0.6592197</td><td>63.55053 </td></tr>\n",
       "\t<tr><td>1        </td><td>0        </td><td>0        </td><td>0        </td><td>0        </td><td>1        </td><td>0        </td><td>0        </td><td>0        </td><td>0        </td><td>0        </td><td>0        </td><td>1        </td><td>0.6990451</td><td>0.6965681</td><td>30.94814 </td></tr>\n",
       "\t<tr><td>1        </td><td>0        </td><td>0        </td><td>0        </td><td>0        </td><td>1        </td><td>1        </td><td>0        </td><td>0        </td><td>0        </td><td>0        </td><td>0        </td><td>1        </td><td>0.7185459</td><td>0.7150568</td><td>15.39167 </td></tr>\n",
       "\t<tr><td>1        </td><td>0        </td><td>0        </td><td>1        </td><td>0        </td><td>1        </td><td>1        </td><td>0        </td><td>0        </td><td>0        </td><td>0        </td><td>0        </td><td>1        </td><td>0.7242928</td><td>0.7197167</td><td>12.21780 </td></tr>\n",
       "</tbody>\n",
       "</table>\n"
      ],
      "text/latex": [
       "\\begin{tabular}{r|llllllllllllllll}\n",
       " (Intercept) & HEIGHT & ADIPOSITY & NECK & CHEST & ABDOMEN & HIP & THIGH & KNEE & ANKLE & BICEPS & FOREARM & WRIST & rsq & adjrsq & cp\\\\\n",
       "\\hline\n",
       "\t 1         & 0         & 0         & 0         & 0         & 1         & 0         & 0         & 0         & 0         & 0         & 0         & 0         & 0.6606106 & 0.6592197 & 63.55053 \\\\\n",
       "\t 1         & 0         & 0         & 0         & 0         & 1         & 0         & 0         & 0         & 0         & 0         & 0         & 1         & 0.6990451 & 0.6965681 & 30.94814 \\\\\n",
       "\t 1         & 0         & 0         & 0         & 0         & 1         & 1         & 0         & 0         & 0         & 0         & 0         & 1         & 0.7185459 & 0.7150568 & 15.39167 \\\\\n",
       "\t 1         & 0         & 0         & 1         & 0         & 1         & 1         & 0         & 0         & 0         & 0         & 0         & 1         & 0.7242928 & 0.7197167 & 12.21780 \\\\\n",
       "\\end{tabular}\n"
      ],
      "text/markdown": [
       "\n",
       "| (Intercept) | HEIGHT | ADIPOSITY | NECK | CHEST | ABDOMEN | HIP | THIGH | KNEE | ANKLE | BICEPS | FOREARM | WRIST | rsq | adjrsq | cp |\n",
       "|---|---|---|---|---|---|---|---|---|---|---|---|---|---|---|---|\n",
       "| 1         | 0         | 0         | 0         | 0         | 1         | 0         | 0         | 0         | 0         | 0         | 0         | 0         | 0.6606106 | 0.6592197 | 63.55053  |\n",
       "| 1         | 0         | 0         | 0         | 0         | 1         | 0         | 0         | 0         | 0         | 0         | 0         | 1         | 0.6990451 | 0.6965681 | 30.94814  |\n",
       "| 1         | 0         | 0         | 0         | 0         | 1         | 1         | 0         | 0         | 0         | 0         | 0         | 1         | 0.7185459 | 0.7150568 | 15.39167  |\n",
       "| 1         | 0         | 0         | 1         | 0         | 1         | 1         | 0         | 0         | 0         | 0         | 0         | 1         | 0.7242928 | 0.7197167 | 12.21780  |\n",
       "\n"
      ],
      "text/plain": [
       "  (Intercept) HEIGHT ADIPOSITY NECK CHEST ABDOMEN HIP THIGH KNEE ANKLE BICEPS\n",
       "1 1           0      0         0    0     1       0   0     0    0     0     \n",
       "2 1           0      0         0    0     1       0   0     0    0     0     \n",
       "3 1           0      0         0    0     1       1   0     0    0     0     \n",
       "4 1           0      0         1    0     1       1   0     0    0     0     \n",
       "  FOREARM WRIST rsq       adjrsq    cp      \n",
       "1 0       0     0.6606106 0.6592197 63.55053\n",
       "2 0       1     0.6990451 0.6965681 30.94814\n",
       "3 0       1     0.7185459 0.7150568 15.39167\n",
       "4 0       1     0.7242928 0.7197167 12.21780"
      ]
     },
     "metadata": {},
     "output_type": "display_data"
    }
   ],
   "source": [
    "temp.mat"
   ]
  },
  {
   "cell_type": "markdown",
   "metadata": {},
   "source": [
    "<font size=4>2.AIC and BIC</font> <br/>\n",
    "$AIC_p=n\\log(SSE_p)-n\\log(n)+2p$<br/>\n",
    "$BIC_p=n\\log(SSE_p)-n\\log(n)+p\\log n$<br/>\n",
    "Select the model with the lowest $AIC_p$ or $BIC_p$ value.<br/>\n",
    "The terms $2p$ and $p\\log(n)$ are penalty that penalizes complex models.<br/>\n",
    "Stepwise:we choose all the directions(both,backward and forward) to see results. <br/>\n",
    "Next are the results. <br/>"
   ]
  },
  {
   "cell_type": "code",
   "execution_count": 8,
   "metadata": {},
   "outputs": [
    {
     "name": "stdout",
     "output_type": "stream",
     "text": [
      "AIC direction=both."
     ]
    },
    {
     "data": {
      "text/plain": [
       "lm(formula = BODYFAT ~ AGE + WEIGHT + HEIGHT + ADIPOSITY + NECK + \n",
       "    ABDOMEN + HIP + THIGH + FOREARM + WRIST, data = fat.rm)"
      ]
     },
     "metadata": {},
     "output_type": "display_data"
    },
    {
     "name": "stdout",
     "output_type": "stream",
     "text": [
      "BIC direction=both."
     ]
    },
    {
     "data": {
      "text/plain": [
       "lm(formula = BODYFAT ~ WEIGHT + ABDOMEN + FOREARM + WRIST, data = fat.rm)"
      ]
     },
     "metadata": {},
     "output_type": "display_data"
    },
    {
     "name": "stdout",
     "output_type": "stream",
     "text": [
      "AIC direction=backward."
     ]
    },
    {
     "data": {
      "text/plain": [
       "lm(formula = BODYFAT ~ AGE + WEIGHT + HEIGHT + ADIPOSITY + NECK + \n",
       "    ABDOMEN + HIP + THIGH + FOREARM + WRIST, data = fat.rm)"
      ]
     },
     "metadata": {},
     "output_type": "display_data"
    },
    {
     "name": "stdout",
     "output_type": "stream",
     "text": [
      "BIC direction=backward."
     ]
    },
    {
     "data": {
      "text/plain": [
       "lm(formula = BODYFAT ~ WEIGHT + ABDOMEN + FOREARM + WRIST, data = fat.rm)"
      ]
     },
     "metadata": {},
     "output_type": "display_data"
    },
    {
     "name": "stdout",
     "output_type": "stream",
     "text": [
      "AIC direction=forward."
     ]
    },
    {
     "data": {
      "text/plain": [
       "lm(formula = BODYFAT ~ ABDOMEN + WEIGHT + WRIST + FOREARM + NECK + \n",
       "    BICEPS, data = fat.rm)"
      ]
     },
     "metadata": {},
     "output_type": "display_data"
    },
    {
     "name": "stdout",
     "output_type": "stream",
     "text": [
      "BIC direction=forward."
     ]
    },
    {
     "data": {
      "text/plain": [
       "lm(formula = BODYFAT ~ ABDOMEN + WEIGHT + WRIST + FOREARM, data = fat.rm)"
      ]
     },
     "metadata": {},
     "output_type": "display_data"
    }
   ],
   "source": [
    "cat(\"AIC direction=both.\")\n",
    "model.aic.both$call\n",
    "cat(\"BIC direction=both.\")\n",
    "model.bic.both$call\n",
    "cat(\"AIC direction=backward.\")\n",
    "model.aic.backward$call\n",
    "cat(\"BIC direction=backward.\")\n",
    "model.bic.backward$call\n",
    "cat(\"AIC direction=forward.\")\n",
    "model.aic.forward$call\n",
    "cat(\"BIC direction=forward.\")\n",
    "model.bic.forward$call"
   ]
  },
  {
   "cell_type": "markdown",
   "metadata": {},
   "source": [
    "<font size=4>3.Fast Backward Variable Selection</font> <br/>"
   ]
  },
  {
   "cell_type": "code",
   "execution_count": 9,
   "metadata": {},
   "outputs": [
    {
     "data": {
      "text/html": [
       "<ol class=list-inline>\n",
       "\t<li>'WEIGHT'</li>\n",
       "\t<li>'HEIGHT'</li>\n",
       "\t<li>'ADIPOSITY'</li>\n",
       "\t<li>'ABDOMEN'</li>\n",
       "\t<li>'THIGH'</li>\n",
       "\t<li>'FOREARM'</li>\n",
       "\t<li>'WRIST'</li>\n",
       "</ol>\n"
      ],
      "text/latex": [
       "\\begin{enumerate*}\n",
       "\\item 'WEIGHT'\n",
       "\\item 'HEIGHT'\n",
       "\\item 'ADIPOSITY'\n",
       "\\item 'ABDOMEN'\n",
       "\\item 'THIGH'\n",
       "\\item 'FOREARM'\n",
       "\\item 'WRIST'\n",
       "\\end{enumerate*}\n"
      ],
      "text/markdown": [
       "1. 'WEIGHT'\n",
       "2. 'HEIGHT'\n",
       "3. 'ADIPOSITY'\n",
       "4. 'ABDOMEN'\n",
       "5. 'THIGH'\n",
       "6. 'FOREARM'\n",
       "7. 'WRIST'\n",
       "\n",
       "\n"
      ],
      "text/plain": [
       "[1] \"WEIGHT\"    \"HEIGHT\"    \"ADIPOSITY\" \"ABDOMEN\"   \"THIGH\"     \"FOREARM\"  \n",
       "[7] \"WRIST\"    "
      ]
     },
     "metadata": {},
     "output_type": "display_data"
    }
   ],
   "source": [
    "fastbw(ols.full, rule = \"p\", sls = 0.1)$names.kept"
   ]
  },
  {
   "cell_type": "markdown",
   "metadata": {},
   "source": [
    "<font size=4>4.LASSO</font> <br/>"
   ]
  },
  {
   "cell_type": "code",
   "execution_count": null,
   "metadata": {},
   "outputs": [],
   "source": []
  }
 ],
 "metadata": {
  "kernelspec": {
   "display_name": "R",
   "language": "R",
   "name": "ir"
  },
  "language_info": {
   "codemirror_mode": "r",
   "file_extension": ".r",
   "mimetype": "text/x-r-source",
   "name": "R",
   "pygments_lexer": "r",
   "version": "3.6.1"
  }
 },
 "nbformat": 4,
 "nbformat_minor": 2
}
