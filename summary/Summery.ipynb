{
 "cells": [
  {
   "cell_type": "markdown",
   "metadata": {},
   "source": [
    "# Part IV Final Model & Outliers"
   ]
  },
  {
   "cell_type": "markdown",
   "metadata": {},
   "source": [
    "### 3.1 Final model description"
   ]
  },
  {
   "cell_type": "markdown",
   "metadata": {},
   "source": [
    "We choose weight and abdomen as predictiors for body fat as our final model."
   ]
  },
  {
   "cell_type": "code",
   "execution_count": 8,
   "metadata": {},
   "outputs": [],
   "source": [
    "lm.reg=lm(BODYFAT~WEIGHT+ABDOMEN,fat.rm)"
   ]
  },
  {
   "cell_type": "code",
   "execution_count": 19,
   "metadata": {},
   "outputs": [
    {
     "data": {
      "text/html": [
       "0.714773052080371"
      ],
      "text/latex": [
       "0.714773052080371"
      ],
      "text/markdown": [
       "0.714773052080371"
      ],
      "text/plain": [
       "[1] 0.7147731"
      ]
     },
     "metadata": {},
     "output_type": "display_data"
    }
   ],
   "source": [
    "summary(lm.reg)$adj.r.squared"
   ]
  },
  {
   "cell_type": "markdown",
   "metadata": {},
   "source": [
    "Our final model is \n",
    "$$\\text{BodyFat} = -42.95790 -0.11994 \\cdot \\text{WEIGHT} + 0.90152 \\cdot \\text{ABDOMEN} $$\n",
    "The coefficients are significant and the adjusted R-squared is 0.7148. \n",
    "When weight increases one additinal unit(lbs), the bodyfat will decrease 0.11994%. When abdomen increases one additional unit(cm), the bodyfat will increase 0.90152%."
   ]
  },
  {
   "cell_type": "markdown",
   "metadata": {},
   "source": [
    "### 3.2 Advantages and disadvantages"
   ]
  },
  {
   "cell_type": "markdown",
   "metadata": {},
   "source": [
    "Advantages: The model is very simple since there are only two variables and it is convenient for users to gain their weight and abdomen data.\n",
    "Disadvantages: Since there are only two variables, we sacrificed some accuracy of this model. Meanwhile, the data of users' abdomen may not be as convenient as variables like height and weight to obtain."
   ]
  },
  {
   "cell_type": "markdown",
   "metadata": {},
   "source": [
    "### 3.3 Model Diagnose & Outliers"
   ]
  },
  {
   "cell_type": "markdown",
   "metadata": {},
   "source": [
    "#### 3.3.1 Assumption diagnose and outlier detection"
   ]
  },
  {
   "cell_type": "markdown",
   "metadata": {},
   "source": [
    "To futherly estimate our model, we draw plots to check the assumptions and outliers for this model. As we can see from the residuals vs fitted values plot, the assumpiton of equal variance and linearity have been satisfied. Besides, From the qqplot, we can see that the normality assumption has been satisfied.We also drew standard / studentized residuals vs fitted values plots and find that there is no significant outlier."
   ]
  },
  {
   "cell_type": "code",
   "execution_count": null,
   "metadata": {},
   "outputs": [],
   "source": []
  },
  {
   "cell_type": "markdown",
   "metadata": {},
   "source": [
    "#### 3.3.2 Influential points detection"
   ]
  },
  {
   "cell_type": "markdown",
   "metadata": {},
   "source": [
    "To determine some influential points, we draw Leverage plot, Diffits plot, Cook's distance plot and Debates plot. Aside from Leverage plot, the other three plots does not find influential points. From the Leverage plot, we find 8 influential points(9,12,35,36,152,216,242th). However, there is no enough evidence showing that they are outliers even though they are infulential."
   ]
  },
  {
   "cell_type": "code",
   "execution_count": null,
   "metadata": {},
   "outputs": [],
   "source": []
  }
 ],
 "metadata": {
  "kernelspec": {
   "display_name": "R",
   "language": "R",
   "name": "ir"
  },
  "language_info": {
   "codemirror_mode": "r",
   "file_extension": ".r",
   "mimetype": "text/x-r-source",
   "name": "R",
   "pygments_lexer": "r",
   "version": "3.6.1"
  }
 },
 "nbformat": 4,
 "nbformat_minor": 2
}
