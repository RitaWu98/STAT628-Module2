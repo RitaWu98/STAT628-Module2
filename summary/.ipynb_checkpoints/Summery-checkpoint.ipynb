{
 "cells": [
  {
   "cell_type": "markdown",
   "metadata": {},
   "source": [
    "<font size=5>**Part I Data Preprocessing**</font> <br/>"
   ]
  },
  {
   "cell_type": "markdown",
   "metadata": {},
   "source": [
    "In the data preprocessing part, we first examine whether the data has abnormal observations from following 3 aspects:\n",
    "1. According to histogram plot of `BODYFAT`, we find that observation `IDNO=182` has feature `BODYFAT=0`, which is apparently can not happen in the real world, therefore we remove this observation.\n",
    "2. As Siri's equation shown, `BODYFAT` goes linear with `1/DENSITY`. After fitting the linear regression model between `BODYFAT` and `1/DENSITY`  we find observations with `IDNO=48,76,96` are outliers according to remedies plots. Since we can not decide neither `BODYFAT` nor `1/DENSITY` are trustworth, we choose to delete these three points.\n",
    "3. According to calculation formula of BMI (BMI=703Weight/Height^2), we find observation `IDNO=42` has apparently wrong height, we remove this observation and re-fit the linear model between `ADIPOSITY` and `WEIGHT/HEIGHT^2`. According to the remedies plots of re-fitted model, observations with `IDNO=163,221` are outliers. After looking through whole data, we cannot determine which feature's value is convincing and finally remove these two outliers. As for observation `IDNO=42`, we use the re-fitted model to correct its height.\n",
    "4. Except for above approches, we also take a look of other features, we find observation with `IDNO=39` has extremely large values in certain features. While we think this kind of person may be truly exist, we choose to keep this observation.\n",
    "\n",
    "\n",
    "\n",
    "After removing several suspectable observations, we fit the full model with remain data and do further detection for linear regression model. It can be shown from the remedies plots of full model that there are no obvious outliers anymore. Except for outliers, we make normal Q-Q plot for residuals and also perform Box-Cox transformation of the full model. Both of these two methods show that remained data are good enough so we have no need to do transformation."
   ]
  },
  {
   "cell_type": "markdown",
   "metadata": {},
   "source": [
    "<font size=5>**Part IV Final Model & Outliers**</font> <br/>\n",
    "\n",
    "<font size=4>**3.1 Final model description**</font> <br/>\n",
    "We choose weight and abdomen as predictiors for body fat as our final model."
   ]
  },
  {
   "cell_type": "code",
   "execution_count": 8,
   "metadata": {},
   "outputs": [],
   "source": [
    "lm.reg=lm(BODYFAT~WEIGHT+ABDOMEN,fat.rm)"
   ]
  },
  {
   "cell_type": "markdown",
   "metadata": {},
   "source": [
    "Our final model is \n",
    "$$\\text{BodyFat} = -42.95790 -0.11994 \\cdot \\text{WEIGHT} + 0.90152 \\cdot \\text{ABDOMEN} $$\n",
    "The coefficients are significant and the adjusted R-squared is 0.7148. \n",
    "When weight increases one additinal unit(lbs), the bodyfat will decrease 0.11994%. When abdomen increases one additional unit(cm), the bodyfat will increase 0.90152%."
   ]
  },
  {
   "cell_type": "markdown",
   "metadata": {},
   "source": [
    "<font size=4>**3.2 Advantages and disadvantages**</font> <br/>\n",
    "**Advantages**: The model is very simple since there are only two variables and it is convenient for users to gain their weight and abdomen data.<br\\>\n",
    "**Disadvantages**: Since there are only two variables, we sacrificed some accuracy of this model. Meanwhile, the data of users' abdomen may not be as convenient as variables like height and weight to obtain."
   ]
  },
  {
   "cell_type": "markdown",
   "metadata": {},
   "source": [
    "<font size=4>**3.3 Model Diagnose & Outliers**</font> <br/>\n",
    "<font size=3>**3.3.1 Assumption diagnose and outlier detection**</font> <br/>\n",
    "To futherly estimate our model, we draw plots to check the assumptions and outliers for this model. As we can see from the residuals vs fitted values plot, the assumpiton of equal variance and linearity have been satisfied. Besides, From the qqplot, we can see that the normality assumption has been satisfied.We also drew standard / studentized residuals vs fitted values plots and find that there is no significant outlier."
   ]
  },
  {
   "cell_type": "code",
   "execution_count": null,
   "metadata": {},
   "outputs": [],
   "source": []
  },
  {
   "cell_type": "markdown",
   "metadata": {},
   "source": [
    "<font size=3>**3.3.2 Influential points detection** </font> <br/>\n",
    "To determine some influential points, we draw Leverage plot, Diffits plot, Cook's distance plot and Debates plot. Aside from Leverage plot, the other three plots does not find influential points. From the Leverage plot, we find 8 influential points(9,12,35,36,152,216,242th). However, there is no enough evidence showing that they are outliers even though they are infulential.\n"
   ]
  },
  {
   "cell_type": "code",
   "execution_count": null,
   "metadata": {},
   "outputs": [],
   "source": []
  }
 ],
 "metadata": {
  "kernelspec": {
   "display_name": "R",
   "language": "R",
   "name": "ir"
  },
  "language_info": {
   "codemirror_mode": "r",
   "file_extension": ".r",
   "mimetype": "text/x-r-source",
   "name": "R",
   "pygments_lexer": "r",
   "version": "3.6.1"
  }
 },
 "nbformat": 4,
 "nbformat_minor": 2
}
